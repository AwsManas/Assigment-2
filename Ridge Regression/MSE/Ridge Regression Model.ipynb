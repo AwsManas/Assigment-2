{
 "cells": [
  {
   "cell_type": "code",
   "execution_count": 1,
   "id": "ae658b53-35ff-4dc3-bbf1-5ef1854ea17e",
   "metadata": {},
   "outputs": [],
   "source": [
    "import numpy  as np\n",
    "import pandas as pd\n",
    "from metrics import MSE\n",
    "from sklearn.linear_model import Ridge"
   ]
  },
  {
   "cell_type": "code",
   "execution_count": 2,
   "id": "a8e9c1e3-2c5e-4fdf-8642-5b5ef6e11ec2",
   "metadata": {},
   "outputs": [],
   "source": [
    "X_train = pd.read_pickle(\"../Datasets/final/X_train.pkl\").drop(columns=[\"gPlusUserId\", \"gPlusPlaceId\"])\n",
    "c = X_train.columns.tolist()\n",
    "X_train = X_train.to_numpy()\n",
    "X_val = pd.read_pickle(\"../Datasets/final/X_val.pkl\").drop(columns=[\"gPlusUserId\", \"gPlusPlaceId\"]).to_numpy()\n",
    "X_test = pd.read_pickle(\"../Datasets/final/X_test.pkl\").drop(columns=[\"gPlusUserId\", \"gPlusPlaceId\"]).to_numpy()\n",
    "y_train = pd.read_pickle(\"../Datasets/final/y_train.pkl\").to_numpy()\n",
    "y_val = pd.read_pickle(\"../Datasets/final/y_val.pkl\").to_numpy()\n",
    "y_test = pd.read_pickle(\"../Datasets/final/y_test.pkl\").to_numpy()"
   ]
  },
  {
   "cell_type": "code",
   "execution_count": 3,
   "id": "9ac4716f-c549-4115-a1ff-e058a3eda2e2",
   "metadata": {},
   "outputs": [
    {
     "name": "stdout",
     "output_type": "stream",
     "text": [
      "Alpha: 0.001, MSE: 0.4198221535644171\n",
      "Alpha: 0.01, MSE: 0.41982215540059326\n",
      "Alpha: 0.1, MSE: 0.4198221731651225\n",
      "Alpha: 1.0, MSE: 0.41982230166146717\n",
      "Alpha: 10.0, MSE: 0.4198221700407061\n",
      "Alpha: 100.0, MSE: 0.4198195635573689\n",
      "Alpha: 1000.0, MSE: 0.41982414476216634\n"
     ]
    }
   ],
   "source": [
    "best_model = None\n",
    "best_mse = np.Inf\n",
    "\n",
    "for alpha in [1e-3, 1e-2, 1e-1, 1e0, 1e1, 1e2, 1e3]:\n",
    "    r = Ridge(alpha=alpha)\n",
    "    r.fit(X_train, y_train)\n",
    "    \n",
    "    y_pred_val = r.predict(X_val)\n",
    "    mse_val = MSE(predictions=y_pred_val, labels=y_val)[0]\n",
    "    print(f\"Alpha: {alpha}, MSE: {mse_val}\")\n",
    "    \n",
    "    if mse_val < best_mse:\n",
    "        best_mse = mse_val\n",
    "        best_model = r"
   ]
  },
  {
   "cell_type": "code",
   "execution_count": 4,
   "id": "94aced5f-9cc7-401f-93c5-fa4716ba5b42",
   "metadata": {},
   "outputs": [
    {
     "data": {
      "text/plain": [
       "(Ridge(alpha=100.0), 0.4198195635573689)"
      ]
     },
     "execution_count": 4,
     "metadata": {},
     "output_type": "execute_result"
    }
   ],
   "source": [
    "best_model, best_mse"
   ]
  },
  {
   "cell_type": "code",
   "execution_count": 5,
   "id": "c1c717cc-2e3a-4926-bc80-1cbcdb5f3010",
   "metadata": {},
   "outputs": [],
   "source": [
    "y_pred = best_model.predict(X_test)"
   ]
  },
  {
   "cell_type": "code",
   "execution_count": 6,
   "id": "3a1e9096-3cc3-4809-9e76-d9de74aeab67",
   "metadata": {},
   "outputs": [
    {
     "data": {
      "text/plain": [
       "0.4171984394646411"
      ]
     },
     "execution_count": 6,
     "metadata": {},
     "output_type": "execute_result"
    }
   ],
   "source": [
    "MSE(predictions=y_pred, labels=y_test)[0]"
   ]
  },
  {
   "cell_type": "code",
   "execution_count": 7,
   "id": "b1251a0b-d067-4a95-87af-02a34437a9d1",
   "metadata": {},
   "outputs": [
    {
     "data": {
      "text/plain": [
       "{'userCategoryAvgRating': 0.9979447363339872,\n",
       " 'year_1990': 0.03630609241807717,\n",
       " 'year_2002': 0.0003773941404473378,\n",
       " 'year_2003': 0.0006178872993894914,\n",
       " 'year_2004': -0.01330845997373743,\n",
       " 'year_2005': -0.008164493601531568,\n",
       " 'year_2006': 0.00045301678640148054,\n",
       " 'year_2007': 0.0028358145726326404,\n",
       " 'year_2008': -0.018343134023336687,\n",
       " 'year_2009': -0.004486869275126905,\n",
       " 'year_2010': 0.0006056686100361295,\n",
       " 'year_2011': -0.016616621027220443,\n",
       " 'year_2012': 0.018896782313159173,\n",
       " 'year_2013': 0.0028657041537730682,\n",
       " 'year_2014': -0.0020387824410434403,\n",
       " 'month_01': -0.003274546082343076,\n",
       " 'month_02': 0.00021056368455661675,\n",
       " 'month_03': -0.0011856370443454783,\n",
       " 'month_04': -0.0031093838538653077,\n",
       " 'month_05': -0.0018412432355680492,\n",
       " 'month_06': 0.015025128535098596,\n",
       " 'month_07': 0.012533218264568016,\n",
       " 'month_08': 0.007338020814773842,\n",
       " 'month_09': 0.0030616400128928817,\n",
       " 'month_10': -0.0080703143978739,\n",
       " 'month_11': -0.009574727788732447,\n",
       " 'month_12': -0.011112718874720283,\n",
       " 'final_category_AssocOrgs': -0.0006215840578768644,\n",
       " 'final_category_Entertainment': 0.0026092415152283964,\n",
       " 'final_category_Legal': 3.517311806253726e-05,\n",
       " 'final_category_Medical': -0.0005700909136756207,\n",
       " 'final_category_Others': -0.0019317970807472644,\n",
       " 'final_category_Public': -0.002671162068376279,\n",
       " 'final_category_Restaurant': 0.00012667863022097284,\n",
       " 'final_category_School': 0.000960239069189371,\n",
       " 'final_category_ShopsStores': 0.0004302304732972099,\n",
       " 'final_category_Venues': 0.0016330713573162589,\n",
       " 'state_AL': -0.003135903832766085,\n",
       " 'state_AR': 0.0065113028572727156,\n",
       " 'state_AZ': 0.0006245191698168421,\n",
       " 'state_CA': 0.004093406594385929,\n",
       " 'state_CO': 0.0008627746685096301,\n",
       " 'state_CT': -0.009110130307970234,\n",
       " 'state_DE': -0.01508101295499982,\n",
       " 'state_GA': 0.002824257367129188,\n",
       " 'state_IA': -0.007839644354018393,\n",
       " 'state_ID': -0.0028067831305840013,\n",
       " 'state_IL': 0.006664423868731468,\n",
       " 'state_IN': 0.005656551109692996,\n",
       " 'state_KS': -0.012119171502960815,\n",
       " 'state_KY': 0.00042076783112478564,\n",
       " 'state_LA': -0.00769062780423794,\n",
       " 'state_MA': 0.0007447695449455652,\n",
       " 'state_MD': -0.005260067005513314,\n",
       " 'state_ME': 0.006077695089369445,\n",
       " 'state_MI': 0.0002357302896184183,\n",
       " 'state_MN': 0.006522363146384531,\n",
       " 'state_MO': 0.0003086029382499393,\n",
       " 'state_MS': -0.013145073799652797,\n",
       " 'state_MT': -0.004884584456028007,\n",
       " 'state_NC': 0.008755291379534813,\n",
       " 'state_ND': -0.0070711465154464715,\n",
       " 'state_NE': -0.017302546536825423,\n",
       " 'state_NH': 0.003924556134674547,\n",
       " 'state_NJ': 0.006998922248240041,\n",
       " 'state_NM': -0.005369539150900907,\n",
       " 'state_NV': -0.003863133022210982,\n",
       " 'state_NY': -0.00022080677071121833,\n",
       " 'state_OH': 0.0005364995075138857,\n",
       " 'state_OK': 0.002722899860223959,\n",
       " 'state_OR': 0.007268683824633594,\n",
       " 'state_PA': -0.0022585460024396172,\n",
       " 'state_RI': 0.010523721092804647,\n",
       " 'state_SC': -0.003762414021687022,\n",
       " 'state_SD': 0.006500579765212363,\n",
       " 'state_TN': -0.00017513786865291114,\n",
       " 'state_TX': 0.010525525502731852,\n",
       " 'state_UT': -0.0034266698881115836,\n",
       " 'state_VA': 0.0011188564565250965,\n",
       " 'state_VT': 0.01042642214323724,\n",
       " 'state_WA': 0.003061682351149664,\n",
       " 'state_WI': 0.005621289833394067,\n",
       " 'state_WV': 0.001975949379913657,\n",
       " 'state_WY': 0.003014894992365701}"
      ]
     },
     "execution_count": 7,
     "metadata": {},
     "output_type": "execute_result"
    }
   ],
   "source": [
    "dict(zip(c, r.coef_[0]))"
   ]
  }
 ],
 "metadata": {
  "kernelspec": {
   "display_name": "Python 3 (ipykernel)",
   "language": "python",
   "name": "python3"
  },
  "language_info": {
   "codemirror_mode": {
    "name": "ipython",
    "version": 3
   },
   "file_extension": ".py",
   "mimetype": "text/x-python",
   "name": "python",
   "nbconvert_exporter": "python",
   "pygments_lexer": "ipython3",
   "version": "3.9.6"
  }
 },
 "nbformat": 4,
 "nbformat_minor": 5
}
