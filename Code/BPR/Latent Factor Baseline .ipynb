{
 "cells": [
  {
   "cell_type": "code",
   "execution_count": null,
   "id": "ae658b53-35ff-4dc3-bbf1-5ef1854ea17e",
   "metadata": {},
   "outputs": [],
   "source": [
    "import numpy  as np\n",
    "import pandas as pd\n",
    "from sklearn.linear_model import LinearRegression, Ridge\n",
    "from sklearn.model_selection import train_test_split\n",
    "from tqdm import tqdm"
   ]
  },
  {
   "cell_type": "code",
   "execution_count": null,
   "id": "3058aeca-d86d-4ef5-ae29-4f4cad08ae8a",
   "metadata": {},
   "outputs": [],
   "source": [
    "def MSE(predictions, labels):\n",
    "    differences = [(x-y)**2 for x,y in zip(np.array(predictions),np.array(labels))]\n",
    "    return sum(differences) / len(differences)\n",
    "\n",
    "def MAE(predictions, labels):\n",
    "    differences = [abs(x - y) for x, y in zip(predictions, labels)]\n",
    "    return sum(differences) / len(differences)\n",
    "\n",
    "\n",
    "def RMSE(predictions, labels):\n",
    "    differences = [(x - y) ** 2 for x, y in zip(predictions, labels)]\n",
    "    return (sum(differences) ** 0.5) / len(differences)\n",
    "  "
   ]
  },
  {
   "cell_type": "code",
   "execution_count": null,
   "id": "0608cf7d-ff0e-48da-b586-e05d9b231831",
   "metadata": {},
   "outputs": [],
   "source": [
    "df = pd.read_pickle(\"../Datasets/USA_data_final_prep.pkl\")\n",
    "df = df.sample(frac=1).reset_index(drop=True)"
   ]
  },
  {
   "cell_type": "code",
   "execution_count": null,
   "id": "2d28e717-958a-4f5f-a0c8-72fd1dcf1935",
   "metadata": {},
   "outputs": [],
   "source": [
    "df2 = df[df[\"year_2001\"] != 1].drop(columns=[\"year_2001\"])"
   ]
  },
  {
   "cell_type": "code",
   "execution_count": null,
   "id": "73dde32b",
   "metadata": {},
   "outputs": [],
   "source": [
    "dfs"
   ]
  },
  {
   "cell_type": "code",
   "execution_count": null,
   "id": "0f4f65ab",
   "metadata": {},
   "outputs": [],
   "source": [
    "df2"
   ]
  },
  {
   "cell_type": "code",
   "execution_count": null,
   "id": "ba2f53bf",
   "metadata": {},
   "outputs": [],
   "source": [
    "df2.columns"
   ]
  },
  {
   "cell_type": "code",
   "execution_count": null,
   "id": "cb709e4c-7087-4e2a-9aa0-e168f78b8949",
   "metadata": {},
   "outputs": [],
   "source": [
    "X = np.array(df2.drop(columns=[\"rating\"]))\n",
    "y = np.array(df2[[\"rating\"]])"
   ]
  },
  {
   "cell_type": "code",
   "execution_count": null,
   "id": "971f7276",
   "metadata": {},
   "outputs": [],
   "source": [
    "X_train, X_test, y_train, y_test = train_test_split(X, y, test_size=0.2, random_state=1) \n",
    "X_train, X_val, y_train, y_val = train_test_split(X_train, y_train, test_size=0.25, random_state=1)"
   ]
  },
  {
   "cell_type": "code",
   "execution_count": null,
   "id": "78f2fdf7-a7b0-4aee-9f8e-832183e292f8",
   "metadata": {},
   "outputs": [],
   "source": [
    "len(X_train),len(X_test),len(X_val)"
   ]
  },
  {
   "cell_type": "code",
   "execution_count": null,
   "id": "82c438af",
   "metadata": {},
   "outputs": [],
   "source": [
    "clms = list(df2.columns)\n",
    "print(len(clms))\n",
    "clms.remove(\"rating\")"
   ]
  },
  {
   "cell_type": "code",
   "execution_count": null,
   "id": "7fb6aed0",
   "metadata": {},
   "outputs": [],
   "source": [
    "len(clms)"
   ]
  },
  {
   "cell_type": "code",
   "execution_count": null,
   "id": "9c238c35",
   "metadata": {},
   "outputs": [],
   "source": [
    "len(X_train)"
   ]
  },
  {
   "cell_type": "code",
   "execution_count": null,
   "id": "96b0df71",
   "metadata": {},
   "outputs": [],
   "source": []
  },
  {
   "cell_type": "code",
   "execution_count": null,
   "id": "08b3a9db",
   "metadata": {},
   "outputs": [],
   "source": []
  },
  {
   "cell_type": "code",
   "execution_count": null,
   "id": "64a5a5fe",
   "metadata": {},
   "outputs": [],
   "source": []
  },
  {
   "cell_type": "code",
   "execution_count": null,
   "id": "b4ae17ac",
   "metadata": {},
   "outputs": [],
   "source": [
    "dataset_dir = \"../Datasets/final/\""
   ]
  },
  {
   "cell_type": "code",
   "execution_count": null,
   "id": "72660cd0",
   "metadata": {},
   "outputs": [],
   "source": [
    "np_x = pd.DataFrame(X_train,columns = clms)\n",
    "np_x.to_pickle(dataset_dir+\"X_train.pkl\")\n",
    "\n",
    "np_x = pd.DataFrame(X_val,columns = clms)\n",
    "np_x.to_pickle(dataset_dir+\"X_val.pkl\")\n",
    "\n",
    "np_x = pd.DataFrame(X_test,columns = clms)\n",
    "np_x.to_pickle(dataset_dir+\"X_test.pkl\")\n",
    "\n",
    "\n"
   ]
  },
  {
   "cell_type": "code",
   "execution_count": null,
   "id": "5de6d856",
   "metadata": {},
   "outputs": [],
   "source": [
    "np_y = pd.DataFrame(y_train,columns = [\"rating\"])\n",
    "np_y.to_pickle(dataset_dir+\"y_train.pkl\")\n",
    "\n",
    "np_y = pd.DataFrame(y_test,columns = [\"rating\"])\n",
    "np_y.to_pickle(dataset_dir+\"y_test.pkl\")\n",
    "\n",
    "\n",
    "np_y = pd.DataFrame(y_val,columns = [\"rating\"])\n",
    "np_y.to_pickle(dataset_dir+\"y_val.pkl\")\n",
    "\n"
   ]
  },
  {
   "cell_type": "code",
   "execution_count": null,
   "id": "506277a0",
   "metadata": {},
   "outputs": [],
   "source": [
    "import os\n",
    "print(os.getcwd())"
   ]
  },
  {
   "cell_type": "code",
   "execution_count": null,
   "id": "cdc3040e",
   "metadata": {},
   "outputs": [],
   "source": [
    "X_train = pd.read_pickle(dataset_dir+\"X_train.pkl\")\n",
    "y_train = pd.read_pickle(dataset_dir+\"y_train.pkl\")"
   ]
  },
  {
   "cell_type": "code",
   "execution_count": null,
   "id": "3b0b92a9",
   "metadata": {},
   "outputs": [],
   "source": [
    "X_train.head()"
   ]
  },
  {
   "cell_type": "code",
   "execution_count": null,
   "id": "836d4853",
   "metadata": {},
   "outputs": [],
   "source": [
    "y_train.head()"
   ]
  },
  {
   "cell_type": "code",
   "execution_count": null,
   "id": "45ab9b4f",
   "metadata": {},
   "outputs": [],
   "source": [
    "X = pd.DataFrame()\n",
    "X[\"user\"] = X_train[\"gPlusUserId\"]\n",
    "X[\"id\"] = X_train[\"gPlusPlaceId\"]\n",
    "X[\"review\"] = y_train[\"rating\"]"
   ]
  },
  {
   "cell_type": "code",
   "execution_count": null,
   "id": "23d98056",
   "metadata": {},
   "outputs": [],
   "source": [
    "len(X)"
   ]
  },
  {
   "cell_type": "code",
   "execution_count": null,
   "id": "9ccce797",
   "metadata": {},
   "outputs": [],
   "source": [
    "X.user[0]"
   ]
  },
  {
   "cell_type": "code",
   "execution_count": null,
   "id": "f87f6cc4",
   "metadata": {},
   "outputs": [],
   "source": [
    "from collections import defaultdict"
   ]
  },
  {
   "cell_type": "code",
   "execution_count": null,
   "id": "b1251a0b-d067-4a95-87af-02a34437a9d1",
   "metadata": {},
   "outputs": [],
   "source": [
    "ratingsPerUser = defaultdict(list)\n",
    "ratingsPerItem = defaultdict(list)\n",
    "users = set()\n",
    "items = set()\n",
    "summ = 0\n",
    "for i in range(len(X)):\n",
    "    u = X.user[i]\n",
    "    b = X.id[i]\n",
    "    r = X.review[i]\n",
    "    ratingsPerUser[u].append((b,r))\n",
    "    ratingsPerItem[b].append((u,r))\n",
    "    users.add(u)\n",
    "    items.add(b)\n",
    "    summ = summ+ r\n",
    "summ /= len(X)"
   ]
  },
  {
   "cell_type": "code",
   "execution_count": null,
   "id": "06eadba3",
   "metadata": {},
   "outputs": [],
   "source": [
    "print(summ)"
   ]
  },
  {
   "cell_type": "code",
   "execution_count": null,
   "id": "3a1e9096-3cc3-4809-9e76-d9de74aeab67",
   "metadata": {},
   "outputs": [],
   "source": [
    "def train(lmd):\n",
    "    alpha = summ\n",
    "    Beta_u = defaultdict(float)\n",
    "    Beta_i = defaultdict(float)\n",
    "    flag = True\n",
    "    prev = 10000\n",
    "    Flag = True\n",
    "    while Flag==True:\n",
    "        a_=0\n",
    "        for i in range(len(X)):\n",
    "            u = X.user[i]\n",
    "            b = X.id[i]\n",
    "            r = X.review[i]\n",
    "            a_+= r - (Beta_u[u] - Beta_i[b])\n",
    "        alpha = a_ / len(X)\n",
    "        for u in ratingsPerUser:\n",
    "            b_= 0 \n",
    "            for (b,r) in ratingsPerUser[u]:\n",
    "                b_+= r - alpha - Beta_i[b]\n",
    "            Beta_u[u] = b_ / (lmd + len(ratingsPerUser[u]))\n",
    "        for i in ratingsPerItem:\n",
    "            i_=0\n",
    "            for(u,r) in  ratingsPerItem[i]:\n",
    "                i_+= r - alpha - Beta_u[u]\n",
    "            Beta_i[i] = i_ / (lmd + len(ratingsPerItem[i]))\n",
    "        mse  = 0\n",
    "        for i in range(len(X)):\n",
    "            u = X.user[i]\n",
    "            b = X.id[i]\n",
    "            r = X.review[i]\n",
    "            mse+= (r - alpha - Beta_u[u] - Beta_i[b])**2\n",
    "        obj = 0\n",
    "        for u in Beta_u:\n",
    "            obj+= Beta_u[u]**2\n",
    "        for i in Beta_i:\n",
    "            obj+= Beta_i[i]**2\n",
    "        if abs(mse + lmd*obj - prev ) < 0.001:\n",
    "            Flag = False\n",
    "        #print(mse)\n",
    "        #print(lmd*obj)\n",
    "        print(\"Loss was \",prev)\n",
    "        prev = mse + lmd*obj\n",
    "    return alpha , Beta_u , Beta_i"
   ]
  },
  {
   "cell_type": "code",
   "execution_count": null,
   "id": "5728cc50",
   "metadata": {},
   "outputs": [],
   "source": [
    "al , bu , bi = train(1)"
   ]
  },
  {
   "cell_type": "code",
   "execution_count": null,
   "id": "c6ace919",
   "metadata": {},
   "outputs": [],
   "source": []
  },
  {
   "cell_type": "code",
   "execution_count": null,
   "id": "40beb963",
   "metadata": {},
   "outputs": [],
   "source": [
    "def average_u(usr):\n",
    "    s = 0.0 \n",
    "    c = 0.0\n",
    "    for i in range(len(X)):\n",
    "        u = X.user[i]\n",
    "        b = X.id[i]\n",
    "        r = X.review[i]\n",
    "        if usr == u:\n",
    "            s+=r\n",
    "            c+=1\n",
    "    return s/c\n",
    "def average_i(itm):\n",
    "    s = 0.0 \n",
    "    c = 0.0\n",
    "    for i in range(len(X)):\n",
    "        u = X.user[i]\n",
    "        b = X.id[i]\n",
    "        r = X.review[i]\n",
    "        if b == itm:\n",
    "            s+=r\n",
    "            c+=1\n",
    "    return s/c\n",
    "def average_dt():\n",
    "    return summ"
   ]
  },
  {
   "cell_type": "code",
   "execution_count": null,
   "id": "733c4a0c",
   "metadata": {},
   "outputs": [],
   "source": [
    "dic_global_i = {}\n",
    "dic_global_u = {}"
   ]
  },
  {
   "cell_type": "code",
   "execution_count": null,
   "id": "e6283c88",
   "metadata": {},
   "outputs": [],
   "source": [
    "def pred2(u,i,al,bu,bi):\n",
    "    p = 0 \n",
    "    if u in bu and i in bi:\n",
    "        p = al + bu[u] + bi[i]\n",
    "    else:\n",
    "        p = summ\n",
    "#     elif u not in bu and i not in bi:\n",
    "#         p =  average_dt()\n",
    "#     elif u not in bu:\n",
    "#         if i in dic_global_i:\n",
    "#             p = dic_global_i[i]\n",
    "#         else:\n",
    "#             p = average_i(i)\n",
    "#             dic_global_i[i] = p\n",
    "#     else:\n",
    "#         if u in dic_global_u:\n",
    "#             p = dic_global_u[u]\n",
    "#         else:\n",
    "#             p = average_u(u)\n",
    "#             dic_global_u[u] = p\n",
    "        \n",
    "    p = min(p,5)\n",
    "    p = max(p,0)\n",
    "    return p "
   ]
  },
  {
   "cell_type": "code",
   "execution_count": null,
   "id": "7a6e4f07",
   "metadata": {},
   "outputs": [],
   "source": []
  },
  {
   "cell_type": "code",
   "execution_count": null,
   "id": "774e78a8",
   "metadata": {},
   "outputs": [],
   "source": [
    "# Performance on training \n",
    "pred = []\n",
    "y = []\n",
    "for i in range(len(X)):\n",
    "    u = X.user[i]\n",
    "    b = X.id[i]\n",
    "    r = X.review[i]\n",
    "    y.append(r)\n",
    "    pred.append(pred2(u,b,al,bu,bi))    "
   ]
  },
  {
   "cell_type": "code",
   "execution_count": null,
   "id": "add4ddf5",
   "metadata": {},
   "outputs": [],
   "source": [
    "len(pred),len(y)"
   ]
  },
  {
   "cell_type": "code",
   "execution_count": null,
   "id": "1ba1cef3",
   "metadata": {},
   "outputs": [],
   "source": [
    "MSE(pred,y)"
   ]
  },
  {
   "cell_type": "code",
   "execution_count": null,
   "id": "e2cdecf4",
   "metadata": {},
   "outputs": [],
   "source": [
    "MAE(pred,y)"
   ]
  },
  {
   "cell_type": "code",
   "execution_count": null,
   "id": "9b98ed40",
   "metadata": {},
   "outputs": [],
   "source": [
    "RMSE(pred,y)"
   ]
  },
  {
   "cell_type": "code",
   "execution_count": null,
   "id": "73c70829",
   "metadata": {},
   "outputs": [],
   "source": [
    "# Validation set testing \n",
    "X_val = pd.read_pickle(dataset_dir+\"X_val.pkl\")\n",
    "y_val = pd.read_pickle(dataset_dir+\"y_val.pkl\")\n",
    "X_v = pd.DataFrame()\n",
    "X_v[\"user\"] = X_val[\"gPlusUserId\"]\n",
    "X_v[\"id\"] = X_val[\"gPlusPlaceId\"]\n",
    "X_v[\"review\"] = y_val[\"rating\"]"
   ]
  },
  {
   "cell_type": "code",
   "execution_count": null,
   "id": "6750a271",
   "metadata": {},
   "outputs": [],
   "source": [
    "pred = []\n",
    "y = []\n",
    "for i in tqdm(range(len(X_v))):\n",
    "    u = X_v.user[i]\n",
    "    b = X_v.id[i]\n",
    "    r = X_v.review[i]\n",
    "    y.append(r)\n",
    "    pred.append(pred2(u,b,al,bu,bi))  \n",
    "print(MAE(pred,y))\n",
    "print(MSE(pred,y))"
   ]
  },
  {
   "cell_type": "code",
   "execution_count": null,
   "id": "8aafa85f",
   "metadata": {},
   "outputs": [],
   "source": [
    "lamdas = [0.1,0.5,1,2,5,10]\n",
    "for lmd in lamdas:\n",
    "    al , bu , bi = train(lmd)\n",
    "    Pr = []\n",
    "    y_valid = []\n",
    "    for i in tqdm(range(len(X_v))):\n",
    "        u = X_v.user[i]\n",
    "        b = X_v.id[i]\n",
    "        r = X_v.review[i]\n",
    "        y_valid.append(r)\n",
    "        Pr.append(pred2(u,b,al,bu,bi))\n",
    "    validMSE = MSE(y_valid,Pr)\n",
    "    validMAE = MAE(y_valid,Pr)\n",
    "    print(lmd, \"---- \",validMSE,\" \",validMAE)"
   ]
  },
  {
   "cell_type": "code",
   "execution_count": null,
   "id": "0d76973a",
   "metadata": {},
   "outputs": [],
   "source": []
  },
  {
   "cell_type": "code",
   "execution_count": null,
   "id": "86e033f3",
   "metadata": {},
   "outputs": [],
   "source": [
    "X_test = pd.read_pickle(dataset_dir+\"X_test.pkl\")\n",
    "y_test = pd.read_pickle(dataset_dir+\"y_test.pkl\")\n",
    "X_t = pd.DataFrame()\n",
    "X_t[\"user\"] = X_test[\"gPlusUserId\"]\n",
    "X_t[\"id\"] = X_test[\"gPlusPlaceId\"]\n",
    "X_t[\"review\"] = y_test[\"rating\"]"
   ]
  },
  {
   "cell_type": "code",
   "execution_count": null,
   "id": "3c4fcace",
   "metadata": {},
   "outputs": [],
   "source": [
    "len(X_t)"
   ]
  },
  {
   "cell_type": "code",
   "execution_count": null,
   "id": "2a71e23e",
   "metadata": {},
   "outputs": [],
   "source": [
    "lmd = 2\n",
    "al , bu , bi = train(lmd)\n",
    "p_t = []\n",
    "y_train = []\n",
    "Pr = []\n",
    "y_valid = []\n",
    "y_test =[]\n",
    "pred_test = []\n",
    "for i in range(len(X)):\n",
    "    u = X.user[i]\n",
    "    b = X.id[i]\n",
    "    r = X.review[i]\n",
    "    y_train.append(r)\n",
    "    p_t.append(pred2(u,b,al,bu,bi))\n",
    "TMSE = MSE(y_train,p_t)\n",
    "TMAE = MAE(y_train,p_t)\n",
    "print(\"Train ---- \",TMSE,\" \",TMAE)\n",
    "for i in tqdm(range(len(X_v))):\n",
    "    u = X_v.user[i]\n",
    "    b = X_v.id[i]\n",
    "    r = X_v.review[i]\n",
    "    y_valid.append(r)\n",
    "    Pr.append(pred2(u,b,al,bu,bi))\n",
    "    \n",
    "validMSE = MSE(y_valid,Pr)\n",
    "validMAE = MAE(y_valid,Pr)\n",
    "print(\"Validation ---- \",validMSE,\" \",validMAE)\n",
    "\n",
    "for i in tqdm(range(len(X_t))):\n",
    "    u = X_t.user[i]\n",
    "    b = X_t.id[i]\n",
    "    r = X_t.review[i]\n",
    "    y_test.append(r)\n",
    "    pred_test.append(pred2(u,b,al,bu,bi))\n",
    "    \n",
    "TMSE = MSE(y_test,pred_test)\n",
    "TMAE = MAE(y_test,pred_test)\n",
    "print(\"Test ---- \",TMSE,\" \",TMAE)"
   ]
  },
  {
   "cell_type": "code",
   "execution_count": null,
   "id": "b80dc701",
   "metadata": {},
   "outputs": [],
   "source": []
  },
  {
   "cell_type": "code",
   "execution_count": null,
   "id": "1d90c79c",
   "metadata": {},
   "outputs": [],
   "source": [
    "# Doing same thing without temporal features "
   ]
  },
  {
   "cell_type": "code",
   "execution_count": null,
   "id": "899a04b5",
   "metadata": {},
   "outputs": [],
   "source": [
    "X_train = pd.read_pickle(\"../Datasets/temporal/final/X_train.pkl\")\n",
    "X_val = pd.read_pickle(\"../Datasets/temporal/final/X_val.pkl\")\n",
    "X_test = pd.read_pickle(\"../Datasets/temporal/final/X_test.pkl\")\n",
    "y_train = pd.read_pickle(\"../Datasets/temporal/final/y_train.pkl\")\n",
    "y_val = pd.read_pickle(\"../Datasets/temporal/final/y_val.pkl\")\n",
    "y_test = pd.read_pickle(\"../Datasets/temporal/final/y_test.pkl\")"
   ]
  },
  {
   "cell_type": "code",
   "execution_count": null,
   "id": "1b30bfee",
   "metadata": {},
   "outputs": [],
   "source": [
    "X_train.head()"
   ]
  },
  {
   "cell_type": "code",
   "execution_count": null,
   "id": "c18ee241",
   "metadata": {},
   "outputs": [],
   "source": [
    "X = pd.DataFrame()\n",
    "X[\"user\"] = X_train[\"gPlusUserId\"]\n",
    "X[\"id\"] = X_train[\"gPlusPlaceId\"]\n",
    "X[\"review\"] = y_train[\"rating\"]"
   ]
  },
  {
   "cell_type": "code",
   "execution_count": null,
   "id": "1a64aa70",
   "metadata": {},
   "outputs": [],
   "source": [
    "ratingsPerUser = defaultdict(list)\n",
    "ratingsPerItem = defaultdict(list)\n",
    "users = set()\n",
    "items = set()\n",
    "summ = 0\n",
    "for i in range(len(X)):\n",
    "    u = X.user[i]\n",
    "    b = X.id[i]\n",
    "    r = X.review[i]\n",
    "    ratingsPerUser[u].append((b,r))\n",
    "    ratingsPerItem[b].append((u,r))\n",
    "    users.add(u)\n",
    "    items.add(b)\n",
    "    summ = summ+ r\n",
    "summ /= len(X)"
   ]
  },
  {
   "cell_type": "code",
   "execution_count": null,
   "id": "6a9c7b30",
   "metadata": {},
   "outputs": [],
   "source": [
    "al , bu , bi = train(1)"
   ]
  },
  {
   "cell_type": "code",
   "execution_count": null,
   "id": "4fe87780",
   "metadata": {},
   "outputs": [],
   "source": [
    "X_v = pd.DataFrame()\n",
    "X_v[\"user\"] = X_val[\"gPlusUserId\"]\n",
    "X_v[\"id\"] = X_val[\"gPlusPlaceId\"]\n",
    "X_v[\"review\"] = y_val[\"rating\"]"
   ]
  },
  {
   "cell_type": "code",
   "execution_count": null,
   "id": "1b31c431",
   "metadata": {
    "scrolled": false
   },
   "outputs": [],
   "source": [
    "lamdas = [0.5,1,2,4,5,10]\n",
    "for lmd in lamdas:\n",
    "    al , bu , bi = train(lmd)\n",
    "    Pr = []\n",
    "    y_valid = []\n",
    "    for i in tqdm(range(len(X_v))):\n",
    "        u = X_v.user[i]\n",
    "        b = X_v.id[i]\n",
    "        r = X_v.review[i]\n",
    "        y_valid.append(r)\n",
    "        Pr.append(pred2(u,b,al,bu,bi))\n",
    "    validMSE = MSE(y_valid,Pr)\n",
    "    validMAE = MAE(y_valid,Pr)\n",
    "    print(lmd, \"---- \",validMSE,\" \",validMAE)"
   ]
  },
  {
   "cell_type": "code",
   "execution_count": null,
   "id": "d4fdebfb",
   "metadata": {
    "scrolled": false
   },
   "outputs": [],
   "source": [
    "lamdas = [0.1,0.2,0.3,0.4]\n",
    "for lmd in lamdas:\n",
    "    al , bu , bi = train(lmd)\n",
    "    Pr = []\n",
    "    y_valid = []\n",
    "    for i in tqdm(range(len(X_v))):\n",
    "        u = X_v.user[i]\n",
    "        b = X_v.id[i]\n",
    "        r = X_v.review[i]\n",
    "        y_valid.append(r)\n",
    "        Pr.append(pred2(u,b,al,bu,bi))\n",
    "    validMSE = MSE(y_valid,Pr)\n",
    "    validMAE = MAE(y_valid,Pr)\n",
    "    print(lmd, \"---- \",validMSE,\" \",validMAE)"
   ]
  },
  {
   "cell_type": "code",
   "execution_count": null,
   "id": "850140db",
   "metadata": {},
   "outputs": [],
   "source": [
    "X_t = pd.DataFrame()\n",
    "X_t[\"user\"] = X_test[\"gPlusUserId\"]\n",
    "X_t[\"id\"] = X_test[\"gPlusPlaceId\"]\n",
    "X_t[\"review\"] = y_test[\"rating\"]"
   ]
  },
  {
   "cell_type": "code",
   "execution_count": null,
   "id": "d3fa4be5",
   "metadata": {},
   "outputs": [],
   "source": [
    "X_t = X_t.reset_index(drop=True)"
   ]
  },
  {
   "cell_type": "code",
   "execution_count": null,
   "id": "34de8d3c",
   "metadata": {
    "scrolled": false
   },
   "outputs": [],
   "source": [
    "lmd = 0.1\n",
    "al , bu , bi = train(lmd)\n",
    "p_t = []\n",
    "y_train = []\n",
    "Pr = []\n",
    "y_valid = []\n",
    "y_test =[]\n",
    "pred_test = []\n",
    "for i in range(len(X)):\n",
    "    u = X.user[i]\n",
    "    b = X.id[i]\n",
    "    r = X.review[i]\n",
    "    y_train.append(r)\n",
    "    p_t.append(pred2(u,b,al,bu,bi))\n",
    "TMSE = MSE(y_train,p_t)\n",
    "TMAE = MAE(y_train,p_t)\n",
    "print(\"Train ---- \",TMSE,\" \",TMAE)\n",
    "pred_test = []\n",
    "for i in tqdm(range(len(X_v))):\n",
    "    u = X_v.user[i]\n",
    "    b = X_v.id[i]\n",
    "    r = X_v.review[i]\n",
    "    y_valid.append(r)\n",
    "    Pr.append(pred2(u,b,al,bu,bi))\n",
    "    \n",
    "validMSE = MSE(y_valid,Pr)\n",
    "validMAE = MAE(y_valid,Pr)\n",
    "print(\"Validation ---- \",validMSE,\" \",validMAE)\n",
    "\n"
   ]
  },
  {
   "cell_type": "code",
   "execution_count": null,
   "id": "95ec1eb3",
   "metadata": {},
   "outputs": [],
   "source": [
    "pred_test = []\n",
    "for i in tqdm(range(len(X_t))):\n",
    "    u = X_t.user[i]\n",
    "    b = X_t.id[i]\n",
    "    pred_test.append(pred2(u,b,al,bu,bi))\n",
    "    \n",
    "TMSE = MSE(y_test[\"rating\"],pred_test)\n",
    "TMAE = MAE(y_test[\"rating\"],pred_test)\n",
    "print(\"Test ---- \",TMSE,\" \",TMAE)"
   ]
  },
  {
   "cell_type": "code",
   "execution_count": null,
   "id": "3768e314",
   "metadata": {},
   "outputs": [],
   "source": []
  },
  {
   "cell_type": "code",
   "execution_count": null,
   "id": "de4dd5fa",
   "metadata": {},
   "outputs": [],
   "source": [
    "summ"
   ]
  },
  {
   "cell_type": "code",
   "execution_count": null,
   "id": "a4351c5d",
   "metadata": {},
   "outputs": [],
   "source": [
    "## What happens if we predict mean every time \n",
    "pred_test = []\n",
    "for i in tqdm(range(len(X_t))):\n",
    "    pred_test.append(summ)\n",
    "    \n",
    "TMSE = MSE(y_test[\"rating\"],pred_test)\n",
    "TMAE = MAE(y_test[\"rating\"],pred_test)\n",
    "print(\"Test ---- \",TMSE,\" \",TMAE)"
   ]
  },
  {
   "cell_type": "code",
   "execution_count": null,
   "id": "f4f942d2",
   "metadata": {},
   "outputs": [],
   "source": []
  }
 ],
 "metadata": {
  "kernelspec": {
   "display_name": "Python 3 (ipykernel)",
   "language": "python",
   "name": "python3"
  },
  "language_info": {
   "codemirror_mode": {
    "name": "ipython",
    "version": 3
   },
   "file_extension": ".py",
   "mimetype": "text/x-python",
   "name": "python",
   "nbconvert_exporter": "python",
   "pygments_lexer": "ipython3",
   "version": "3.10.6"
  }
 },
 "nbformat": 4,
 "nbformat_minor": 5
}
