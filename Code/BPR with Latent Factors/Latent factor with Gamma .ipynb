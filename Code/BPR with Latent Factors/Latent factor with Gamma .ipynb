{
 "cells": [
  {
   "cell_type": "code",
   "execution_count": 45,
   "id": "b0547eb3",
   "metadata": {},
   "outputs": [],
   "source": [
    "import numpy  as np\n",
    "import pandas as pd\n",
    "from sklearn.linear_model import LinearRegression, Ridge\n",
    "from sklearn.model_selection import train_test_split\n",
    "from tqdm import tqdm\n",
    "import numpy\n",
    "import urllib\n",
    "import scipy.optimize\n",
    "import random\n",
    "from math import exp\n",
    "from math import log\n",
    "from collections import defaultdict\n",
    "import gzip\n",
    "import pandas as pd\n",
    "import copy"
   ]
  },
  {
   "cell_type": "code",
   "execution_count": 46,
   "id": "d81210fe",
   "metadata": {},
   "outputs": [],
   "source": [
    "def MSE(predictions, labels):\n",
    "    differences = [(x-y)**2 for x,y in zip(np.array(predictions),np.array(labels))]\n",
    "    return sum(differences) / len(differences)\n",
    "\n",
    "def MAE(predictions, labels):\n",
    "    differences = [abs(x - y) for x, y in zip(predictions, labels)]\n",
    "    return sum(differences) / len(differences)\n",
    "\n",
    "\n",
    "def RMSE(predictions, labels):\n",
    "    differences = [(x - y) ** 2 for x, y in zip(predictions, labels)]\n",
    "    return (sum(differences) ** 0.5) / len(differences)\n",
    "  "
   ]
  },
  {
   "cell_type": "code",
   "execution_count": 4,
   "id": "65f55b9a",
   "metadata": {},
   "outputs": [],
   "source": [
    "dataset_dir = \"../Datasets/final/\"\n",
    "X_train = pd.read_pickle(dataset_dir+\"X_train.pkl\")\n",
    "y_train = pd.read_pickle(dataset_dir+\"y_train.pkl\")"
   ]
  },
  {
   "cell_type": "code",
   "execution_count": 6,
   "id": "06331350",
   "metadata": {},
   "outputs": [],
   "source": [
    "X = pd.DataFrame()\n",
    "X[\"user\"] = X_train[\"gPlusUserId\"]\n",
    "X[\"id\"] = X_train[\"gPlusPlaceId\"]\n",
    "X[\"review\"] = y_train[\"rating\"]"
   ]
  },
  {
   "cell_type": "code",
   "execution_count": 20,
   "id": "30e82d61",
   "metadata": {},
   "outputs": [
    {
     "name": "stdout",
     "output_type": "stream",
     "text": [
      "3.8368615036650597\n"
     ]
    }
   ],
   "source": [
    "ratingsPerUser = defaultdict(list)\n",
    "ratingsPerItem = defaultdict(list)\n",
    "users = set()\n",
    "items = set()\n",
    "labels = []\n",
    "summ = 0\n",
    "for i in range(len(X)):\n",
    "    u = X.user[i]\n",
    "    b = X.id[i]\n",
    "    r = X.review[i]\n",
    "    ratingsPerUser[u].append((b,r))\n",
    "    ratingsPerItem[b].append((u,r))\n",
    "    users.add(u)\n",
    "    items.add(b)\n",
    "    labels.append(r)\n",
    "    summ = summ+ r\n",
    "summ /= len(X)\n",
    "print(summ)"
   ]
  },
  {
   "cell_type": "code",
   "execution_count": 21,
   "id": "28fcfc89",
   "metadata": {},
   "outputs": [],
   "source": [
    "alpha = summ\n"
   ]
  },
  {
   "cell_type": "code",
   "execution_count": 22,
   "id": "96299d7f",
   "metadata": {},
   "outputs": [],
   "source": [
    "userBiases = defaultdict(float)\n",
    "itemBiases = defaultdict(float)\n",
    "userGamma = {}\n",
    "itemGamma = {}\n",
    "users = list(users)\n",
    "items = list(items)\n",
    "K = 5 \n",
    "for u in users:\n",
    "    userGamma[u] = [random.random() * 0.1 - 0.05 for k in range(K)]\n",
    "for i in items:\n",
    "    itemGamma[i] = [random.random() * 0.1 - 0.05 for k in range(K)]"
   ]
  },
  {
   "cell_type": "code",
   "execution_count": null,
   "id": "ee1b232d",
   "metadata": {},
   "outputs": [],
   "source": []
  },
  {
   "cell_type": "code",
   "execution_count": 35,
   "id": "3e4d0ff1",
   "metadata": {},
   "outputs": [],
   "source": [
    "def unpack(theta):\n",
    "    global alpha\n",
    "    global userBiases\n",
    "    global itemBiases\n",
    "    global userGamma\n",
    "    global itemGamma\n",
    "    index = 0\n",
    "    alpha = theta[index]\n",
    "    index += 1\n",
    "    userBiases = dict(zip(users, theta[index:index+nUsers]))\n",
    "    index += nUsers\n",
    "    itemBiases = dict(zip(items, theta[index:index+nItems]))\n",
    "    index += nItems\n",
    "    for u in users:\n",
    "        userGamma[u] = theta[index:index+K]\n",
    "        index += K\n",
    "    for i in items:\n",
    "        itemGamma[i] = theta[index:index+K]\n",
    "        index += K\n",
    "\n",
    "\n",
    "\n",
    "def inner(x, y):\n",
    "    return sum([a*b for a,b in zip(x,y)])\n",
    "\n",
    "def dotprod(x,y):\n",
    "    return x.dot(y.transpose())\n",
    "\n",
    "def prediction(user, item):\n",
    "    if user in userBiases and item in itemBiases:\n",
    "            return alpha + userBiases[user] + itemBiases[item] + inner(userGamma[user], itemGamma[item])\n",
    "    else:\n",
    "        return alpha\n",
    "    \n",
    "def cost(theta, labels, lamb):\n",
    "    unpack(theta)\n",
    "    predictions = [prediction(d['user'], d['id']) for index,d in X.iterrows()]\n",
    "    cost = MSE(predictions, labels)\n",
    "    print(\"MSE = \" + str(cost))\n",
    "    for u in users:\n",
    "        cost += lamb*userBiases[u]**2\n",
    "        for k in range(K):\n",
    "            cost += lamb*userGamma[u][k]**2\n",
    "    for i in items:\n",
    "        cost += lamb*itemBiases[i]**2\n",
    "        for k in range(K):\n",
    "            cost += lamb*itemGamma[i][k]**2\n",
    "    return cost\n",
    "\n",
    "\n",
    "def derivative(theta, labels, lamb):\n",
    "    unpack(theta)\n",
    "    N = len(X)\n",
    "    dalpha = 0\n",
    "    dUserBiases = defaultdict(float)\n",
    "    dItemBiases = defaultdict(float)\n",
    "    dUserGamma = {}\n",
    "    dItemGamma = {}\n",
    "    for u in ratingsPerUser:\n",
    "        dUserGamma[u] = [0.0 for k in range(K)]\n",
    "    for i in ratingsPerItem:\n",
    "        dItemGamma[i] = [0.0 for k in range(K)]\n",
    "    for index, d in X.iterrows():\n",
    "        u,i = d['user'], d['id']\n",
    "        pred = prediction(u, i)\n",
    "        diff = pred - d['review']\n",
    "        dalpha += 2/N*diff\n",
    "        dUserBiases[u] += 2/N*diff\n",
    "        dItemBiases[i] += 2/N*diff\n",
    "        for k in range(K):\n",
    "            dUserGamma[u][k] += 2/N*itemGamma[i][k]*diff\n",
    "            dItemGamma[i][k] += 2/N*userGamma[u][k]*diff\n",
    "    for u in userBiases:\n",
    "        dUserBiases[u] += 2*lamb*userBiases[u]\n",
    "        for k in range(K):\n",
    "            dUserGamma[u][k] += 2*lamb*userGamma[u][k]\n",
    "    for i in itemBiases:\n",
    "        dItemBiases[i] += 2*lamb*itemBiases[i]\n",
    "        for k in range(K):\n",
    "            dItemGamma[i][k] += 2*lamb*itemGamma[i][k]\n",
    "    dtheta = [dalpha] + [dUserBiases[u] for u in users] + [dItemBiases[i] for i in items]\n",
    "    for u in users:\n",
    "        dtheta += dUserGamma[u]\n",
    "    for i in items:\n",
    "        dtheta += dItemGamma[i]\n",
    "    return numpy.array(dtheta)"
   ]
  },
  {
   "cell_type": "code",
   "execution_count": 37,
   "id": "b5157aeb",
   "metadata": {
    "scrolled": false
   },
   "outputs": [
    {
     "name": "stdout",
     "output_type": "stream",
     "text": [
      "MSE = 1.6868873776359776\n",
      "MSE = 1.6896548948183898\n",
      "MSE = 1.847592157340711\n",
      "MSE = 1.6791182094756796\n",
      "MSE = 1.6612154900076728\n",
      "MSE = 1.6610153288442242\n",
      "MSE = 1.6610001211621417\n",
      "MSE = 1.6610001711681912\n",
      "MSE = 1.661000760111357\n",
      "MSE = 1.6610585381111622\n",
      "MSE = 1.6613364360903904\n",
      "MSE = 1.6616737821039156\n",
      "MSE = 1.6618885349034975\n",
      "MSE = 1.661911643871896\n",
      "MSE = 1.6619053041585015\n",
      "MSE = 1.6619007148210756\n",
      "MSE = 1.6619022946021127\n",
      "MSE = 1.6619285484104216\n",
      "MSE = 1.6619863301502475\n",
      "MSE = 1.6619565512271386\n",
      "MSE = 1.662041578847292\n",
      "MSE = 1.662021310611376\n",
      "MSE = 1.6620213168915918\n",
      "MSE = 1.662022495026603\n",
      "MSE = 1.662025547968272\n",
      "MSE = 1.6620266381631956\n",
      "MSE = 1.66203508554562\n",
      "MSE = 1.6620302811715169\n"
     ]
    },
    {
     "data": {
      "text/plain": [
       "(array([ 3.83419764e+00,  2.40723501e-03,  2.39816696e-03, ...,\n",
       "        -1.43721583e-06, -6.09261433e-07, -1.08904873e-06]),\n",
       " 1.674180429567798,\n",
       " {'grad': array([-5.12793065e-06,  7.12111530e-11,  1.62371082e-10, ...,\n",
       "         -2.88053276e-09, -1.22209630e-09, -2.18248764e-09]),\n",
       "  'task': 'CONVERGENCE: NORM_OF_PROJECTED_GRADIENT_<=_PGTOL',\n",
       "  'funcalls': 28,\n",
       "  'nit': 24,\n",
       "  'warnflag': 0})"
      ]
     },
     "execution_count": 37,
     "metadata": {},
     "output_type": "execute_result"
    }
   ],
   "source": [
    "nUsers = len(users)\n",
    "nItems = len(items)\n",
    "K = 5\n",
    "lamb = 1\n",
    "\n",
    "\n",
    "scipy.optimize.fmin_l_bfgs_b(cost, [alpha] + # Initialize alpha\n",
    "                                   [0.0]*(nUsers+nItems) + # Initialize beta\n",
    "                                   [random.random() * 0.1 - 0.05 for k in range(K*(nUsers+nItems))], # Gamma\n",
    "                             derivative, args = (labels, 0.001))"
   ]
  },
  {
   "cell_type": "code",
   "execution_count": 40,
   "id": "d5439adb",
   "metadata": {},
   "outputs": [
    {
     "name": "stdout",
     "output_type": "stream",
     "text": [
      "1.6951475763890387\n",
      "1.0745110848472417\n"
     ]
    }
   ],
   "source": [
    "X_val = pd.read_pickle(dataset_dir+\"X_val.pkl\")\n",
    "y_val = pd.read_pickle(dataset_dir+\"y_val.pkl\")\n",
    "X_v = pd.DataFrame()\n",
    "X_v[\"user\"] = X_val[\"gPlusUserId\"]\n",
    "X_v[\"id\"] = X_val[\"gPlusPlaceId\"]\n",
    "X_v[\"review\"] = y_val[\"rating\"]\n",
    "validPreds = [prediction(d['user'], d['id']) for idx,d in X_v.iterrows()]\n",
    "labels = [d['review'] for idx,d in X_v.iterrows()]\n",
    "print(MSE(validPreds,labels))\n",
    "print(MAE(validPreds,labels))"
   ]
  },
  {
   "cell_type": "code",
   "execution_count": 44,
   "id": "d4c2ec2d",
   "metadata": {},
   "outputs": [
    {
     "name": "stdout",
     "output_type": "stream",
     "text": [
      "1.673983892405506\n",
      "1.0695566110287056\n"
     ]
    }
   ],
   "source": [
    "X_tes = pd.read_pickle(dataset_dir+\"X_test.pkl\")\n",
    "y_tes = pd.read_pickle(dataset_dir+\"y_test.pkl\")\n",
    "X_t = pd.DataFrame()\n",
    "X_t[\"user\"] = X_tes[\"gPlusUserId\"]\n",
    "X_t[\"id\"] = X_tes[\"gPlusPlaceId\"]\n",
    "X_t[\"review\"] = y_tes[\"rating\"]\n",
    "testPreds = [prediction(d['user'], d['id']) for idx,d in X_t.iterrows()]\n",
    "labels = [d['review'] for idx,d in X_t.iterrows()]\n",
    "print(MSE(testPreds,labels))\n",
    "print(MAE(testPreds,labels))"
   ]
  },
  {
   "cell_type": "code",
   "execution_count": 47,
   "id": "2eea8d5c",
   "metadata": {},
   "outputs": [],
   "source": [
    "## Doing the same for temporal dataset "
   ]
  },
  {
   "cell_type": "code",
   "execution_count": 48,
   "id": "58e13797",
   "metadata": {},
   "outputs": [],
   "source": [
    "X_train = pd.read_pickle(\"../Datasets/temporal/final/X_train.pkl\")\n",
    "X_val = pd.read_pickle(\"../Datasets/temporal/final/X_val.pkl\")\n",
    "X_test = pd.read_pickle(\"../Datasets/temporal/final/X_test.pkl\")\n",
    "y_train = pd.read_pickle(\"../Datasets/temporal/final/y_train.pkl\")\n",
    "y_val = pd.read_pickle(\"../Datasets/temporal/final/y_val.pkl\")\n",
    "y_test = pd.read_pickle(\"../Datasets/temporal/final/y_test.pkl\")"
   ]
  },
  {
   "cell_type": "code",
   "execution_count": 49,
   "id": "dc6d6004",
   "metadata": {},
   "outputs": [],
   "source": [
    "X = pd.DataFrame()\n",
    "X[\"user\"] = X_train[\"gPlusUserId\"]\n",
    "X[\"id\"] = X_train[\"gPlusPlaceId\"]\n",
    "X[\"review\"] = y_train[\"rating\"]"
   ]
  },
  {
   "cell_type": "code",
   "execution_count": 50,
   "id": "1d6f498d",
   "metadata": {},
   "outputs": [
    {
     "name": "stdout",
     "output_type": "stream",
     "text": [
      "3.907114673446477\n"
     ]
    }
   ],
   "source": [
    "ratingsPerUser = defaultdict(list)\n",
    "ratingsPerItem = defaultdict(list)\n",
    "users = set()\n",
    "items = set()\n",
    "labels = []\n",
    "summ = 0\n",
    "for i in range(len(X)):\n",
    "    u = X.user[i]\n",
    "    b = X.id[i]\n",
    "    r = X.review[i]\n",
    "    ratingsPerUser[u].append((b,r))\n",
    "    ratingsPerItem[b].append((u,r))\n",
    "    users.add(u)\n",
    "    items.add(b)\n",
    "    labels.append(r)\n",
    "    summ = summ+ r\n",
    "summ /= len(X)\n",
    "print(summ)"
   ]
  },
  {
   "cell_type": "code",
   "execution_count": 51,
   "id": "d7141e2f",
   "metadata": {},
   "outputs": [],
   "source": [
    "alpha = summ"
   ]
  },
  {
   "cell_type": "code",
   "execution_count": 52,
   "id": "2a78a3d5",
   "metadata": {},
   "outputs": [],
   "source": [
    "userBiases = defaultdict(float)\n",
    "itemBiases = defaultdict(float)\n",
    "userGamma = {}\n",
    "itemGamma = {}\n",
    "users = list(users)\n",
    "items = list(items)\n",
    "K = 5 \n",
    "for u in users:\n",
    "    userGamma[u] = [random.random() * 0.1 - 0.05 for k in range(K)]\n",
    "for i in items:\n",
    "    itemGamma[i] = [random.random() * 0.1 - 0.05 for k in range(K)]"
   ]
  },
  {
   "cell_type": "code",
   "execution_count": 53,
   "id": "a48f5d8a",
   "metadata": {},
   "outputs": [],
   "source": [
    "def unpack(theta):\n",
    "    global alpha\n",
    "    global userBiases\n",
    "    global itemBiases\n",
    "    global userGamma\n",
    "    global itemGamma\n",
    "    index = 0\n",
    "    alpha = theta[index]\n",
    "    index += 1\n",
    "    userBiases = dict(zip(users, theta[index:index+nUsers]))\n",
    "    index += nUsers\n",
    "    itemBiases = dict(zip(items, theta[index:index+nItems]))\n",
    "    index += nItems\n",
    "    for u in users:\n",
    "        userGamma[u] = theta[index:index+K]\n",
    "        index += K\n",
    "    for i in items:\n",
    "        itemGamma[i] = theta[index:index+K]\n",
    "        index += K\n",
    "\n",
    "\n",
    "\n",
    "def inner(x, y):\n",
    "    return sum([a*b for a,b in zip(x,y)])\n",
    "\n",
    "def dotprod(x,y):\n",
    "    return x.dot(y.transpose())\n",
    "\n",
    "def prediction(user, item):\n",
    "    if user in userBiases and item in itemBiases:\n",
    "            return alpha + userBiases[user] + itemBiases[item] + inner(userGamma[user], itemGamma[item])\n",
    "    else:\n",
    "        return alpha\n",
    "    \n",
    "def cost(theta, labels, lamb):\n",
    "    unpack(theta)\n",
    "    predictions = [prediction(d['user'], d['id']) for index,d in X.iterrows()]\n",
    "    cost = MSE(predictions, labels)\n",
    "    print(\"MSE = \" + str(cost))\n",
    "    for u in users:\n",
    "        cost += lamb*userBiases[u]**2\n",
    "        for k in range(K):\n",
    "            cost += lamb*userGamma[u][k]**2\n",
    "    for i in items:\n",
    "        cost += lamb*itemBiases[i]**2\n",
    "        for k in range(K):\n",
    "            cost += lamb*itemGamma[i][k]**2\n",
    "    return cost\n",
    "\n",
    "\n",
    "def derivative(theta, labels, lamb):\n",
    "    unpack(theta)\n",
    "    N = len(X)\n",
    "    dalpha = 0\n",
    "    dUserBiases = defaultdict(float)\n",
    "    dItemBiases = defaultdict(float)\n",
    "    dUserGamma = {}\n",
    "    dItemGamma = {}\n",
    "    for u in ratingsPerUser:\n",
    "        dUserGamma[u] = [0.0 for k in range(K)]\n",
    "    for i in ratingsPerItem:\n",
    "        dItemGamma[i] = [0.0 for k in range(K)]\n",
    "    for index, d in X.iterrows():\n",
    "        u,i = d['user'], d['id']\n",
    "        pred = prediction(u, i)\n",
    "        diff = pred - d['review']\n",
    "        dalpha += 2/N*diff\n",
    "        dUserBiases[u] += 2/N*diff\n",
    "        dItemBiases[i] += 2/N*diff\n",
    "        for k in range(K):\n",
    "            dUserGamma[u][k] += 2/N*itemGamma[i][k]*diff\n",
    "            dItemGamma[i][k] += 2/N*userGamma[u][k]*diff\n",
    "    for u in userBiases:\n",
    "        dUserBiases[u] += 2*lamb*userBiases[u]\n",
    "        for k in range(K):\n",
    "            dUserGamma[u][k] += 2*lamb*userGamma[u][k]\n",
    "    for i in itemBiases:\n",
    "        dItemBiases[i] += 2*lamb*itemBiases[i]\n",
    "        for k in range(K):\n",
    "            dItemGamma[i][k] += 2*lamb*itemGamma[i][k]\n",
    "    dtheta = [dalpha] + [dUserBiases[u] for u in users] + [dItemBiases[i] for i in items]\n",
    "    for u in users:\n",
    "        dtheta += dUserGamma[u]\n",
    "    for i in items:\n",
    "        dtheta += dItemGamma[i]\n",
    "    return numpy.array(dtheta)"
   ]
  },
  {
   "cell_type": "code",
   "execution_count": 54,
   "id": "1e3291a7",
   "metadata": {},
   "outputs": [
    {
     "name": "stdout",
     "output_type": "stream",
     "text": [
      "MSE = 1.4005824025880729\n",
      "MSE = 1.3999605991493735\n",
      "MSE = 1.3974933746706046\n",
      "MSE = 8.773672059222733\n",
      "MSE = 1.5620177250675524\n",
      "MSE = 1.3765055274139466\n",
      "MSE = 1.3768479486831624\n",
      "MSE = 1.3768572390591471\n",
      "MSE = 1.3768949901246514\n",
      "MSE = 1.377055427377236\n",
      "MSE = 1.377459064607603\n",
      "MSE = 1.3775471133707986\n",
      "MSE = 1.377632950629717\n",
      "MSE = 1.3776820777154652\n",
      "MSE = 1.3777605662819754\n",
      "MSE = 1.3777663803286992\n",
      "MSE = 1.377765971402898\n",
      "MSE = 1.3777659992827904\n"
     ]
    },
    {
     "data": {
      "text/plain": [
       "(array([ 3.90613825e+00,  2.24775267e-03,  2.24741147e-03, ...,\n",
       "         5.04163121e-07, -9.84724907e-07,  1.67563619e-07]),\n",
       " 1.3888215054041557,\n",
       " {'grad': array([ 7.98215138e-06,  1.29500386e-10,  2.04166442e-10, ...,\n",
       "          1.00930641e-09, -1.95697329e-09,  3.14954788e-10]),\n",
       "  'task': 'CONVERGENCE: NORM_OF_PROJECTED_GRADIENT_<=_PGTOL',\n",
       "  'funcalls': 18,\n",
       "  'nit': 13,\n",
       "  'warnflag': 0})"
      ]
     },
     "execution_count": 54,
     "metadata": {},
     "output_type": "execute_result"
    }
   ],
   "source": [
    "nUsers = len(users)\n",
    "nItems = len(items)\n",
    "K = 5\n",
    "lamb = 1\n",
    "\n",
    "\n",
    "scipy.optimize.fmin_l_bfgs_b(cost, [alpha] + # Initialize alpha\n",
    "                                   [0.0]*(nUsers+nItems) + # Initialize beta\n",
    "                                   [random.random() * 0.1 - 0.05 for k in range(K*(nUsers+nItems))], # Gamma\n",
    "                             derivative, args = (labels, 0.001))"
   ]
  },
  {
   "cell_type": "code",
   "execution_count": 61,
   "id": "5bb7b227",
   "metadata": {},
   "outputs": [],
   "source": [
    "from metrics import MAE,MSE"
   ]
  },
  {
   "cell_type": "code",
   "execution_count": 77,
   "id": "d1629bf4",
   "metadata": {},
   "outputs": [
    {
     "name": "stdout",
     "output_type": "stream",
     "text": [
      "2.535442192195376\n",
      "1.3139664711321033\n"
     ]
    }
   ],
   "source": [
    "X_t = 0\n",
    "X_t = pd.DataFrame()\n",
    "X_t[\"user\"] = X_test[\"gPlusUserId\"]\n",
    "X_t[\"id\"] = X_test[\"gPlusPlaceId\"]\n",
    "X_t[\"review\"] = y_test[\"rating\"]\n",
    "testPreds = [prediction(d['user'], d['id']) for idx,d in X_t.iterrows()]\n",
    "labels = [d['review'] for idx,d in X_t.iterrows()]\n",
    "print(MSE(testPreds,y_test[\"rating\"]))\n",
    "print(MAE(testPreds,y_test[\"rating\"]))"
   ]
  },
  {
   "cell_type": "code",
   "execution_count": null,
   "id": "d4bb0f1f",
   "metadata": {},
   "outputs": [],
   "source": []
  },
  {
   "cell_type": "code",
   "execution_count": null,
   "id": "3c317b29",
   "metadata": {},
   "outputs": [],
   "source": []
  },
  {
   "cell_type": "code",
   "execution_count": null,
   "id": "c5c4f306",
   "metadata": {},
   "outputs": [],
   "source": []
  }
 ],
 "metadata": {
  "kernelspec": {
   "display_name": "Python 3 (ipykernel)",
   "language": "python",
   "name": "python3"
  },
  "language_info": {
   "codemirror_mode": {
    "name": "ipython",
    "version": 3
   },
   "file_extension": ".py",
   "mimetype": "text/x-python",
   "name": "python",
   "nbconvert_exporter": "python",
   "pygments_lexer": "ipython3",
   "version": "3.10.6"
  }
 },
 "nbformat": 4,
 "nbformat_minor": 5
}
