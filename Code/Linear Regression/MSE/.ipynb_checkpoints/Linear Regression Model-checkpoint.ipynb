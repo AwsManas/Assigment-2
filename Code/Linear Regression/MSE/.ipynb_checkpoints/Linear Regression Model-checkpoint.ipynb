{
 "cells": [
  {
   "cell_type": "code",
   "execution_count": 1,
   "id": "ae658b53-35ff-4dc3-bbf1-5ef1854ea17e",
   "metadata": {},
   "outputs": [],
   "source": [
    "import numpy  as np\n",
    "import pandas as pd\n",
    "from metrics import MSE\n",
    "from sklearn.linear_model import LinearRegression"
   ]
  },
  {
   "cell_type": "code",
   "execution_count": 2,
   "id": "a8e9c1e3-2c5e-4fdf-8642-5b5ef6e11ec2",
   "metadata": {},
   "outputs": [],
   "source": [
    "X_train = pd.read_pickle(\"../Datasets/final/X_train.pkl\").drop(columns=[\"gPlusUserId\", \"gPlusPlaceId\"])\n",
    "c = X_train.columns.tolist()\n",
    "X_train = X_train.to_numpy()\n",
    "X_val = pd.read_pickle(\"../Datasets/final/X_val.pkl\").drop(columns=[\"gPlusUserId\", \"gPlusPlaceId\"]).to_numpy()\n",
    "X_test = pd.read_pickle(\"../Datasets/final/X_test.pkl\").drop(columns=[\"gPlusUserId\", \"gPlusPlaceId\"]).to_numpy()\n",
    "y_train = pd.read_pickle(\"../Datasets/final/y_train.pkl\").to_numpy()\n",
    "y_val = pd.read_pickle(\"../Datasets/final/y_val.pkl\").to_numpy()\n",
    "y_test = pd.read_pickle(\"../Datasets/final/y_test.pkl\").to_numpy()"
   ]
  },
  {
   "cell_type": "code",
   "execution_count": 3,
   "id": "e478e5a5-903b-4e5c-a542-9e714c2ddd0a",
   "metadata": {},
   "outputs": [
    {
     "data": {
      "text/html": [
       "<style>#sk-container-id-1 {color: black;background-color: white;}#sk-container-id-1 pre{padding: 0;}#sk-container-id-1 div.sk-toggleable {background-color: white;}#sk-container-id-1 label.sk-toggleable__label {cursor: pointer;display: block;width: 100%;margin-bottom: 0;padding: 0.3em;box-sizing: border-box;text-align: center;}#sk-container-id-1 label.sk-toggleable__label-arrow:before {content: \"▸\";float: left;margin-right: 0.25em;color: #696969;}#sk-container-id-1 label.sk-toggleable__label-arrow:hover:before {color: black;}#sk-container-id-1 div.sk-estimator:hover label.sk-toggleable__label-arrow:before {color: black;}#sk-container-id-1 div.sk-toggleable__content {max-height: 0;max-width: 0;overflow: hidden;text-align: left;background-color: #f0f8ff;}#sk-container-id-1 div.sk-toggleable__content pre {margin: 0.2em;color: black;border-radius: 0.25em;background-color: #f0f8ff;}#sk-container-id-1 input.sk-toggleable__control:checked~div.sk-toggleable__content {max-height: 200px;max-width: 100%;overflow: auto;}#sk-container-id-1 input.sk-toggleable__control:checked~label.sk-toggleable__label-arrow:before {content: \"▾\";}#sk-container-id-1 div.sk-estimator input.sk-toggleable__control:checked~label.sk-toggleable__label {background-color: #d4ebff;}#sk-container-id-1 div.sk-label input.sk-toggleable__control:checked~label.sk-toggleable__label {background-color: #d4ebff;}#sk-container-id-1 input.sk-hidden--visually {border: 0;clip: rect(1px 1px 1px 1px);clip: rect(1px, 1px, 1px, 1px);height: 1px;margin: -1px;overflow: hidden;padding: 0;position: absolute;width: 1px;}#sk-container-id-1 div.sk-estimator {font-family: monospace;background-color: #f0f8ff;border: 1px dotted black;border-radius: 0.25em;box-sizing: border-box;margin-bottom: 0.5em;}#sk-container-id-1 div.sk-estimator:hover {background-color: #d4ebff;}#sk-container-id-1 div.sk-parallel-item::after {content: \"\";width: 100%;border-bottom: 1px solid gray;flex-grow: 1;}#sk-container-id-1 div.sk-label:hover label.sk-toggleable__label {background-color: #d4ebff;}#sk-container-id-1 div.sk-serial::before {content: \"\";position: absolute;border-left: 1px solid gray;box-sizing: border-box;top: 0;bottom: 0;left: 50%;z-index: 0;}#sk-container-id-1 div.sk-serial {display: flex;flex-direction: column;align-items: center;background-color: white;padding-right: 0.2em;padding-left: 0.2em;position: relative;}#sk-container-id-1 div.sk-item {position: relative;z-index: 1;}#sk-container-id-1 div.sk-parallel {display: flex;align-items: stretch;justify-content: center;background-color: white;position: relative;}#sk-container-id-1 div.sk-item::before, #sk-container-id-1 div.sk-parallel-item::before {content: \"\";position: absolute;border-left: 1px solid gray;box-sizing: border-box;top: 0;bottom: 0;left: 50%;z-index: -1;}#sk-container-id-1 div.sk-parallel-item {display: flex;flex-direction: column;z-index: 1;position: relative;background-color: white;}#sk-container-id-1 div.sk-parallel-item:first-child::after {align-self: flex-end;width: 50%;}#sk-container-id-1 div.sk-parallel-item:last-child::after {align-self: flex-start;width: 50%;}#sk-container-id-1 div.sk-parallel-item:only-child::after {width: 0;}#sk-container-id-1 div.sk-dashed-wrapped {border: 1px dashed gray;margin: 0 0.4em 0.5em 0.4em;box-sizing: border-box;padding-bottom: 0.4em;background-color: white;}#sk-container-id-1 div.sk-label label {font-family: monospace;font-weight: bold;display: inline-block;line-height: 1.2em;}#sk-container-id-1 div.sk-label-container {text-align: center;}#sk-container-id-1 div.sk-container {/* jupyter's `normalize.less` sets `[hidden] { display: none; }` but bootstrap.min.css set `[hidden] { display: none !important; }` so we also need the `!important` here to be able to override the default hidden behavior on the sphinx rendered scikit-learn.org. See: https://github.com/scikit-learn/scikit-learn/issues/21755 */display: inline-block !important;position: relative;}#sk-container-id-1 div.sk-text-repr-fallback {display: none;}</style><div id=\"sk-container-id-1\" class=\"sk-top-container\"><div class=\"sk-text-repr-fallback\"><pre>LinearRegression()</pre><b>In a Jupyter environment, please rerun this cell to show the HTML representation or trust the notebook. <br />On GitHub, the HTML representation is unable to render, please try loading this page with nbviewer.org.</b></div><div class=\"sk-container\" hidden><div class=\"sk-item\"><div class=\"sk-estimator sk-toggleable\"><input class=\"sk-toggleable__control sk-hidden--visually\" id=\"sk-estimator-id-1\" type=\"checkbox\" checked><label for=\"sk-estimator-id-1\" class=\"sk-toggleable__label sk-toggleable__label-arrow\">LinearRegression</label><div class=\"sk-toggleable__content\"><pre>LinearRegression()</pre></div></div></div></div></div>"
      ],
      "text/plain": [
       "LinearRegression()"
      ]
     },
     "execution_count": 3,
     "metadata": {},
     "output_type": "execute_result"
    }
   ],
   "source": [
    "lr = LinearRegression()\n",
    "lr.fit(X_train, y_train)"
   ]
  },
  {
   "cell_type": "code",
   "execution_count": 4,
   "id": "16072d16-3023-4896-bfa4-82cc11a1e729",
   "metadata": {},
   "outputs": [
    {
     "data": {
      "text/plain": [
       "0.4198161846599559"
      ]
     },
     "execution_count": 4,
     "metadata": {},
     "output_type": "execute_result"
    }
   ],
   "source": [
    "y_pred_val = lr.predict(X_val)\n",
    "MSE(predictions=y_pred_val, labels=y_val)[0]"
   ]
  },
  {
   "cell_type": "code",
   "execution_count": 5,
   "id": "c1c717cc-2e3a-4926-bc80-1cbcdb5f3010",
   "metadata": {},
   "outputs": [],
   "source": [
    "y_pred = lr.predict(X_test)"
   ]
  },
  {
   "cell_type": "code",
   "execution_count": 6,
   "id": "3a1e9096-3cc3-4809-9e76-d9de74aeab67",
   "metadata": {},
   "outputs": [
    {
     "data": {
      "text/plain": [
       "0.4172057593484093"
      ]
     },
     "execution_count": 6,
     "metadata": {},
     "output_type": "execute_result"
    }
   ],
   "source": [
    "MSE(predictions=y_pred, labels=y_test)[0]"
   ]
  },
  {
   "cell_type": "code",
   "execution_count": 7,
   "id": "b1251a0b-d067-4a95-87af-02a34437a9d1",
   "metadata": {},
   "outputs": [
    {
     "data": {
      "text/plain": [
       "{'userCategoryAvgRating': 0.9995954115985014,\n",
       " 'year_1990': 808272351.8319376,\n",
       " 'year_2002': 808272351.8208337,\n",
       " 'year_2003': 808272351.741226,\n",
       " 'year_2004': 808272351.6399072,\n",
       " 'year_2005': 808272351.6806918,\n",
       " 'year_2006': 808272351.6989416,\n",
       " 'year_2007': 808272351.699417,\n",
       " 'year_2008': 808272351.6714228,\n",
       " 'year_2009': 808272351.690578,\n",
       " 'year_2010': 808272351.6965357,\n",
       " 'year_2011': 808272351.6783535,\n",
       " 'year_2012': 808272351.7159022,\n",
       " 'year_2013': 808272351.6999158,\n",
       " 'year_2014': 808272351.6957415,\n",
       " 'month_01': -2511109990.5611277,\n",
       " 'month_02': -2511109990.561796,\n",
       " 'month_03': -2511109990.55982,\n",
       " 'month_04': -2511109990.559245,\n",
       " 'month_05': -2511109990.559806,\n",
       " 'month_06': -2511109990.5425797,\n",
       " 'month_07': -2511109990.5463433,\n",
       " 'month_08': -2511109990.552475,\n",
       " 'month_09': -2511109990.556058,\n",
       " 'month_10': -2511109990.5670485,\n",
       " 'month_11': -2511109990.567256,\n",
       " 'month_12': -2511109990.5697513,\n",
       " 'final_category_AssocOrgs': 2068295867.5423,\n",
       " 'final_category_Entertainment': 2068295867.546459,\n",
       " 'final_category_Legal': 2068295867.5424693,\n",
       " 'final_category_Medical': 2068295867.5359712,\n",
       " 'final_category_Others': 2068295867.5387866,\n",
       " 'final_category_Public': 2068295867.5367785,\n",
       " 'final_category_Restaurant': 2068295867.5413392,\n",
       " 'final_category_School': 2068295867.5428388,\n",
       " 'final_category_ShopsStores': 2068295867.5424764,\n",
       " 'final_category_Venues': 2068295867.5440896,\n",
       " 'state_AL': 3362606775.0075974,\n",
       " 'state_AR': 3362606775.0214543,\n",
       " 'state_AZ': 3362606775.0158124,\n",
       " 'state_CA': 3362606775.0165815,\n",
       " 'state_CO': 3362606775.014943,\n",
       " 'state_CT': 3362606775.004304,\n",
       " 'state_DE': 3362606774.9899635,\n",
       " 'state_GA': 3362606775.0161242,\n",
       " 'state_IA': 3362606775.0041294,\n",
       " 'state_ID': 3362606775.0102987,\n",
       " 'state_IL': 3362606775.02098,\n",
       " 'state_IN': 3362606775.0191154,\n",
       " 'state_KS': 3362606774.995729,\n",
       " 'state_KY': 3362606775.0139375,\n",
       " 'state_LA': 3362606774.9835763,\n",
       " 'state_MA': 3362606775.0140433,\n",
       " 'state_MD': 3362606775.009014,\n",
       " 'state_ME': 3362606775.0306025,\n",
       " 'state_MI': 3362606775.0138736,\n",
       " 'state_MN': 3362606775.0215387,\n",
       " 'state_MO': 3362606775.01451,\n",
       " 'state_MS': 3362606774.9742737,\n",
       " 'state_MT': 3362606775.001719,\n",
       " 'state_NC': 3362606775.022915,\n",
       " 'state_ND': 3362606774.9834733,\n",
       " 'state_NE': 3362606774.953688,\n",
       " 'state_NH': 3362606775.020647,\n",
       " 'state_NJ': 3362606775.0207086,\n",
       " 'state_NM': 3362606775.007156,\n",
       " 'state_NV': 3362606775.00751,\n",
       " 'state_NY': 3362606775.013671,\n",
       " 'state_OH': 3362606775.0142508,\n",
       " 'state_OK': 3362606775.0167503,\n",
       " 'state_OR': 3362606775.105649,\n",
       " 'state_PA': 3362606775.011927,\n",
       " 'state_RI': 3362606775.0283694,\n",
       " 'state_SC': 3362606775.00978,\n",
       " 'state_SD': 3362606775.0304475,\n",
       " 'state_TN': 3362606775.013764,\n",
       " 'state_TX': 3362606775.025917,\n",
       " 'state_UT': 3362606775.0101657,\n",
       " 'state_VA': 3362606775.0150228,\n",
       " 'state_VT': 3362606775.028814,\n",
       " 'state_WA': 3362606775.0186133,\n",
       " 'state_WI': 3362606775.0198646,\n",
       " 'state_WV': 3362606775.0165873,\n",
       " 'state_WY': 3362606775.023105}"
      ]
     },
     "execution_count": 7,
     "metadata": {},
     "output_type": "execute_result"
    }
   ],
   "source": [
    "dict(zip(c, lr.coef_[0]))"
   ]
  }
 ],
 "metadata": {
  "kernelspec": {
   "display_name": "Python 3 (ipykernel)",
   "language": "python",
   "name": "python3"
  },
  "language_info": {
   "codemirror_mode": {
    "name": "ipython",
    "version": 3
   },
   "file_extension": ".py",
   "mimetype": "text/x-python",
   "name": "python",
   "nbconvert_exporter": "python",
   "pygments_lexer": "ipython3",
   "version": "3.9.6"
  }
 },
 "nbformat": 4,
 "nbformat_minor": 5
}
