{
 "cells": [
  {
   "cell_type": "code",
   "execution_count": 1,
   "id": "ae658b53-35ff-4dc3-bbf1-5ef1854ea17e",
   "metadata": {},
   "outputs": [],
   "source": [
    "import numpy  as np\n",
    "import pandas as pd\n",
    "from metrics import MSE\n",
    "import tensorflow as tf\n",
    "import matplotlib.pyplot as plt"
   ]
  },
  {
   "cell_type": "code",
   "execution_count": 2,
   "id": "a8e9c1e3-2c5e-4fdf-8642-5b5ef6e11ec2",
   "metadata": {},
   "outputs": [],
   "source": [
    "X_train = pd.read_pickle(\"../../../../Datasets/temporal/final/X_train.pkl\").drop(columns=[\"gPlusUserId\", \"gPlusPlaceId\"])\n",
    "c = X_train.columns.tolist()\n",
    "X_train = X_train.to_numpy()\n",
    "X_val = pd.read_pickle(\"../../../../Datasets/temporal/final/X_val.pkl\").drop(columns=[\"gPlusUserId\", \"gPlusPlaceId\"]).to_numpy()\n",
    "X_test = pd.read_pickle(\"../../../../Datasets/temporal/final/X_test.pkl\").drop(columns=[\"gPlusUserId\", \"gPlusPlaceId\"]).to_numpy()\n",
    "y_train = pd.read_pickle(\"../../../../Datasets/temporal/final/y_train.pkl\").to_numpy()\n",
    "y_val = pd.read_pickle(\"../../../../Datasets/temporal/final/y_val.pkl\").to_numpy()\n",
    "y_test = pd.read_pickle(\"../../../../Datasets/temporal/final/y_test.pkl\").to_numpy()"
   ]
  },
  {
   "cell_type": "code",
   "execution_count": 3,
   "id": "e478e5a5-903b-4e5c-a542-9e714c2ddd0a",
   "metadata": {},
   "outputs": [],
   "source": [
    "def build_and_compile_model():\n",
    "    model = tf.keras.Sequential([\n",
    "        # tf.keras.layers.Dense(512, activation=tf.nn.relu),\n",
    "        # tf.keras.layers.Dropout(0.2),\n",
    "        # tf.keras.layers.Dense(256, activation=tf.nn.relu),\n",
    "        # tf.keras.layers.Dropout(0.2),\n",
    "        # tf.keras.layers.Dense(64, activation=tf.nn.relu),\n",
    "        # tf.keras.layers.Dropout(0.1),\n",
    "        tf.keras.layers.Dense(16, activation=tf.nn.relu),\n",
    "        # tf.keras.layers.Dropout(0.1),\n",
    "        tf.keras.layers.Dense(1)\n",
    "    ])\n",
    "    model.compile(optimizer=tf.keras.optimizers.Adam(0.001),\n",
    "                  loss=tf.keras.losses.MeanSquaredError())\n",
    "    return model"
   ]
  },
  {
   "cell_type": "code",
   "execution_count": 4,
   "id": "249c57d6-716f-44c9-a539-23599f31e1a6",
   "metadata": {},
   "outputs": [
    {
     "name": "stdout",
     "output_type": "stream",
     "text": [
      "Model: \"sequential\"\n",
      "_________________________________________________________________\n",
      " Layer (type)                Output Shape              Param #   \n",
      "=================================================================\n",
      " dense (Dense)               (484576, 16)              944       \n",
      "                                                                 \n",
      " dense_1 (Dense)             (484576, 1)               17        \n",
      "                                                                 \n",
      "=================================================================\n",
      "Total params: 961\n",
      "Trainable params: 961\n",
      "Non-trainable params: 0\n",
      "_________________________________________________________________\n"
     ]
    }
   ],
   "source": [
    "dnn = build_and_compile_model()\n",
    "dnn.build(X_train.shape)\n",
    "dnn.summary()"
   ]
  },
  {
   "cell_type": "code",
   "execution_count": 5,
   "id": "3fb6caf8-771e-44ca-a49b-fceebcc2b76b",
   "metadata": {},
   "outputs": [],
   "source": [
    "early_stopping_callback = tf.keras.callbacks.EarlyStopping(monitor='val_loss', patience=10)\n",
    "checkpoint_filepath = './dnn_model_checkpoint'\n",
    "model_checkpoint_callback = tf.keras.callbacks.ModelCheckpoint(\n",
    "    filepath=checkpoint_filepath,\n",
    "    save_weights_only=True,\n",
    "    monitor='val_loss',\n",
    "    mode='min',\n",
    "    save_best_only=True)"
   ]
  },
  {
   "cell_type": "code",
   "execution_count": 6,
   "id": "0af3f387-5138-4225-b131-b0826ee5ba90",
   "metadata": {},
   "outputs": [
    {
     "name": "stdout",
     "output_type": "stream",
     "text": [
      "Epoch 1/100\n"
     ]
    },
    {
     "name": "stderr",
     "output_type": "stream",
     "text": [
      "2022-11-29 16:42:43.068421: W tensorflow/core/platform/profile_utils/cpu_utils.cc:128] Failed to get CPU frequency: 0 Hz\n"
     ]
    },
    {
     "name": "stdout",
     "output_type": "stream",
     "text": [
      "15143/15143 [==============================] - 25s 2ms/step - loss: 0.4788 - val_loss: 0.3406\n",
      "Epoch 2/100\n",
      "15143/15143 [==============================] - 27s 2ms/step - loss: 0.4671 - val_loss: 0.3409\n",
      "Epoch 3/100\n",
      "15143/15143 [==============================] - 25s 2ms/step - loss: 0.4670 - val_loss: 0.3384\n",
      "Epoch 4/100\n",
      "15143/15143 [==============================] - 26s 2ms/step - loss: 0.4667 - val_loss: 0.3396\n",
      "Epoch 5/100\n",
      "15143/15143 [==============================] - 24s 2ms/step - loss: 0.4667 - val_loss: 0.3385\n",
      "Epoch 6/100\n",
      "15143/15143 [==============================] - 26s 2ms/step - loss: 0.4666 - val_loss: 0.3396\n",
      "Epoch 7/100\n",
      "15143/15143 [==============================] - 25s 2ms/step - loss: 0.4665 - val_loss: 0.3391\n",
      "Epoch 8/100\n",
      "15143/15143 [==============================] - 24s 2ms/step - loss: 0.4663 - val_loss: 0.3383\n",
      "Epoch 9/100\n",
      "15143/15143 [==============================] - 10s 637us/step - loss: 0.4663 - val_loss: 0.3387\n",
      "Epoch 10/100\n",
      "15143/15143 [==============================] - 10s 632us/step - loss: 0.4661 - val_loss: 0.3382\n",
      "Epoch 11/100\n",
      "15143/15143 [==============================] - 10s 663us/step - loss: 0.4661 - val_loss: 0.3385\n",
      "Epoch 12/100\n",
      "15143/15143 [==============================] - 10s 661us/step - loss: 0.4660 - val_loss: 0.3409\n",
      "Epoch 13/100\n",
      "15143/15143 [==============================] - 10s 679us/step - loss: 0.4661 - val_loss: 0.3379\n",
      "Epoch 14/100\n",
      "15143/15143 [==============================] - 11s 720us/step - loss: 0.4660 - val_loss: 0.3390\n",
      "Epoch 15/100\n",
      "15143/15143 [==============================] - 10s 686us/step - loss: 0.4661 - val_loss: 0.3379\n",
      "Epoch 16/100\n",
      "15143/15143 [==============================] - 10s 663us/step - loss: 0.4659 - val_loss: 0.3379\n",
      "Epoch 17/100\n",
      "15143/15143 [==============================] - 10s 692us/step - loss: 0.4659 - val_loss: 0.3380\n",
      "Epoch 18/100\n",
      "15143/15143 [==============================] - 10s 651us/step - loss: 0.4659 - val_loss: 0.3470\n",
      "Epoch 19/100\n",
      "15143/15143 [==============================] - 10s 663us/step - loss: 0.4659 - val_loss: 0.3381\n",
      "Epoch 20/100\n",
      "15143/15143 [==============================] - 10s 682us/step - loss: 0.4659 - val_loss: 0.3379\n",
      "Epoch 21/100\n",
      "15143/15143 [==============================] - 10s 666us/step - loss: 0.4659 - val_loss: 0.3378\n",
      "Epoch 22/100\n",
      "15143/15143 [==============================] - 11s 719us/step - loss: 0.4658 - val_loss: 0.3391\n",
      "Epoch 23/100\n",
      "15143/15143 [==============================] - 10s 675us/step - loss: 0.4658 - val_loss: 0.3399\n",
      "Epoch 24/100\n",
      "15143/15143 [==============================] - 10s 682us/step - loss: 0.4659 - val_loss: 0.3395\n",
      "Epoch 25/100\n",
      "15143/15143 [==============================] - 10s 650us/step - loss: 0.4658 - val_loss: 0.3382\n",
      "Epoch 26/100\n",
      "15143/15143 [==============================] - 11s 695us/step - loss: 0.4658 - val_loss: 0.3381\n",
      "Epoch 27/100\n",
      "15143/15143 [==============================] - 10s 648us/step - loss: 0.4658 - val_loss: 0.3383\n",
      "Epoch 28/100\n",
      "15143/15143 [==============================] - 10s 640us/step - loss: 0.4658 - val_loss: 0.3388\n",
      "Epoch 29/100\n",
      "15143/15143 [==============================] - 10s 655us/step - loss: 0.4658 - val_loss: 0.3399\n",
      "Epoch 30/100\n",
      "15143/15143 [==============================] - 10s 644us/step - loss: 0.4657 - val_loss: 0.3383\n",
      "Epoch 31/100\n",
      "15143/15143 [==============================] - 10s 656us/step - loss: 0.4657 - val_loss: 0.3408\n"
     ]
    }
   ],
   "source": [
    "history = dnn.fit(x=X_train.astype('float32'), \n",
    "                  y=y_train.astype('float32'),\n",
    "                  epochs=100,\n",
    "                  validation_data=(X_val.astype('float32'), y_val.astype('float32')), \n",
    "                  callbacks=[early_stopping_callback, model_checkpoint_callback])"
   ]
  },
  {
   "cell_type": "code",
   "execution_count": 7,
   "id": "2f34c16c-cfe8-46f3-b23d-87250427e973",
   "metadata": {},
   "outputs": [],
   "source": [
    "def plot_loss(history):\n",
    "    plt.plot(history.history['loss'], label='loss')\n",
    "    plt.plot(history.history['val_loss'], label='val_loss')\n",
    "    # plt.ylim([0.2, 1])\n",
    "    plt.xlabel('Epoch')\n",
    "    plt.ylabel('Error')\n",
    "    plt.legend()\n",
    "    plt.grid(True)"
   ]
  },
  {
   "cell_type": "code",
   "execution_count": 8,
   "id": "b2a16bce-afef-4331-8978-c37fc6c47648",
   "metadata": {},
   "outputs": [
    {
     "data": {
      "image/png": "[encoded data removed]",
      "text/plain": [
       "<Figure size 640x480 with 1 Axes>"
      ]
     },
     "metadata": {},
     "output_type": "display_data"
    }
   ],
   "source": [
    "plot_loss(history=history)"
   ]
  },
  {
   "cell_type": "code",
   "execution_count": 9,
   "id": "7cd1f7d0-6110-4157-9197-56a388d52fb5",
   "metadata": {},
   "outputs": [
    {
     "data": {
      "text/plain": [
       "<tensorflow.python.checkpoint.checkpoint.CheckpointLoadStatus at 0x2866b3be0>"
      ]
     },
     "execution_count": 9,
     "metadata": {},
     "output_type": "execute_result"
    }
   ],
   "source": [
    "dnn.load_weights(checkpoint_filepath)"
   ]
  },
  {
   "cell_type": "code",
   "execution_count": 10,
   "id": "eda697c0-a0f9-410e-914f-c7642aa17a93",
   "metadata": {},
   "outputs": [
    {
     "name": "stdout",
     "output_type": "stream",
     "text": [
      "5048/5048 [==============================] - 2s 435us/step - loss: 0.3615\n"
     ]
    },
    {
     "data": {
      "text/plain": [
       "0.3614896833896637"
      ]
     },
     "execution_count": 10,
     "metadata": {},
     "output_type": "execute_result"
    }
   ],
   "source": [
    "dnn.evaluate(X_test.astype('float32'), y_test.astype('float32'))"
   ]
  },
  {
   "cell_type": "code",
   "execution_count": 11,
   "id": "fbefa7d5-05ca-4bb3-8095-941c392638b9",
   "metadata": {},
   "outputs": [
    {
     "name": "stdout",
     "output_type": "stream",
     "text": [
      "5048/5048 [==============================] - 2s 354us/step\n"
     ]
    }
   ],
   "source": [
    "y_pred = dnn.predict(X_test.astype('float32')).flatten()"
   ]
  },
  {
   "cell_type": "code",
   "execution_count": 12,
   "id": "74ac0bad-6af7-4e86-88ee-228fcc6e3034",
   "metadata": {},
   "outputs": [],
   "source": [
    "error = []\n",
    "for i in range(len(y_pred)):\n",
    "    error.append(y_pred[i] - y_test[i, 0])"
   ]
  },
  {
   "cell_type": "code",
   "execution_count": 13,
   "id": "6724035d-528a-4689-bc15-c7301612da87",
   "metadata": {},
   "outputs": [
    {
     "data": {
      "image/png": "[encoded data removed]",
      "text/plain": [
       "<Figure size 640x480 with 1 Axes>"
      ]
     },
     "metadata": {},
     "output_type": "display_data"
    }
   ],
   "source": [
    "plt.hist(error, bins=25)\n",
    "plt.xlabel('Prediction Error')\n",
    "_ = plt.ylabel('Count')"
   ]
  },
  {
   "cell_type": "code",
   "execution_count": 16,
   "id": "c2e11cd9-055a-4121-b7e3-2a8c41cbafde",
   "metadata": {},
   "outputs": [
    {
     "data": {
      "text/plain": [
       "array([0.36148914])"
      ]
     },
     "execution_count": 16,
     "metadata": {},
     "output_type": "execute_result"
    }
   ],
   "source": [
    "MSE(predictions=y_pred, labels=y_test)"
   ]
  },
  {
   "cell_type": "code",
   "execution_count": null,
   "id": "84233cd7-fbca-41bb-9463-19564b33198f",
   "metadata": {},
   "outputs": [],
   "source": []
  }
 ],
 "metadata": {
  "kernelspec": {
   "display_name": "Python 3 (ipykernel)",
   "language": "python",
   "name": "python3"
  },
  "language_info": {
   "codemirror_mode": {
    "name": "ipython",
    "version": 3
   },
   "file_extension": ".py",
   "mimetype": "text/x-python",
   "name": "python",
   "nbconvert_exporter": "python",
   "pygments_lexer": "ipython3",
   "version": "3.9.6"
  }
 },
 "nbformat": 4,
 "nbformat_minor": 5
}
