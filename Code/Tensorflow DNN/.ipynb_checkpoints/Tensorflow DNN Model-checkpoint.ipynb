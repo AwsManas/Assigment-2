{
 "cells": [
  {
   "cell_type": "code",
   "execution_count": 1,
   "id": "ae658b53-35ff-4dc3-bbf1-5ef1854ea17e",
   "metadata": {},
   "outputs": [],
   "source": [
    "import numpy  as np\n",
    "import pandas as pd\n",
    "from metrics import MSE\n",
    "import tensorflow as tf\n",
    "import matplotlib.pyplot as plt"
   ]
  },
  {
   "cell_type": "code",
   "execution_count": 2,
   "id": "a8e9c1e3-2c5e-4fdf-8642-5b5ef6e11ec2",
   "metadata": {},
   "outputs": [],
   "source": [
    "X_train = pd.read_pickle(\"../Datasets/final/X_train.pkl\").drop(columns=[\"gPlusUserId\", \"gPlusPlaceId\"])\n",
    "c = X_train.columns.tolist()\n",
    "X_train = X_train.to_numpy()\n",
    "X_val = pd.read_pickle(\"../Datasets/final/X_val.pkl\").drop(columns=[\"gPlusUserId\", \"gPlusPlaceId\"]).to_numpy()\n",
    "X_test = pd.read_pickle(\"../Datasets/final/X_test.pkl\").drop(columns=[\"gPlusUserId\", \"gPlusPlaceId\"]).to_numpy()\n",
    "y_train = pd.read_pickle(\"../Datasets/final/y_train.pkl\").to_numpy()\n",
    "y_val = pd.read_pickle(\"../Datasets/final/y_val.pkl\").to_numpy()\n",
    "y_test = pd.read_pickle(\"../Datasets/final/y_test.pkl\").to_numpy()"
   ]
  },
  {
   "cell_type": "code",
   "execution_count": 7,
   "id": "e478e5a5-903b-4e5c-a542-9e714c2ddd0a",
   "metadata": {},
   "outputs": [],
   "source": [
    "def build_and_compile_model():\n",
    "    model = tf.keras.Sequential([\n",
    "        # tf.keras.layers.Dense(512, activation=tf.nn.relu),\n",
    "        # tf.keras.layers.Dropout(0.2),\n",
    "        # tf.keras.layers.Dense(256, activation=tf.nn.relu),\n",
    "        # tf.keras.layers.Dropout(0.2),\n",
    "        # tf.keras.layers.Dense(64, activation=tf.nn.relu),\n",
    "        # tf.keras.layers.Dropout(0.1),\n",
    "        tf.keras.layers.Dense(16, activation=tf.nn.relu),\n",
    "        # tf.keras.layers.Dropout(0.1),\n",
    "        tf.keras.layers.Dense(1)\n",
    "    ])\n",
    "    model.compile(optimizer=tf.keras.optimizers.Adam(0.001),\n",
    "                  loss=tf.keras.losses.MeanSquaredError())\n",
    "    return model"
   ]
  },
  {
   "cell_type": "code",
   "execution_count": 8,
   "id": "249c57d6-716f-44c9-a539-23599f31e1a6",
   "metadata": {},
   "outputs": [
    {
     "name": "stdout",
     "output_type": "stream",
     "text": [
      "Model: \"sequential_1\"\n",
      "_________________________________________________________________\n",
      " Layer (type)                Output Shape              Param #   \n",
      "=================================================================\n",
      " dense_5 (Dense)             (484576, 16)              1360      \n",
      "                                                                 \n",
      " dense_6 (Dense)             (484576, 1)               17        \n",
      "                                                                 \n",
      "=================================================================\n",
      "Total params: 1,377\n",
      "Trainable params: 1,377\n",
      "Non-trainable params: 0\n",
      "_________________________________________________________________\n"
     ]
    }
   ],
   "source": [
    "dnn = build_and_compile_model()\n",
    "dnn.build(X_train.shape)\n",
    "dnn.summary()"
   ]
  },
  {
   "cell_type": "code",
   "execution_count": 9,
   "id": "3fb6caf8-771e-44ca-a49b-fceebcc2b76b",
   "metadata": {},
   "outputs": [],
   "source": [
    "early_stopping_callback = tf.keras.callbacks.EarlyStopping(monitor='val_loss', patience=10)\n",
    "checkpoint_filepath = './dnn_model_checkpoint'\n",
    "model_checkpoint_callback = tf.keras.callbacks.ModelCheckpoint(\n",
    "    filepath=checkpoint_filepath,\n",
    "    save_weights_only=True,\n",
    "    monitor='val_loss',\n",
    "    mode='min',\n",
    "    save_best_only=True)"
   ]
  },
  {
   "cell_type": "code",
   "execution_count": 6,
   "id": "0af3f387-5138-4225-b131-b0826ee5ba90",
   "metadata": {},
   "outputs": [
    {
     "name": "stdout",
     "output_type": "stream",
     "text": [
      "Epoch 1/100\n",
      "  109/15143 [..............................] - ETA: 6s - loss: 7.3808    "
     ]
    },
    {
     "name": "stderr",
     "output_type": "stream",
     "text": [
      "2022-11-28 22:58:18.291854: W tensorflow/core/platform/profile_utils/cpu_utils.cc:128] Failed to get CPU frequency: 0 Hz\n"
     ]
    },
    {
     "name": "stdout",
     "output_type": "stream",
     "text": [
      "15143/15143 [==============================] - 7s 477us/step - loss: 0.4805 - val_loss: 0.4223\n",
      "Epoch 2/100\n",
      "15143/15143 [==============================] - 7s 475us/step - loss: 0.4220 - val_loss: 0.4218\n",
      "Epoch 3/100\n",
      "15143/15143 [==============================] - 7s 472us/step - loss: 0.4215 - val_loss: 0.4291\n",
      "Epoch 4/100\n",
      "15143/15143 [==============================] - 7s 474us/step - loss: 0.4209 - val_loss: 0.4218\n",
      "Epoch 5/100\n",
      "15143/15143 [==============================] - 7s 472us/step - loss: 0.4205 - val_loss: 0.4222\n",
      "Epoch 6/100\n",
      "15143/15143 [==============================] - 7s 472us/step - loss: 0.4201 - val_loss: 0.4210\n",
      "Epoch 7/100\n",
      "15143/15143 [==============================] - 7s 472us/step - loss: 0.4197 - val_loss: 0.4211\n",
      "Epoch 8/100\n",
      "15143/15143 [==============================] - 7s 477us/step - loss: 0.4194 - val_loss: 0.4211\n",
      "Epoch 9/100\n",
      "15143/15143 [==============================] - 7s 470us/step - loss: 0.4191 - val_loss: 0.4206\n",
      "Epoch 10/100\n",
      "15143/15143 [==============================] - 7s 474us/step - loss: 0.4189 - val_loss: 0.4238\n",
      "Epoch 11/100\n",
      "15143/15143 [==============================] - 7s 477us/step - loss: 0.4187 - val_loss: 0.4200\n",
      "Epoch 12/100\n",
      "15143/15143 [==============================] - 7s 473us/step - loss: 0.4185 - val_loss: 0.4199\n",
      "Epoch 13/100\n",
      "15143/15143 [==============================] - 7s 475us/step - loss: 0.4183 - val_loss: 0.4200\n",
      "Epoch 14/100\n",
      "15143/15143 [==============================] - 7s 476us/step - loss: 0.4184 - val_loss: 0.4219\n",
      "Epoch 15/100\n",
      "15143/15143 [==============================] - 7s 471us/step - loss: 0.4182 - val_loss: 0.4190\n",
      "Epoch 16/100\n",
      "15143/15143 [==============================] - 7s 472us/step - loss: 0.4182 - val_loss: 0.4202\n",
      "Epoch 17/100\n",
      "15143/15143 [==============================] - 7s 477us/step - loss: 0.4180 - val_loss: 0.4191\n",
      "Epoch 18/100\n",
      "15143/15143 [==============================] - 7s 472us/step - loss: 0.4180 - val_loss: 0.4195\n",
      "Epoch 19/100\n",
      "15143/15143 [==============================] - 7s 472us/step - loss: 0.4180 - val_loss: 0.4194\n",
      "Epoch 20/100\n",
      "15143/15143 [==============================] - 7s 474us/step - loss: 0.4179 - val_loss: 0.4202\n",
      "Epoch 21/100\n",
      "15143/15143 [==============================] - 7s 471us/step - loss: 0.4179 - val_loss: 0.4195\n",
      "Epoch 22/100\n",
      "15143/15143 [==============================] - 7s 471us/step - loss: 0.4179 - val_loss: 0.4200\n",
      "Epoch 23/100\n",
      "15143/15143 [==============================] - 7s 472us/step - loss: 0.4177 - val_loss: 0.4197\n",
      "Epoch 24/100\n",
      "15143/15143 [==============================] - 7s 472us/step - loss: 0.4177 - val_loss: 0.4193\n",
      "Epoch 25/100\n",
      "15143/15143 [==============================] - 7s 470us/step - loss: 0.4175 - val_loss: 0.4196\n"
     ]
    }
   ],
   "source": [
    "history = dnn.fit(x=X_train.astype('float32'), \n",
    "                  y=y_train.astype('float32'),\n",
    "                  epochs=100,\n",
    "                  validation_data=(X_val.astype('float32'), y_val.astype('float32')), \n",
    "                  callbacks=[early_stopping_callback, model_checkpoint_callback])"
   ]
  },
  {
   "cell_type": "code",
   "execution_count": 7,
   "id": "2f34c16c-cfe8-46f3-b23d-87250427e973",
   "metadata": {},
   "outputs": [],
   "source": [
    "def plot_loss(history):\n",
    "    plt.plot(history.history['loss'], label='loss')\n",
    "    plt.plot(history.history['val_loss'], label='val_loss')\n",
    "    # plt.ylim([0.2, 1])\n",
    "    plt.xlabel('Epoch')\n",
    "    plt.ylabel('Error')\n",
    "    plt.legend()\n",
    "    plt.grid(True)"
   ]
  },
  {
   "cell_type": "code",
   "execution_count": 8,
   "id": "b2a16bce-afef-4331-8978-c37fc6c47648",
   "metadata": {},
   "outputs": [
    {
     "data": {
      "image/png": "[encoded data removed]",
      "text/plain": [
       "<Figure size 640x480 with 1 Axes>"
      ]
     },
     "metadata": {},
     "output_type": "display_data"
    }
   ],
   "source": [
    "plot_loss(history=history)"
   ]
  },
  {
   "cell_type": "code",
   "execution_count": 10,
   "id": "7cd1f7d0-6110-4157-9197-56a388d52fb5",
   "metadata": {},
   "outputs": [
    {
     "data": {
      "text/plain": [
       "<tensorflow.python.checkpoint.checkpoint.CheckpointLoadStatus at 0x16c9cddc0>"
      ]
     },
     "execution_count": 10,
     "metadata": {},
     "output_type": "execute_result"
    }
   ],
   "source": [
    "dnn.load_weights(checkpoint_filepath)"
   ]
  },
  {
   "cell_type": "code",
   "execution_count": 10,
   "id": "eda697c0-a0f9-410e-914f-c7642aa17a93",
   "metadata": {},
   "outputs": [
    {
     "name": "stdout",
     "output_type": "stream",
     "text": [
      "5048/5048 [==============================] - 2s 307us/step - loss: 0.4167\n"
     ]
    },
    {
     "data": {
      "text/plain": [
       "0.4166768789291382"
      ]
     },
     "execution_count": 10,
     "metadata": {},
     "output_type": "execute_result"
    }
   ],
   "source": [
    "dnn.evaluate(X_test.astype('float32'), y_test.astype('float32'))"
   ]
  },
  {
   "cell_type": "code",
   "execution_count": 13,
   "id": "fbefa7d5-05ca-4bb3-8095-941c392638b9",
   "metadata": {},
   "outputs": [
    {
     "name": "stdout",
     "output_type": "stream",
     "text": [
      " 548/5048 [==>...........................] - ETA: 1s"
     ]
    },
    {
     "name": "stderr",
     "output_type": "stream",
     "text": [
      "2022-11-28 23:10:45.342986: W tensorflow/core/platform/profile_utils/cpu_utils.cc:128] Failed to get CPU frequency: 0 Hz\n"
     ]
    },
    {
     "name": "stdout",
     "output_type": "stream",
     "text": [
      "5048/5048 [==============================] - 1s 261us/step\n"
     ]
    }
   ],
   "source": [
    "y_pred = dnn.predict(X_test.astype('float32')).flatten()"
   ]
  },
  {
   "cell_type": "code",
   "execution_count": 18,
   "id": "74ac0bad-6af7-4e86-88ee-228fcc6e3034",
   "metadata": {},
   "outputs": [],
   "source": [
    "error = []\n",
    "for i in range(len(y_pred)):\n",
    "    error.append(y_pred[i] - y_test[i, 0])"
   ]
  },
  {
   "cell_type": "code",
   "execution_count": 20,
   "id": "6724035d-528a-4689-bc15-c7301612da87",
   "metadata": {},
   "outputs": [
    {
     "data": {
      "image/png": "[encoded data removed]",
      "text/plain": [
       "<Figure size 640x480 with 1 Axes>"
      ]
     },
     "metadata": {},
     "output_type": "display_data"
    }
   ],
   "source": [
    "plt.hist(error, bins=25)\n",
    "plt.xlabel('Prediction Error')\n",
    "_ = plt.ylabel('Count')"
   ]
  },
  {
   "cell_type": "code",
   "execution_count": 11,
   "id": "57ab8915-66c8-4f75-b2f3-1fce188cfcfe",
   "metadata": {},
   "outputs": [],
   "source": [
    "from metrics import MAE"
   ]
  },
  {
   "cell_type": "code",
   "execution_count": 14,
   "id": "c2e11cd9-055a-4121-b7e3-2a8c41cbafde",
   "metadata": {},
   "outputs": [
    {
     "data": {
      "text/plain": [
       "array([0.36540286])"
      ]
     },
     "execution_count": 14,
     "metadata": {},
     "output_type": "execute_result"
    }
   ],
   "source": [
    "MAE(predictions=y_pred, labels=y_test)"
   ]
  },
  {
   "cell_type": "code",
   "execution_count": null,
   "id": "84233cd7-fbca-41bb-9463-19564b33198f",
   "metadata": {},
   "outputs": [],
   "source": []
  }
 ],
 "metadata": {
  "kernelspec": {
   "display_name": "Python 3 (ipykernel)",
   "language": "python",
   "name": "python3"
  },
  "language_info": {
   "codemirror_mode": {
    "name": "ipython",
    "version": 3
   },
   "file_extension": ".py",
   "mimetype": "text/x-python",
   "name": "python",
   "nbconvert_exporter": "python",
   "pygments_lexer": "ipython3",
   "version": "3.9.6"
  }
 },
 "nbformat": 4,
 "nbformat_minor": 5
}
