{
 "cells": [
  {
   "cell_type": "code",
   "execution_count": 1,
   "id": "ae658b53-35ff-4dc3-bbf1-5ef1854ea17e",
   "metadata": {},
   "outputs": [],
   "source": [
    "import numpy  as np\n",
    "import pandas as pd\n",
    "from metrics import MSE\n",
    "from tqdm import tqdm"
   ]
  },
  {
   "cell_type": "code",
   "execution_count": 2,
   "id": "a8e9c1e3-2c5e-4fdf-8642-5b5ef6e11ec2",
   "metadata": {},
   "outputs": [],
   "source": [
    "X_train = pd.read_pickle(\"../../../../Datasets/temporal/final/X_train.pkl\").drop(columns=[\"gPlusUserId\", \"gPlusPlaceId\"])\n",
    "c = X_train.columns.tolist()\n",
    "X_val = pd.read_pickle(\"../../../../Datasets/temporal/final/X_val.pkl\").drop(columns=[\"gPlusUserId\", \"gPlusPlaceId\"])\n",
    "X_test = pd.read_pickle(\"../../../../Datasets/temporal/final/X_test.pkl\").drop(columns=[\"gPlusUserId\", \"gPlusPlaceId\"])\n",
    "y_train = pd.read_pickle(\"../../../../Datasets/temporal/final/y_train.pkl\").to_numpy()\n",
    "y_val = pd.read_pickle(\"../../../../Datasets/temporal/final/y_val.pkl\").to_numpy()\n",
    "y_test = pd.read_pickle(\"../../../../Datasets/temporal/final/y_test.pkl\").to_numpy()"
   ]
  },
  {
   "cell_type": "code",
   "execution_count": 3,
   "id": "ec747aa6-411b-4744-844c-921f9a6b18bd",
   "metadata": {},
   "outputs": [],
   "source": [
    "X_train.insert(X_train.shape[1], \"rating\", y_train.T[0])"
   ]
  },
  {
   "cell_type": "code",
   "execution_count": 4,
   "id": "84c3c11a-8acb-4888-9d37-ca89dd1d2fe3",
   "metadata": {},
   "outputs": [],
   "source": [
    "state_columns = [i for i in c if \"state\" in i]"
   ]
  },
  {
   "cell_type": "code",
   "execution_count": 5,
   "id": "4bc62ab9-6480-41ee-821c-23abc7766f6f",
   "metadata": {},
   "outputs": [],
   "source": [
    "mean_per_state_dict = {}\n",
    "for state in state_columns:\n",
    "    state_df = X_train.groupby(state).agg({\"rating\": \"mean\"}).reset_index()\n",
    "    mean_per_state_dict[state] = state_df[state_df[state] == 1][\"rating\"].item()"
   ]
  },
  {
   "cell_type": "code",
   "execution_count": 6,
   "id": "8dbc87dc-1693-4042-a504-751f7c1654d0",
   "metadata": {
    "tags": []
   },
   "outputs": [
    {
     "data": {
      "text/plain": [
       "{'state_AL': 3.86983795086252,\n",
       " 'state_AR': 3.8375738300772375,\n",
       " 'state_AZ': 3.863553422991147,\n",
       " 'state_CA': 3.9369029837785265,\n",
       " 'state_CO': 3.941110350894341,\n",
       " 'state_CT': 3.8907804969643864,\n",
       " 'state_DE': 3.941062176165803,\n",
       " 'state_GA': 3.8676523404764755,\n",
       " 'state_IA': 3.8667042677194963,\n",
       " 'state_ID': 3.955899419729207,\n",
       " 'state_IL': 3.901098901098901,\n",
       " 'state_IN': 3.9859421186498936,\n",
       " 'state_KS': 3.8559508124725514,\n",
       " 'state_KY': 3.8765534382767193,\n",
       " 'state_LA': 3.7815126050420167,\n",
       " 'state_MA': 3.9952135493372607,\n",
       " 'state_MD': 3.8432499798986894,\n",
       " 'state_ME': 3.9630931458699474,\n",
       " 'state_MI': 3.8935883193143948,\n",
       " 'state_MN': 3.8672050705377226,\n",
       " 'state_MO': 3.9023027927486527,\n",
       " 'state_MS': 3.667953667953668,\n",
       " 'state_MT': 3.971357409713574,\n",
       " 'state_NC': 3.910533677641489,\n",
       " 'state_ND': 3.5844155844155843,\n",
       " 'state_NE': 3.5725388601036268,\n",
       " 'state_NH': 4.092816787732042,\n",
       " 'state_NJ': 3.936513551094089,\n",
       " 'state_NM': 3.861819235225956,\n",
       " 'state_NV': 3.869701726844584,\n",
       " 'state_NY': 3.8307057967499394,\n",
       " 'state_OH': 3.8798614015174144,\n",
       " 'state_OK': 3.809969724706048,\n",
       " 'state_OR': 3.861111111111111,\n",
       " 'state_PA': 3.8186674580798337,\n",
       " 'state_RI': 3.932699619771863,\n",
       " 'state_SC': 3.9018306636155606,\n",
       " 'state_SD': 3.8765822784810124,\n",
       " 'state_TN': 3.9037994115389534,\n",
       " 'state_TX': 3.82336436678995,\n",
       " 'state_UT': 3.8989741302408563,\n",
       " 'state_VA': 3.887221731881926,\n",
       " 'state_VT': 3.9411496350364965,\n",
       " 'state_WA': 3.93551912568306,\n",
       " 'state_WI': 3.920066438285062,\n",
       " 'state_WV': 3.8661701105237865,\n",
       " 'state_WY': 3.7690721649484535}"
      ]
     },
     "execution_count": 6,
     "metadata": {},
     "output_type": "execute_result"
    }
   ],
   "source": [
    "mean_per_state_dict"
   ]
  },
  {
   "cell_type": "code",
   "execution_count": 7,
   "id": "7d084f0d-b4c9-41ee-b4a3-40c4618c7e53",
   "metadata": {},
   "outputs": [
    {
     "name": "stderr",
     "output_type": "stream",
     "text": [
      "100%|█████████████████████████████████████████████████████████████████████████████████████████████████████████████████████████████████████████████| 161526/161526 [11:17<00:00, 238.38it/s]\n"
     ]
    }
   ],
   "source": [
    "y_pred_val = []\n",
    "for i in tqdm(range(len(X_val))):\n",
    "    for j in range(len(X_val.iloc[i][state_columns])):\n",
    "        if X_val.iloc[i][state_columns][j] == 1:\n",
    "            y_pred_val.append(mean_per_state_dict[state_columns[j]])\n",
    "            break"
   ]
  },
  {
   "cell_type": "code",
   "execution_count": 8,
   "id": "16072d16-3023-4896-bfa4-82cc11a1e729",
   "metadata": {},
   "outputs": [
    {
     "data": {
      "text/plain": [
       "1.721785866921825"
      ]
     },
     "execution_count": 8,
     "metadata": {},
     "output_type": "execute_result"
    }
   ],
   "source": [
    "MSE(predictions=y_pred_val, labels=y_val)[0]"
   ]
  },
  {
   "cell_type": "code",
   "execution_count": 9,
   "id": "c39d4a9a-7a6d-40d6-903f-1a24f62e7d60",
   "metadata": {},
   "outputs": [
    {
     "name": "stderr",
     "output_type": "stream",
     "text": [
      "100%|█████████████████████████████████████████████████████████████████████████████████████████████████████████████████████████████████████████████| 161526/161526 [10:49<00:00, 248.53it/s]\n"
     ]
    }
   ],
   "source": [
    "y_pred = []\n",
    "for i in tqdm(range(len(X_test))):\n",
    "    for j in range(len(X_test.iloc[i][state_columns])):\n",
    "        if X_test.iloc[i][state_columns][j] == 1:\n",
    "            y_pred.append(mean_per_state_dict[state_columns[j]])\n",
    "            break"
   ]
  },
  {
   "cell_type": "code",
   "execution_count": 10,
   "id": "3a1e9096-3cc3-4809-9e76-d9de74aeab67",
   "metadata": {},
   "outputs": [
    {
     "data": {
      "text/plain": [
       "2.529536257440224"
      ]
     },
     "execution_count": 10,
     "metadata": {},
     "output_type": "execute_result"
    }
   ],
   "source": [
    "MSE(predictions=y_pred, labels=y_test)[0]"
   ]
  },
  {
   "cell_type": "code",
   "execution_count": null,
   "id": "c0a7a3f0-8be6-44f2-8c7c-0d1a1a4952eb",
   "metadata": {},
   "outputs": [],
   "source": []
  }
 ],
 "metadata": {
  "kernelspec": {
   "display_name": "Python 3 (ipykernel)",
   "language": "python",
   "name": "python3"
  },
  "language_info": {
   "codemirror_mode": {
    "name": "ipython",
    "version": 3
   },
   "file_extension": ".py",
   "mimetype": "text/x-python",
   "name": "python",
   "nbconvert_exporter": "python",
   "pygments_lexer": "ipython3",
   "version": "3.9.6"
  }
 },
 "nbformat": 4,
 "nbformat_minor": 5
}
