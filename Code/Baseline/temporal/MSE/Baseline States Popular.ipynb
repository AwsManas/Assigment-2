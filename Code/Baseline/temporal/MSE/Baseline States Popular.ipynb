{
 "cells": [
  {
   "cell_type": "code",
   "execution_count": 1,
   "id": "ae658b53-35ff-4dc3-bbf1-5ef1854ea17e",
   "metadata": {},
   "outputs": [],
   "source": [
    "import numpy  as np\n",
    "import pandas as pd\n",
    "from metrics import MSE\n",
    "from tqdm import tqdm"
   ]
  },
  {
   "cell_type": "code",
   "execution_count": 2,
   "id": "a8e9c1e3-2c5e-4fdf-8642-5b5ef6e11ec2",
   "metadata": {},
   "outputs": [],
   "source": [
    "X_train = pd.read_pickle(\"../../../../Datasets/temporal/final/X_train.pkl\")\n",
    "c = X_train.columns.tolist()\n",
    "X_val = pd.read_pickle(\"../../../../Datasets/temporal/final/X_val.pkl\")\n",
    "X_test = pd.read_pickle(\"../../../../Datasets/temporal/final/X_test.pkl\")\n",
    "y_train = pd.read_pickle(\"../../../../Datasets/temporal/final/y_train.pkl\").to_numpy()\n",
    "y_val = pd.read_pickle(\"../../../../Datasets/temporal/final/y_val.pkl\").to_numpy()\n",
    "y_test = pd.read_pickle(\"../../../../Datasets/temporal/final/y_test.pkl\").to_numpy()"
   ]
  },
  {
   "cell_type": "code",
   "execution_count": 3,
   "id": "ec747aa6-411b-4744-844c-921f9a6b18bd",
   "metadata": {},
   "outputs": [],
   "source": [
    "X_train.insert(X_train.shape[1], \"rating\", y_train.T[0])"
   ]
  },
  {
   "cell_type": "code",
   "execution_count": 4,
   "id": "84c3c11a-8acb-4888-9d37-ca89dd1d2fe3",
   "metadata": {},
   "outputs": [],
   "source": [
    "state_columns = [i for i in c if \"state\" in i]"
   ]
  },
  {
   "cell_type": "code",
   "execution_count": 5,
   "id": "4bc62ab9-6480-41ee-821c-23abc7766f6f",
   "metadata": {},
   "outputs": [],
   "source": [
    "mean_per_state_dict = {}\n",
    "for state in state_columns:\n",
    "    state_df = X_train.groupby([state, \"gPlusPlaceId\"]).agg({\"gPlusUserId\": \"count\"}).reset_index()\n",
    "    popular_place = state_df[state_df[state] == 1].sort_values(\"gPlusUserId\", ascending=False).iloc[0][\"gPlusPlaceId\"]\n",
    "    mean_per_state_dict[state] = X_train[(X_train[state] == 1) & (X_train[\"gPlusPlaceId\"] == popular_place)][\"rating\"].mean()"
   ]
  },
  {
   "cell_type": "code",
   "execution_count": 6,
   "id": "8dbc87dc-1693-4042-a504-751f7c1654d0",
   "metadata": {
    "tags": []
   },
   "outputs": [
    {
     "data": {
      "text/plain": [
       "{'state_AL': 4.947368421052632,\n",
       " 'state_AR': 4.135135135135135,\n",
       " 'state_AZ': 4.473684210526316,\n",
       " 'state_CA': 3.788732394366197,\n",
       " 'state_CO': 3.2535211267605635,\n",
       " 'state_CT': 3.875,\n",
       " 'state_DE': 3.823529411764706,\n",
       " 'state_GA': 3.2127659574468086,\n",
       " 'state_IA': 4.285714285714286,\n",
       " 'state_ID': 4.482758620689655,\n",
       " 'state_IL': 4.5675675675675675,\n",
       " 'state_IN': 4.260273972602739,\n",
       " 'state_KS': 4.476190476190476,\n",
       " 'state_KY': 4.5,\n",
       " 'state_LA': 3.6666666666666665,\n",
       " 'state_MA': 4.327868852459017,\n",
       " 'state_MD': 3.9183673469387754,\n",
       " 'state_ME': 4.111111111111111,\n",
       " 'state_MI': 4.285714285714286,\n",
       " 'state_MN': 3.782608695652174,\n",
       " 'state_MO': 4.492537313432836,\n",
       " 'state_MS': 4.1,\n",
       " 'state_MT': 4.6923076923076925,\n",
       " 'state_NC': 4.489795918367347,\n",
       " 'state_ND': 3.4285714285714284,\n",
       " 'state_NE': 3.4,\n",
       " 'state_NH': 4.583333333333333,\n",
       " 'state_NJ': 3.822429906542056,\n",
       " 'state_NM': 3.6153846153846154,\n",
       " 'state_NV': 4.25,\n",
       " 'state_NY': 4.055555555555555,\n",
       " 'state_OH': 4.973333333333334,\n",
       " 'state_OK': 4.517241379310345,\n",
       " 'state_OR': 4.666666666666667,\n",
       " 'state_PA': 4.318181818181818,\n",
       " 'state_RI': 3.75,\n",
       " 'state_SC': 3.9444444444444446,\n",
       " 'state_SD': 4.3125,\n",
       " 'state_TN': 2.0344827586206895,\n",
       " 'state_TX': 3.4722222222222223,\n",
       " 'state_UT': 4.612244897959184,\n",
       " 'state_VA': 3.875,\n",
       " 'state_VT': 4.016393442622951,\n",
       " 'state_WA': 3.642857142857143,\n",
       " 'state_WI': 4.515151515151516,\n",
       " 'state_WV': 3.9565217391304346,\n",
       " 'state_WY': 4.0625}"
      ]
     },
     "execution_count": 6,
     "metadata": {},
     "output_type": "execute_result"
    }
   ],
   "source": [
    "mean_per_state_dict"
   ]
  },
  {
   "cell_type": "code",
   "execution_count": 7,
   "id": "7d084f0d-b4c9-41ee-b4a3-40c4618c7e53",
   "metadata": {},
   "outputs": [
    {
     "name": "stderr",
     "output_type": "stream",
     "text": [
      "100%|█████████████████████████████████████████████████████████████████████████████████████████████████████████████████████████████████████████████| 161526/161526 [11:24<00:00, 235.98it/s]\n"
     ]
    }
   ],
   "source": [
    "y_pred_val = []\n",
    "for i in tqdm(range(len(X_val))):\n",
    "    for j in range(len(X_val.iloc[i][state_columns])):\n",
    "        if X_val.iloc[i][state_columns][j] == 1:\n",
    "            y_pred_val.append(mean_per_state_dict[state_columns[j]])\n",
    "            break"
   ]
  },
  {
   "cell_type": "code",
   "execution_count": 8,
   "id": "16072d16-3023-4896-bfa4-82cc11a1e729",
   "metadata": {},
   "outputs": [
    {
     "data": {
      "text/plain": [
       "1.9861741253742273"
      ]
     },
     "execution_count": 8,
     "metadata": {},
     "output_type": "execute_result"
    }
   ],
   "source": [
    "MSE(predictions=y_pred_val, labels=y_val)[0]"
   ]
  },
  {
   "cell_type": "code",
   "execution_count": 9,
   "id": "c39d4a9a-7a6d-40d6-903f-1a24f62e7d60",
   "metadata": {},
   "outputs": [
    {
     "name": "stderr",
     "output_type": "stream",
     "text": [
      "100%|█████████████████████████████████████████████████████████████████████████████████████████████████████████████████████████████████████████████| 161526/161526 [10:54<00:00, 246.68it/s]\n"
     ]
    }
   ],
   "source": [
    "y_pred = []\n",
    "for i in tqdm(range(len(X_test))):\n",
    "    for j in range(len(X_test.iloc[i][state_columns])):\n",
    "        if X_test.iloc[i][state_columns][j] == 1:\n",
    "            y_pred.append(mean_per_state_dict[state_columns[j]])\n",
    "            break"
   ]
  },
  {
   "cell_type": "code",
   "execution_count": 10,
   "id": "3a1e9096-3cc3-4809-9e76-d9de74aeab67",
   "metadata": {},
   "outputs": [
    {
     "data": {
      "text/plain": [
       "2.8617612596606503"
      ]
     },
     "execution_count": 10,
     "metadata": {},
     "output_type": "execute_result"
    }
   ],
   "source": [
    "MSE(predictions=y_pred, labels=y_test)[0]"
   ]
  },
  {
   "cell_type": "code",
   "execution_count": null,
   "id": "c0a7a3f0-8be6-44f2-8c7c-0d1a1a4952eb",
   "metadata": {},
   "outputs": [],
   "source": []
  }
 ],
 "metadata": {
  "kernelspec": {
   "display_name": "Python 3 (ipykernel)",
   "language": "python",
   "name": "python3"
  },
  "language_info": {
   "codemirror_mode": {
    "name": "ipython",
    "version": 3
   },
   "file_extension": ".py",
   "mimetype": "text/x-python",
   "name": "python",
   "nbconvert_exporter": "python",
   "pygments_lexer": "ipython3",
   "version": "3.9.6"
  }
 },
 "nbformat": 4,
 "nbformat_minor": 5
}
