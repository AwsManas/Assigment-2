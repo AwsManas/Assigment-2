{
 "cells": [
  {
   "cell_type": "code",
   "execution_count": 1,
   "id": "ae658b53-35ff-4dc3-bbf1-5ef1854ea17e",
   "metadata": {},
   "outputs": [],
   "source": [
    "import numpy  as np\n",
    "import pandas as pd\n",
    "from collections import defaultdict\n",
    "from metrics import MAE\n",
    "from tqdm import tqdm"
   ]
  },
  {
   "cell_type": "code",
   "execution_count": 2,
   "id": "a8e9c1e3-2c5e-4fdf-8642-5b5ef6e11ec2",
   "metadata": {},
   "outputs": [],
   "source": [
    "X_train = pd.read_pickle(\"../../../Datasets/final/X_train.pkl\")\n",
    "c = X_train.columns.tolist()\n",
    "X_val = pd.read_pickle(\"../../../Datasets/final/X_val.pkl\")\n",
    "X_test = pd.read_pickle(\"../../../Datasets/final/X_test.pkl\")\n",
    "y_train = pd.read_pickle(\"../../../Datasets/final/y_train.pkl\").to_numpy()\n",
    "y_val = pd.read_pickle(\"../../../Datasets/final/y_val.pkl\").to_numpy()\n",
    "y_test = pd.read_pickle(\"../../../Datasets/final/y_test.pkl\").to_numpy()"
   ]
  },
  {
   "cell_type": "code",
   "execution_count": 3,
   "id": "ec747aa6-411b-4744-844c-921f9a6b18bd",
   "metadata": {},
   "outputs": [],
   "source": [
    "X_train.insert(X_train.shape[1], \"rating\", y_train.T[0])"
   ]
  },
  {
   "cell_type": "code",
   "execution_count": 4,
   "id": "84c3c11a-8acb-4888-9d37-ca89dd1d2fe3",
   "metadata": {},
   "outputs": [],
   "source": [
    "month_columns = [i for i in c if \"month\" in i]\n",
    "year_columns = [i for i in c if \"year\" in i]"
   ]
  },
  {
   "cell_type": "code",
   "execution_count": 5,
   "id": "f69d3f62-babb-49e5-bcb0-cd0df1ef99c2",
   "metadata": {},
   "outputs": [],
   "source": [
    "time_columns = []\n",
    "for i in year_columns:\n",
    "    for j in month_columns:\n",
    "        time_columns.append([j, i])"
   ]
  },
  {
   "cell_type": "code",
   "execution_count": 6,
   "id": "8fdff6f6-b196-473f-8d52-3a53f4fe694a",
   "metadata": {},
   "outputs": [],
   "source": [
    "mean_per_month_dict = {}\n",
    "for month in month_columns:\n",
    "    month_df = X_train.groupby([month, \"gPlusPlaceId\"]).agg({\"gPlusUserId\": \"count\"}).reset_index()\n",
    "    popular_place = month_df[month_df[month] == 1].sort_values(\"gPlusUserId\", ascending=False).iloc[0][\"gPlusPlaceId\"]\n",
    "    mean_per_month_dict[month] = X_train[(X_train[month] == 1) & (X_train[\"gPlusPlaceId\"] == popular_place)][\"rating\"].mean()"
   ]
  },
  {
   "cell_type": "code",
   "execution_count": 7,
   "id": "d8ac42aa-6fcb-4998-b694-4c9d205ba283",
   "metadata": {},
   "outputs": [],
   "source": [
    "mean_per_year_dict = {}\n",
    "for year in year_columns:\n",
    "    year_df = X_train.groupby([year, \"gPlusPlaceId\"]).agg({\"gPlusUserId\": \"count\"}).reset_index()\n",
    "    popular_place = year_df[year_df[year] == 1].sort_values(\"gPlusUserId\", ascending=False).iloc[0][\"gPlusPlaceId\"]\n",
    "    mean_per_year_dict[year] = X_train[(X_train[year] == 1) & (X_train[\"gPlusPlaceId\"] == popular_place)][\"rating\"].mean()"
   ]
  },
  {
   "cell_type": "code",
   "execution_count": 8,
   "id": "4bc62ab9-6480-41ee-821c-23abc7766f6f",
   "metadata": {},
   "outputs": [],
   "source": [
    "mean_per_time_dict = defaultdict(dict)\n",
    "for time in time_columns:\n",
    "    time_df = X_train.groupby([*time, \"gPlusPlaceId\"]).agg({\"gPlusUserId\": \"count\"}).reset_index()\n",
    "    popular_place = time_df[(time_df[time[0]] == 1) & (time_df[time[1]] == 1)].sort_values(\n",
    "        \"gPlusUserId\", ascending=False)\n",
    "    if len(popular_place) > 0:\n",
    "        popular_place = popular_place.iloc[0][\"gPlusPlaceId\"]\n",
    "        res = X_train[(X_train[time[0]] == 1) & (X_train[time[1]] == 1) & (X_train[\"gPlusPlaceId\"] == popular_place)][\"rating\"].mean()\n",
    "        mean_per_time_dict[time[0]][time[1]] = res\n",
    "            "
   ]
  },
  {
   "cell_type": "code",
   "execution_count": 9,
   "id": "8dbc87dc-1693-4042-a504-751f7c1654d0",
   "metadata": {
    "tags": []
   },
   "outputs": [
    {
     "data": {
      "text/plain": [
       "defaultdict(dict,\n",
       "            {'month_12': {'year_1990': 4.2,\n",
       "              'year_2003': 3.0,\n",
       "              'year_2004': 3.5,\n",
       "              'year_2005': 3.5,\n",
       "              'year_2006': 4.5,\n",
       "              'year_2007': 5.0,\n",
       "              'year_2008': 4.333333333333333,\n",
       "              'year_2009': 3.0,\n",
       "              'year_2010': 4.666666666666667,\n",
       "              'year_2011': 4.75,\n",
       "              'year_2012': 4.857142857142857,\n",
       "              'year_2013': 4.333333333333333},\n",
       "             'month_04': {'year_2002': 4.0,\n",
       "              'year_2003': 2.0,\n",
       "              'year_2004': 5.0,\n",
       "              'year_2005': 3.3333333333333335,\n",
       "              'year_2006': 5.0,\n",
       "              'year_2007': 3.5,\n",
       "              'year_2008': 4.75,\n",
       "              'year_2009': 4.5,\n",
       "              'year_2010': 3.5,\n",
       "              'year_2011': 5.0,\n",
       "              'year_2012': 3.6666666666666665,\n",
       "              'year_2013': 2.5},\n",
       "             'month_06': {'year_2002': 5.0,\n",
       "              'year_2004': 4.0,\n",
       "              'year_2005': 4.666666666666667,\n",
       "              'year_2006': 5.0,\n",
       "              'year_2007': 4.666666666666667,\n",
       "              'year_2008': 5.0,\n",
       "              'year_2009': 4.5,\n",
       "              'year_2010': 1.0,\n",
       "              'year_2011': 4.666666666666667,\n",
       "              'year_2012': 5.0,\n",
       "              'year_2013': 4.882352941176471},\n",
       "             'month_01': {'year_2003': 5.0,\n",
       "              'year_2004': 4.0,\n",
       "              'year_2005': 3.0,\n",
       "              'year_2006': 3.6666666666666665,\n",
       "              'year_2007': 4.5,\n",
       "              'year_2008': 4.5,\n",
       "              'year_2009': 4.333333333333333,\n",
       "              'year_2010': 3.25,\n",
       "              'year_2011': 3.9,\n",
       "              'year_2012': 4.0,\n",
       "              'year_2013': 4.75,\n",
       "              'year_2014': 4.933333333333334},\n",
       "             'month_03': {'year_2003': 4.0,\n",
       "              'year_2004': 3.0,\n",
       "              'year_2005': 4.666666666666667,\n",
       "              'year_2006': 3.0,\n",
       "              'year_2007': 4.0,\n",
       "              'year_2008': 4.75,\n",
       "              'year_2009': 4.333333333333333,\n",
       "              'year_2010': 5.0,\n",
       "              'year_2011': 3.857142857142857,\n",
       "              'year_2012': 4.416666666666667,\n",
       "              'year_2013': 4.571428571428571,\n",
       "              'year_2014': 5.0},\n",
       "             'month_05': {'year_2003': 2.0,\n",
       "              'year_2004': 4.0,\n",
       "              'year_2005': 4.666666666666667,\n",
       "              'year_2006': 3.0,\n",
       "              'year_2007': 4.5,\n",
       "              'year_2008': 4.333333333333333,\n",
       "              'year_2009': 3.3333333333333335,\n",
       "              'year_2010': 3.25,\n",
       "              'year_2011': 4.25,\n",
       "              'year_2012': 5.0,\n",
       "              'year_2013': 2.039473684210526},\n",
       "             'month_10': {'year_2003': 3.0,\n",
       "              'year_2004': 5.0,\n",
       "              'year_2005': 3.0,\n",
       "              'year_2006': 4.5,\n",
       "              'year_2007': 2.0,\n",
       "              'year_2008': 3.5,\n",
       "              'year_2009': 2.5,\n",
       "              'year_2010': 4.0,\n",
       "              'year_2011': 4.333333333333333,\n",
       "              'year_2012': 4.0588235294117645,\n",
       "              'year_2013': 4.642857142857143},\n",
       "             'month_11': {'year_2003': 4.0,\n",
       "              'year_2004': 4.333333333333333,\n",
       "              'year_2005': 3.0,\n",
       "              'year_2006': 4.0,\n",
       "              'year_2007': 5.0,\n",
       "              'year_2008': 3.5,\n",
       "              'year_2009': 4.0,\n",
       "              'year_2010': 4.833333333333333,\n",
       "              'year_2011': 4.166666666666667,\n",
       "              'year_2012': 4.0,\n",
       "              'year_2013': 4.6923076923076925},\n",
       "             'month_02': {'year_2004': 4.0,\n",
       "              'year_2005': 4.0,\n",
       "              'year_2006': 5.0,\n",
       "              'year_2007': 4.0,\n",
       "              'year_2008': 3.0,\n",
       "              'year_2009': 1.0,\n",
       "              'year_2010': 4.5,\n",
       "              'year_2011': 4.2,\n",
       "              'year_2012': 3.8,\n",
       "              'year_2013': 4.857142857142857,\n",
       "              'year_2014': 1.0},\n",
       "             'month_07': {'year_2004': 3.0,\n",
       "              'year_2005': 4.0,\n",
       "              'year_2006': 3.0,\n",
       "              'year_2007': 4.5,\n",
       "              'year_2008': 3.0,\n",
       "              'year_2009': 1.0,\n",
       "              'year_2010': 2.5,\n",
       "              'year_2011': 5.0,\n",
       "              'year_2012': 5.0,\n",
       "              'year_2013': 4.590909090909091},\n",
       "             'month_08': {'year_2004': 3.0,\n",
       "              'year_2005': 4.0,\n",
       "              'year_2006': 2.0,\n",
       "              'year_2007': 4.0,\n",
       "              'year_2008': 3.3333333333333335,\n",
       "              'year_2009': 4.5,\n",
       "              'year_2010': 5.0,\n",
       "              'year_2011': 4.166666666666667,\n",
       "              'year_2012': 4.538461538461538,\n",
       "              'year_2013': 4.615384615384615},\n",
       "             'month_09': {'year_2004': 3.5,\n",
       "              'year_2005': 4.0,\n",
       "              'year_2006': 4.0,\n",
       "              'year_2007': 4.0,\n",
       "              'year_2008': 3.625,\n",
       "              'year_2009': 4.0,\n",
       "              'year_2010': 3.0,\n",
       "              'year_2011': 4.166666666666667,\n",
       "              'year_2012': 4.5,\n",
       "              'year_2013': 4.333333333333333}})"
      ]
     },
     "execution_count": 9,
     "metadata": {},
     "output_type": "execute_result"
    }
   ],
   "source": [
    "mean_per_time_dict"
   ]
  },
  {
   "cell_type": "code",
   "execution_count": 10,
   "id": "7d084f0d-b4c9-41ee-b4a3-40c4618c7e53",
   "metadata": {},
   "outputs": [
    {
     "name": "stderr",
     "output_type": "stream",
     "text": [
      "100%|█████████████████████████████████████████████████████████████████████████████████████████████████████████████████████████████████████████████| 161526/161526 [08:20<00:00, 322.59it/s]\n"
     ]
    }
   ],
   "source": [
    "y_pred_val = []\n",
    "for i in tqdm(range(len(X_val))):\n",
    "    res_month = None\n",
    "    res_year = None\n",
    "    \n",
    "    for j in range(len(X_val.iloc[i][month_columns])):\n",
    "        if X_val.iloc[i][month_columns][j] == 1:\n",
    "            res_month = month_columns[j]\n",
    "            break\n",
    "            \n",
    "    for k in range(len(X_val.iloc[i][year_columns])):\n",
    "        if X_val.iloc[i][year_columns][k] == 1:\n",
    "            res_year = year_columns[k]\n",
    "            break\n",
    "            \n",
    "    if res_year not in mean_per_time_dict[res_month]:\n",
    "        month_avg = mean_per_month_dict[res_month] \n",
    "        year_avg = mean_per_year_dict[res_year]\n",
    "        y_pred_val.append(max(month_avg, year_avg))\n",
    "    else:\n",
    "        y_pred_val.append(mean_per_time_dict[res_month][res_year])"
   ]
  },
  {
   "cell_type": "code",
   "execution_count": 11,
   "id": "16072d16-3023-4896-bfa4-82cc11a1e729",
   "metadata": {},
   "outputs": [
    {
     "data": {
      "text/plain": [
       "1.2039334621735212"
      ]
     },
     "execution_count": 11,
     "metadata": {},
     "output_type": "execute_result"
    }
   ],
   "source": [
    "MAE(predictions=y_pred_val, labels=y_val)[0]"
   ]
  },
  {
   "cell_type": "code",
   "execution_count": 12,
   "id": "c39d4a9a-7a6d-40d6-903f-1a24f62e7d60",
   "metadata": {},
   "outputs": [
    {
     "name": "stderr",
     "output_type": "stream",
     "text": [
      "100%|█████████████████████████████████████████████████████████████████████████████████████████████████████████████████████████████████████████████| 161526/161526 [08:02<00:00, 334.91it/s]\n"
     ]
    }
   ],
   "source": [
    "y_pred = []\n",
    "for i in tqdm(range(len(X_test))):\n",
    "    res_month = None\n",
    "    res_year = None\n",
    "    \n",
    "    for j in range(len(X_test.iloc[i][month_columns])):\n",
    "        if X_test.iloc[i][month_columns][j] == 1:\n",
    "            res_month = month_columns[j]\n",
    "            break\n",
    "            \n",
    "    for k in range(len(X_test.iloc[i][year_columns])):\n",
    "        if X_test.iloc[i][year_columns][k] == 1:\n",
    "            res_year = year_columns[k]\n",
    "            break\n",
    "            \n",
    "    if res_year not in mean_per_time_dict[res_month]:\n",
    "        month_avg = mean_per_month_dict[res_month] \n",
    "        year_avg = mean_per_year_dict[res_year]\n",
    "        y_pred.append(max(month_avg, year_avg))\n",
    "    else:\n",
    "        y_pred.append(mean_per_time_dict[res_month][res_year])"
   ]
  },
  {
   "cell_type": "code",
   "execution_count": 13,
   "id": "3a1e9096-3cc3-4809-9e76-d9de74aeab67",
   "metadata": {},
   "outputs": [
    {
     "data": {
      "text/plain": [
       "1.198020007462217"
      ]
     },
     "execution_count": 13,
     "metadata": {},
     "output_type": "execute_result"
    }
   ],
   "source": [
    "MAE(predictions=y_pred, labels=y_test)[0]"
   ]
  },
  {
   "cell_type": "code",
   "execution_count": null,
   "id": "c0a7a3f0-8be6-44f2-8c7c-0d1a1a4952eb",
   "metadata": {},
   "outputs": [],
   "source": []
  }
 ],
 "metadata": {
  "kernelspec": {
   "display_name": "Python 3 (ipykernel)",
   "language": "python",
   "name": "python3"
  },
  "language_info": {
   "codemirror_mode": {
    "name": "ipython",
    "version": 3
   },
   "file_extension": ".py",
   "mimetype": "text/x-python",
   "name": "python",
   "nbconvert_exporter": "python",
   "pygments_lexer": "ipython3",
   "version": "3.9.6"
  }
 },
 "nbformat": 4,
 "nbformat_minor": 5
}
