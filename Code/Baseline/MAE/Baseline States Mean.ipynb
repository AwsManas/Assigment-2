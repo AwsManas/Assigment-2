{
 "cells": [
  {
   "cell_type": "code",
   "execution_count": 1,
   "id": "ae658b53-35ff-4dc3-bbf1-5ef1854ea17e",
   "metadata": {},
   "outputs": [],
   "source": [
    "import numpy  as np\n",
    "import pandas as pd\n",
    "from metrics import MAE\n",
    "from tqdm import tqdm"
   ]
  },
  {
   "cell_type": "code",
   "execution_count": 2,
   "id": "a8e9c1e3-2c5e-4fdf-8642-5b5ef6e11ec2",
   "metadata": {},
   "outputs": [],
   "source": [
    "X_train = pd.read_pickle(\"../../../Datasets/final/X_train.pkl\").drop(columns=[\"gPlusUserId\", \"gPlusPlaceId\"])\n",
    "c = X_train.columns.tolist()\n",
    "X_val = pd.read_pickle(\"../../../Datasets/final/X_val.pkl\").drop(columns=[\"gPlusUserId\", \"gPlusPlaceId\"])\n",
    "X_test = pd.read_pickle(\"../../../Datasets/final/X_test.pkl\").drop(columns=[\"gPlusUserId\", \"gPlusPlaceId\"])\n",
    "y_train = pd.read_pickle(\"../../../Datasets/final/y_train.pkl\").to_numpy()\n",
    "y_val = pd.read_pickle(\"../../../Datasets/final/y_val.pkl\").to_numpy()\n",
    "y_test = pd.read_pickle(\"../../../Datasets/final/y_test.pkl\").to_numpy()"
   ]
  },
  {
   "cell_type": "code",
   "execution_count": 3,
   "id": "ec747aa6-411b-4744-844c-921f9a6b18bd",
   "metadata": {},
   "outputs": [],
   "source": [
    "X_train.insert(X_train.shape[1], \"rating\", y_train.T[0])"
   ]
  },
  {
   "cell_type": "code",
   "execution_count": 4,
   "id": "84c3c11a-8acb-4888-9d37-ca89dd1d2fe3",
   "metadata": {},
   "outputs": [],
   "source": [
    "state_columns = [i for i in c if \"state\" in i]"
   ]
  },
  {
   "cell_type": "code",
   "execution_count": 5,
   "id": "4bc62ab9-6480-41ee-821c-23abc7766f6f",
   "metadata": {},
   "outputs": [],
   "source": [
    "mean_per_state_dict = {}\n",
    "for state in state_columns:\n",
    "    state_df = X_train.groupby(state).agg({\"rating\": \"mean\"}).reset_index()\n",
    "    mean_per_state_dict[state] = state_df[state_df[state] == 1][\"rating\"].item()"
   ]
  },
  {
   "cell_type": "code",
   "execution_count": 6,
   "id": "8dbc87dc-1693-4042-a504-751f7c1654d0",
   "metadata": {
    "tags": []
   },
   "outputs": [
    {
     "data": {
      "text/plain": [
       "{'state_AL': 3.7559808612440193,\n",
       " 'state_AR': 3.7404702122803015,\n",
       " 'state_AZ': 3.7855842280404346,\n",
       " 'state_CA': 3.8718092468333363,\n",
       " 'state_CO': 3.8026193668144788,\n",
       " 'state_CT': 3.802923518663534,\n",
       " 'state_DE': 3.823994726433751,\n",
       " 'state_GA': 3.775103489059728,\n",
       " 'state_IA': 3.762487852283771,\n",
       " 'state_ID': 3.8983527521092807,\n",
       " 'state_IL': 3.8477072578196174,\n",
       " 'state_IN': 4.017468074192068,\n",
       " 'state_KS': 3.7370590929912963,\n",
       " 'state_KY': 3.7780190614066838,\n",
       " 'state_LA': 3.576687116564417,\n",
       " 'state_MA': 3.946958324397741,\n",
       " 'state_MD': 3.767489199069458,\n",
       " 'state_ME': 3.81025641025641,\n",
       " 'state_MI': 3.7669621273166802,\n",
       " 'state_MN': 3.767685851318945,\n",
       " 'state_MO': 3.8017885220125787,\n",
       " 'state_MS': 3.5296442687747036,\n",
       " 'state_MT': 3.858611825192802,\n",
       " 'state_NC': 3.819687748081503,\n",
       " 'state_ND': 3.4686468646864688,\n",
       " 'state_NE': 3.54320987654321,\n",
       " 'state_NH': 3.981673306772908,\n",
       " 'state_NJ': 3.909345674251189,\n",
       " 'state_NM': 3.7369634111207146,\n",
       " 'state_NV': 3.7892659826361483,\n",
       " 'state_NY': 3.75484187300809,\n",
       " 'state_OH': 3.7859594195917876,\n",
       " 'state_OK': 3.7232596457503777,\n",
       " 'state_OR': 3.86046511627907,\n",
       " 'state_PA': 3.68735599078341,\n",
       " 'state_RI': 3.876475216365067,\n",
       " 'state_SC': 3.8084889643463495,\n",
       " 'state_SD': 3.791090629800307,\n",
       " 'state_TN': 3.8170306241116423,\n",
       " 'state_TX': 3.7064508335346704,\n",
       " 'state_UT': 3.773197060174552,\n",
       " 'state_VA': 3.8023244552058113,\n",
       " 'state_VT': 3.7862694300518136,\n",
       " 'state_WA': 3.85546875,\n",
       " 'state_WI': 3.822663723325975,\n",
       " 'state_WV': 3.767407769362326,\n",
       " 'state_WY': 3.597378277153558}"
      ]
     },
     "execution_count": 6,
     "metadata": {},
     "output_type": "execute_result"
    }
   ],
   "source": [
    "mean_per_state_dict"
   ]
  },
  {
   "cell_type": "code",
   "execution_count": 7,
   "id": "7d084f0d-b4c9-41ee-b4a3-40c4618c7e53",
   "metadata": {},
   "outputs": [
    {
     "name": "stderr",
     "output_type": "stream",
     "text": [
      "100%|█████████████████████████████████████████████████████████████████████████████████████████████████████████████████████████████████████████████| 161526/161526 [08:59<00:00, 299.21it/s]\n"
     ]
    }
   ],
   "source": [
    "y_pred_val = []\n",
    "for i in tqdm(range(len(X_val))):\n",
    "    for j in range(len(X_val.iloc[i][state_columns])):\n",
    "        if X_val.iloc[i][state_columns][j] == 1:\n",
    "            y_pred_val.append(mean_per_state_dict[state_columns[j]])\n",
    "            break"
   ]
  },
  {
   "cell_type": "code",
   "execution_count": 8,
   "id": "16072d16-3023-4896-bfa4-82cc11a1e729",
   "metadata": {},
   "outputs": [
    {
     "data": {
      "text/plain": [
       "1.0727434910882276"
      ]
     },
     "execution_count": 8,
     "metadata": {},
     "output_type": "execute_result"
    }
   ],
   "source": [
    "MAE(predictions=y_pred_val, labels=y_val)[0]"
   ]
  },
  {
   "cell_type": "code",
   "execution_count": 9,
   "id": "c39d4a9a-7a6d-40d6-903f-1a24f62e7d60",
   "metadata": {},
   "outputs": [
    {
     "name": "stderr",
     "output_type": "stream",
     "text": [
      "100%|█████████████████████████████████████████████████████████████████████████████████████████████████████████████████████████████████████████████| 161526/161526 [09:00<00:00, 298.74it/s]\n"
     ]
    }
   ],
   "source": [
    "y_pred = []\n",
    "for i in tqdm(range(len(X_test))):\n",
    "    for j in range(len(X_test.iloc[i][state_columns])):\n",
    "        if X_test.iloc[i][state_columns][j] == 1:\n",
    "            y_pred.append(mean_per_state_dict[state_columns[j]])\n",
    "            break"
   ]
  },
  {
   "cell_type": "code",
   "execution_count": 10,
   "id": "3a1e9096-3cc3-4809-9e76-d9de74aeab67",
   "metadata": {},
   "outputs": [
    {
     "data": {
      "text/plain": [
       "1.0676916003156327"
      ]
     },
     "execution_count": 10,
     "metadata": {},
     "output_type": "execute_result"
    }
   ],
   "source": [
    "MAE(predictions=y_pred, labels=y_test)[0]"
   ]
  },
  {
   "cell_type": "code",
   "execution_count": null,
   "id": "c0a7a3f0-8be6-44f2-8c7c-0d1a1a4952eb",
   "metadata": {},
   "outputs": [],
   "source": []
  }
 ],
 "metadata": {
  "kernelspec": {
   "display_name": "Python 3 (ipykernel)",
   "language": "python",
   "name": "python3"
  },
  "language_info": {
   "codemirror_mode": {
    "name": "ipython",
    "version": 3
   },
   "file_extension": ".py",
   "mimetype": "text/x-python",
   "name": "python",
   "nbconvert_exporter": "python",
   "pygments_lexer": "ipython3",
   "version": "3.9.6"
  }
 },
 "nbformat": 4,
 "nbformat_minor": 5
}
