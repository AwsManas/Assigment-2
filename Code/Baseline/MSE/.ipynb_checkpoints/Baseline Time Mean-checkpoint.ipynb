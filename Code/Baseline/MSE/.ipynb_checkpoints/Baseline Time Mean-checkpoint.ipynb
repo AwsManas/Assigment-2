{
 "cells": [
  {
   "cell_type": "code",
   "execution_count": 1,
   "id": "ae658b53-35ff-4dc3-bbf1-5ef1854ea17e",
   "metadata": {},
   "outputs": [],
   "source": [
    "import numpy  as np\n",
    "import pandas as pd\n",
    "from collections import defaultdict\n",
    "from metrics import MSE\n",
    "from tqdm import tqdm"
   ]
  },
  {
   "cell_type": "code",
   "execution_count": 2,
   "id": "a8e9c1e3-2c5e-4fdf-8642-5b5ef6e11ec2",
   "metadata": {},
   "outputs": [],
   "source": [
    "X_train = pd.read_pickle(\"../Datasets/final/X_train.pkl\").drop(columns=[\"gPlusUserId\", \"gPlusPlaceId\"])\n",
    "c = X_train.columns.tolist()\n",
    "X_val = pd.read_pickle(\"../Datasets/final/X_val.pkl\").drop(columns=[\"gPlusUserId\", \"gPlusPlaceId\"])\n",
    "X_test = pd.read_pickle(\"../Datasets/final/X_test.pkl\").drop(columns=[\"gPlusUserId\", \"gPlusPlaceId\"])\n",
    "y_train = pd.read_pickle(\"../Datasets/final/y_train.pkl\").to_numpy()\n",
    "y_val = pd.read_pickle(\"../Datasets/final/y_val.pkl\").to_numpy()\n",
    "y_test = pd.read_pickle(\"../Datasets/final/y_test.pkl\").to_numpy()"
   ]
  },
  {
   "cell_type": "code",
   "execution_count": 3,
   "id": "ec747aa6-411b-4744-844c-921f9a6b18bd",
   "metadata": {},
   "outputs": [],
   "source": [
    "X_train.insert(X_train.shape[1], \"rating\", y_train.T[0])"
   ]
  },
  {
   "cell_type": "code",
   "execution_count": 4,
   "id": "84c3c11a-8acb-4888-9d37-ca89dd1d2fe3",
   "metadata": {},
   "outputs": [],
   "source": [
    "month_columns = [i for i in c if \"month\" in i]\n",
    "year_columns = [i for i in c if \"year\" in i]"
   ]
  },
  {
   "cell_type": "code",
   "execution_count": 5,
   "id": "f69d3f62-babb-49e5-bcb0-cd0df1ef99c2",
   "metadata": {},
   "outputs": [],
   "source": [
    "time_columns = []\n",
    "for i in year_columns:\n",
    "    for j in month_columns:\n",
    "        time_columns.append([j, i])"
   ]
  },
  {
   "cell_type": "code",
   "execution_count": 6,
   "id": "8fdff6f6-b196-473f-8d52-3a53f4fe694a",
   "metadata": {},
   "outputs": [],
   "source": [
    "mean_per_month_dict = {}\n",
    "for month in month_columns:\n",
    "    month_df = X_train.groupby(month).agg({\"rating\": \"mean\"}).reset_index()\n",
    "    mean_per_month_dict[month] = month_df[month_df[month] == 1][\"rating\"].item()"
   ]
  },
  {
   "cell_type": "code",
   "execution_count": 7,
   "id": "d8ac42aa-6fcb-4998-b694-4c9d205ba283",
   "metadata": {},
   "outputs": [],
   "source": [
    "mean_per_year_dict = {}\n",
    "for year in year_columns:\n",
    "    year_df = X_train.groupby(year).agg({\"rating\": \"mean\"}).reset_index()\n",
    "    mean_per_year_dict[year] = year_df[year_df[year] == 1][\"rating\"].item()"
   ]
  },
  {
   "cell_type": "code",
   "execution_count": 8,
   "id": "4bc62ab9-6480-41ee-821c-23abc7766f6f",
   "metadata": {},
   "outputs": [],
   "source": [
    "mean_per_time_dict = defaultdict(dict)\n",
    "for time in time_columns:\n",
    "    time_df = X_train.groupby(time).agg({\"rating\": \"mean\"}).reset_index()\n",
    "    res = time_df[(time_df[time[0]] == 1) & (time_df[time[1]] == 1)][\"rating\"]\n",
    "    if len(res) > 0:\n",
    "        mean_per_time_dict[time[0]][time[1]] = res.item()"
   ]
  },
  {
   "cell_type": "code",
   "execution_count": 9,
   "id": "8dbc87dc-1693-4042-a504-751f7c1654d0",
   "metadata": {
    "collapsed": true,
    "jupyter": {
     "outputs_hidden": true
    },
    "tags": []
   },
   "outputs": [
    {
     "data": {
      "text/plain": [
       "defaultdict(dict,\n",
       "            {'month_12': {'year_1990': 4.212534059945504,\n",
       "              'year_2003': 3.0,\n",
       "              'year_2004': 4.0285714285714285,\n",
       "              'year_2005': 3.588235294117647,\n",
       "              'year_2006': 4.017241379310345,\n",
       "              'year_2007': 3.84,\n",
       "              'year_2008': 3.7169811320754715,\n",
       "              'year_2009': 3.6231060606060606,\n",
       "              'year_2010': 3.962557603686636,\n",
       "              'year_2011': 3.7546524876566654,\n",
       "              'year_2012': 3.9174698410672115,\n",
       "              'year_2013': 3.6263898273849744},\n",
       "             'month_04': {'year_2002': 4.0,\n",
       "              'year_2003': 3.6,\n",
       "              'year_2004': 3.75,\n",
       "              'year_2005': 3.9109311740890687,\n",
       "              'year_2006': 3.7641509433962264,\n",
       "              'year_2007': 3.7511111111111113,\n",
       "              'year_2008': 3.8005540166204987,\n",
       "              'year_2009': 3.778745644599303,\n",
       "              'year_2010': 3.781523096129838,\n",
       "              'year_2011': 3.867855270057682,\n",
       "              'year_2012': 3.7466829342687205,\n",
       "              'year_2013': 3.8742866925359505},\n",
       "             'month_06': {'year_2002': 5.0,\n",
       "              'year_2004': 4.0,\n",
       "              'year_2005': 4.194444444444445,\n",
       "              'year_2006': 4.4,\n",
       "              'year_2007': 3.8529411764705883,\n",
       "              'year_2008': 3.7540983606557377,\n",
       "              'year_2009': 3.6068702290076335,\n",
       "              'year_2010': 3.5934664246823957,\n",
       "              'year_2011': 3.785983203011874,\n",
       "              'year_2012': 4.13079674796748,\n",
       "              'year_2013': 3.904355344212688},\n",
       "             'month_01': {'year_2003': 5.0,\n",
       "              'year_2004': 4.4,\n",
       "              'year_2005': 3.9240506329113924,\n",
       "              'year_2006': 4.0,\n",
       "              'year_2007': 4.25,\n",
       "              'year_2008': 4.007575757575758,\n",
       "              'year_2009': 3.8308457711442787,\n",
       "              'year_2010': 3.6666666666666665,\n",
       "              'year_2011': 3.873779113448535,\n",
       "              'year_2012': 3.769254514585584,\n",
       "              'year_2013': 3.8965826717293752,\n",
       "              'year_2014': 3.6394679863903496},\n",
       "             'month_03': {'year_2003': 4.0,\n",
       "              'year_2004': 3.6363636363636362,\n",
       "              'year_2005': 3.8554913294797686,\n",
       "              'year_2006': 3.8051470588235294,\n",
       "              'year_2007': 3.9295774647887325,\n",
       "              'year_2008': 3.914383561643836,\n",
       "              'year_2009': 3.904059040590406,\n",
       "              'year_2010': 3.781947261663286,\n",
       "              'year_2011': 3.8863425925925927,\n",
       "              'year_2012': 3.78743961352657,\n",
       "              'year_2013': 3.951061943165984,\n",
       "              'year_2014': 3.6091358175275965},\n",
       "             'month_05': {'year_2003': 3.0,\n",
       "              'year_2004': 3.8333333333333335,\n",
       "              'year_2005': 3.75,\n",
       "              'year_2006': 3.914473684210526,\n",
       "              'year_2007': 3.965909090909091,\n",
       "              'year_2008': 3.7853403141361257,\n",
       "              'year_2009': 3.8043478260869565,\n",
       "              'year_2010': 3.8063457330415753,\n",
       "              'year_2011': 3.8408223201174745,\n",
       "              'year_2012': 3.8714354760753986,\n",
       "              'year_2013': 3.885522550083884},\n",
       "             'month_10': {'year_2003': 4.333333333333333,\n",
       "              'year_2004': 3.8615384615384616,\n",
       "              'year_2005': 3.8461538461538463,\n",
       "              'year_2006': 4.081967213114754,\n",
       "              'year_2007': 3.957894736842105,\n",
       "              'year_2008': 3.7569060773480665,\n",
       "              'year_2009': 3.662857142857143,\n",
       "              'year_2010': 3.686705202312139,\n",
       "              'year_2011': 3.772085956153679,\n",
       "              'year_2012': 3.9449640287769783,\n",
       "              'year_2013': 3.7067792767259946},\n",
       "             'month_11': {'year_2003': 4.5,\n",
       "              'year_2004': 3.9044117647058822,\n",
       "              'year_2005': 3.96,\n",
       "              'year_2006': 4.017543859649122,\n",
       "              'year_2007': 4.015151515151516,\n",
       "              'year_2008': 3.7053140096618358,\n",
       "              'year_2009': 3.5956284153005464,\n",
       "              'year_2010': 4.020421186981493,\n",
       "              'year_2011': 3.769325404962067,\n",
       "              'year_2012': 3.8996534898522026,\n",
       "              'year_2013': 3.689425834401123},\n",
       "             'month_02': {'year_2004': 4.0,\n",
       "              'year_2005': 4.4,\n",
       "              'year_2006': 4.094736842105263,\n",
       "              'year_2007': 4.0,\n",
       "              'year_2008': 3.807142857142857,\n",
       "              'year_2009': 3.5609756097560976,\n",
       "              'year_2010': 3.7194719471947195,\n",
       "              'year_2011': 3.925163983303518,\n",
       "              'year_2012': 3.7918939984411537,\n",
       "              'year_2013': 3.8558344863938854,\n",
       "              'year_2014': 3.595047154680182},\n",
       "             'month_07': {'year_2004': 3.625,\n",
       "              'year_2005': 3.942857142857143,\n",
       "              'year_2006': 3.6666666666666665,\n",
       "              'year_2007': 4.089743589743589,\n",
       "              'year_2008': 3.590643274853801,\n",
       "              'year_2009': 3.721311475409836,\n",
       "              'year_2010': 3.6614950634696757,\n",
       "              'year_2011': 3.771985494106981,\n",
       "              'year_2012': 4.11938202247191,\n",
       "              'year_2013': 3.82544365061074},\n",
       "             'month_08': {'year_2004': 3.5,\n",
       "              'year_2005': 3.875,\n",
       "              'year_2006': 3.5,\n",
       "              'year_2007': 3.7790697674418605,\n",
       "              'year_2008': 3.7333333333333334,\n",
       "              'year_2009': 3.728358208955224,\n",
       "              'year_2010': 3.558333333333333,\n",
       "              'year_2011': 3.7677511765909557,\n",
       "              'year_2012': 4.105119022540552,\n",
       "              'year_2013': 3.7385688210792343},\n",
       "             'month_09': {'year_2004': 3.85,\n",
       "              'year_2005': 4.588235294117647,\n",
       "              'year_2006': 3.923076923076923,\n",
       "              'year_2007': 4.0,\n",
       "              'year_2008': 3.730769230769231,\n",
       "              'year_2009': 3.689873417721519,\n",
       "              'year_2010': 3.6473265073947667,\n",
       "              'year_2011': 3.7715323787134003,\n",
       "              'year_2012': 4.056697108066971,\n",
       "              'year_2013': 3.7393923240938167}})"
      ]
     },
     "execution_count": 9,
     "metadata": {},
     "output_type": "execute_result"
    }
   ],
   "source": [
    "mean_per_time_dict"
   ]
  },
  {
   "cell_type": "code",
   "execution_count": 10,
   "id": "7d084f0d-b4c9-41ee-b4a3-40c4618c7e53",
   "metadata": {},
   "outputs": [
    {
     "name": "stderr",
     "output_type": "stream",
     "text": [
      "100%|█████████████████████████████████████████████████████████████████████████████████████████████████████████████████████████████████████████████| 161526/161526 [07:57<00:00, 338.15it/s]\n"
     ]
    }
   ],
   "source": [
    "y_pred_val = []\n",
    "for i in tqdm(range(len(X_val))):\n",
    "    res_month = None\n",
    "    res_year = None\n",
    "    \n",
    "    for j in range(len(X_val.iloc[i][month_columns])):\n",
    "        if X_val.iloc[i][month_columns][j] == 1:\n",
    "            res_month = month_columns[j]\n",
    "            break\n",
    "            \n",
    "    for k in range(len(X_val.iloc[i][year_columns])):\n",
    "        if X_val.iloc[i][year_columns][k] == 1:\n",
    "            res_year = year_columns[k]\n",
    "            break\n",
    "            \n",
    "    if res_year not in mean_per_time_dict[res_month]:\n",
    "        month_avg = mean_per_month_dict[res_month] \n",
    "        year_avg = mean_per_year_dict[res_year]\n",
    "        y_pred_val.append(max(month_avg, year_avg))\n",
    "    else:\n",
    "        y_pred_val.append(mean_per_time_dict[res_month][res_year])"
   ]
  },
  {
   "cell_type": "code",
   "execution_count": 11,
   "id": "16072d16-3023-4896-bfa4-82cc11a1e729",
   "metadata": {},
   "outputs": [
    {
     "data": {
      "text/plain": [
       "1.6805897772228888"
      ]
     },
     "execution_count": 11,
     "metadata": {},
     "output_type": "execute_result"
    }
   ],
   "source": [
    "MSE(predictions=y_pred_val, labels=y_val)[0]"
   ]
  },
  {
   "cell_type": "code",
   "execution_count": 13,
   "id": "c39d4a9a-7a6d-40d6-903f-1a24f62e7d60",
   "metadata": {},
   "outputs": [
    {
     "name": "stderr",
     "output_type": "stream",
     "text": [
      "100%|█████████████████████████████████████████████████████████████████████████████████████████████████████████████████████████████████████████████| 161526/161526 [08:01<00:00, 335.64it/s]\n"
     ]
    }
   ],
   "source": [
    "y_pred = []\n",
    "for i in tqdm(range(len(X_test))):\n",
    "    res_month = None\n",
    "    res_year = None\n",
    "    \n",
    "    for j in range(len(X_test.iloc[i][month_columns])):\n",
    "        if X_test.iloc[i][month_columns][j] == 1:\n",
    "            res_month = month_columns[j]\n",
    "            break\n",
    "            \n",
    "    for k in range(len(X_test.iloc[i][year_columns])):\n",
    "        if X_test.iloc[i][year_columns][k] == 1:\n",
    "            res_year = year_columns[k]\n",
    "            break\n",
    "            \n",
    "    if res_year not in mean_per_time_dict[res_month]:\n",
    "        month_avg = mean_per_month_dict[res_month] \n",
    "        year_avg = mean_per_year_dict[res_year]\n",
    "        y_pred.append(max(month_avg, year_avg))\n",
    "    else:\n",
    "        y_pred.append(mean_per_time_dict[res_month][res_year])"
   ]
  },
  {
   "cell_type": "code",
   "execution_count": 14,
   "id": "3a1e9096-3cc3-4809-9e76-d9de74aeab67",
   "metadata": {},
   "outputs": [
    {
     "data": {
      "text/plain": [
       "1.6616142544726031"
      ]
     },
     "execution_count": 14,
     "metadata": {},
     "output_type": "execute_result"
    }
   ],
   "source": [
    "MSE(predictions=y_pred, labels=y_test)[0]"
   ]
  },
  {
   "cell_type": "code",
   "execution_count": null,
   "id": "c0a7a3f0-8be6-44f2-8c7c-0d1a1a4952eb",
   "metadata": {},
   "outputs": [],
   "source": []
  }
 ],
 "metadata": {
  "kernelspec": {
   "display_name": "Python 3 (ipykernel)",
   "language": "python",
   "name": "python3"
  },
  "language_info": {
   "codemirror_mode": {
    "name": "ipython",
    "version": 3
   },
   "file_extension": ".py",
   "mimetype": "text/x-python",
   "name": "python",
   "nbconvert_exporter": "python",
   "pygments_lexer": "ipython3",
   "version": "3.9.6"
  }
 },
 "nbformat": 4,
 "nbformat_minor": 5
}
