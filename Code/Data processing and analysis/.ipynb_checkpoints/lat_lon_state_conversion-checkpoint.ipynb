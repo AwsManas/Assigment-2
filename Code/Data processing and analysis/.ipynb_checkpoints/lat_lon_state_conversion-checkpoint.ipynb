{
 "cells": [
  {
   "cell_type": "code",
   "execution_count": 1,
   "id": "55286b13-5b5b-48f5-baa6-923040df02f8",
   "metadata": {},
   "outputs": [],
   "source": [
    "import math\n",
    "import pandas as pd\n",
    "from collections import defaultdict\n",
    "from tqdm import tqdm "
   ]
  },
  {
   "cell_type": "code",
   "execution_count": 2,
   "id": "7df01bb9-6d14-4277-a30b-2c034d84ecf8",
   "metadata": {},
   "outputs": [],
   "source": [
    "df = pd.read_pickle(\"../Datasets/USA_Filtered.pkl\")"
   ]
  },
  {
   "cell_type": "code",
   "execution_count": 3,
   "id": "6ae6a9bb-efb9-4561-b879-815295b92d19",
   "metadata": {},
   "outputs": [],
   "source": [
    "df_map = pd.read_csv(\"../Datasets/states_lat_lon.tsv\", delimiter=\"\\t\")"
   ]
  },
  {
   "cell_type": "code",
   "execution_count": 4,
   "id": "f98689d3-930f-4279-8a1e-a73adc203803",
   "metadata": {},
   "outputs": [],
   "source": [
    "df_map2 = pd.read_csv(\"../Datasets/state_abbrevation.tsv\", delimiter=\"\\t\").rename(\n",
    "    columns={\"State\": \"state\", 'Postal Abbr.': \"code\"})[[\"state\", \"code\"]]"
   ]
  },
  {
   "cell_type": "code",
   "execution_count": 5,
   "id": "c24eb88e-8a4a-4390-bf02-b14bc1459a25",
   "metadata": {},
   "outputs": [],
   "source": [
    "df_map_joined = df_map.merge(df_map2, how=\"inner\", on=\"state\")"
   ]
  },
  {
   "cell_type": "code",
   "execution_count": 6,
   "id": "4cbc7271-65f9-40e8-9265-6db90d94f6b7",
   "metadata": {},
   "outputs": [],
   "source": [
    "def get_distance(lat1, lon1, lat2, lon2):\n",
    "    rlat1 = math.pi * lat1 / 180\n",
    "    rlat2 = math.pi * lat2 / 180\n",
    "    theta = lon1 - lon2\n",
    "    rtheta = math.pi * theta / 180\n",
    "    dist = math.sin(rlat1) * math.sin(rlat2) + math.cos(rlat1) * math.cos(rlat2) * math.cos(rtheta)\n",
    "    dist = math.acos(dist)\n",
    "    dist = dist * 180 / math.pi\n",
    "    dist = dist * 60 * 1.1515\n",
    "    return dist"
   ]
  },
  {
   "cell_type": "code",
   "execution_count": 7,
   "id": "0582d51c-14ac-4bd2-ba06-27e24acf464b",
   "metadata": {},
   "outputs": [],
   "source": [
    "def get_state(gps):\n",
    "    lat, lon = gps[0], gps[1]\n",
    "    dist = []\n",
    "    \n",
    "    for i in range(len(df_map_joined)):\n",
    "        dist.append((get_distance(lat1=lat, lon1=lon, \n",
    "                                  lat2=df_map_joined.iloc[i][\"latitude\"], \n",
    "                                  lon2=df_map_joined.iloc[i][\"longitude\"]), \n",
    "                     df_map_joined.iloc[i][\"code\"]))\n",
    "    \n",
    "    state = sorted(dist, key=lambda item: item[0])[0][1]\n",
    "    return state"
   ]
  },
  {
   "cell_type": "code",
   "execution_count": 8,
   "id": "449d2c71-43ec-43da-b0c8-7f6c158fb6b1",
   "metadata": {},
   "outputs": [
    {
     "data": {
      "text/plain": [
       "'CA'"
      ]
     },
     "execution_count": 8,
     "metadata": {},
     "output_type": "execute_result"
    }
   ],
   "source": [
    "get_state([34.140884, -117.999102])"
   ]
  },
  {
   "cell_type": "code",
   "execution_count": 9,
   "id": "eb667aa2-8a3b-47d8-a9a5-35dc061d63a6",
   "metadata": {},
   "outputs": [],
   "source": [
    "tqdm.pandas()"
   ]
  },
  {
   "cell_type": "code",
   "execution_count": null,
   "id": "5b645e3d-e31d-4cfd-97d1-4194189ec6c8",
   "metadata": {
    "tags": []
   },
   "outputs": [],
   "source": [
    "df2 = df[[\"lat\", \"lon\", \"gps\"]].drop_duplicates(subset=[\"lat\", \"lon\"])"
   ]
  },
  {
   "cell_type": "code",
   "execution_count": null,
   "id": "9eb36580-86c9-43fb-b819-29c240d701d3",
   "metadata": {
    "tags": []
   },
   "outputs": [],
   "source": [
    "df2[\"state\"] = df2[\"gps\"].progress_map(get_state)"
   ]
  },
  {
   "cell_type": "code",
   "execution_count": null,
   "id": "6bc0af12-8164-4e31-8c13-089ae2797ea7",
   "metadata": {},
   "outputs": [],
   "source": []
  },
  {
   "cell_type": "code",
   "execution_count": null,
   "id": "bd21d5b3-fb62-4d0f-9f13-5f52fa0c5744",
   "metadata": {},
   "outputs": [],
   "source": []
  },
  {
   "cell_type": "code",
   "execution_count": null,
   "id": "4122c445-0c36-494d-87bd-beec6e2f7197",
   "metadata": {},
   "outputs": [],
   "source": []
  },
  {
   "cell_type": "code",
   "execution_count": null,
   "id": "7f687992-5ac6-45aa-8ed4-8a4b8338e989",
   "metadata": {},
   "outputs": [],
   "source": []
  },
  {
   "cell_type": "code",
   "execution_count": null,
   "id": "2fa603c7-e730-4c07-b2de-85a34fbccbfb",
   "metadata": {},
   "outputs": [],
   "source": []
  },
  {
   "cell_type": "code",
   "execution_count": null,
   "id": "e63b5844-0eb2-49c3-bd51-0685f9a4dd7b",
   "metadata": {},
   "outputs": [],
   "source": []
  }
 ],
 "metadata": {
  "kernelspec": {
   "display_name": "Python 3 (ipykernel)",
   "language": "python",
   "name": "python3"
  },
  "language_info": {
   "codemirror_mode": {
    "name": "ipython",
    "version": 3
   },
   "file_extension": ".py",
   "mimetype": "text/x-python",
   "name": "python",
   "nbconvert_exporter": "python",
   "pygments_lexer": "ipython3",
   "version": "3.10.6"
  }
 },
 "nbformat": 4,
 "nbformat_minor": 5
}
