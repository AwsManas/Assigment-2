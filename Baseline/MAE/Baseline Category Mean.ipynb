{
 "cells": [
  {
   "cell_type": "code",
   "execution_count": 1,
   "id": "ae658b53-35ff-4dc3-bbf1-5ef1854ea17e",
   "metadata": {},
   "outputs": [],
   "source": [
    "import numpy  as np\n",
    "import pandas as pd\n",
    "from metrics import MAE\n",
    "from tqdm import tqdm"
   ]
  },
  {
   "cell_type": "code",
   "execution_count": 2,
   "id": "a8e9c1e3-2c5e-4fdf-8642-5b5ef6e11ec2",
   "metadata": {},
   "outputs": [],
   "source": [
    "X_train = pd.read_pickle(\"../../../Datasets/final/X_train.pkl\").drop(columns=[\"gPlusUserId\", \"gPlusPlaceId\"])\n",
    "c = X_train.columns.tolist()\n",
    "X_val = pd.read_pickle(\"../../../Datasets/final/X_val.pkl\").drop(columns=[\"gPlusUserId\", \"gPlusPlaceId\"])\n",
    "X_test = pd.read_pickle(\"../../../Datasets/final/X_test.pkl\").drop(columns=[\"gPlusUserId\", \"gPlusPlaceId\"])\n",
    "y_train = pd.read_pickle(\"../../../Datasets/final/y_train.pkl\").to_numpy()\n",
    "y_val = pd.read_pickle(\"../../../Datasets/final/y_val.pkl\").to_numpy()\n",
    "y_test = pd.read_pickle(\"../../../Datasets/final/y_test.pkl\").to_numpy()"
   ]
  },
  {
   "cell_type": "code",
   "execution_count": 3,
   "id": "ec747aa6-411b-4744-844c-921f9a6b18bd",
   "metadata": {},
   "outputs": [],
   "source": [
    "X_train.insert(X_train.shape[1], \"rating\", y_train.T[0])"
   ]
  },
  {
   "cell_type": "code",
   "execution_count": 4,
   "id": "84c3c11a-8acb-4888-9d37-ca89dd1d2fe3",
   "metadata": {},
   "outputs": [],
   "source": [
    "category_columns = [i for i in c if \"category\" in i]"
   ]
  },
  {
   "cell_type": "code",
   "execution_count": 5,
   "id": "4bc62ab9-6480-41ee-821c-23abc7766f6f",
   "metadata": {},
   "outputs": [],
   "source": [
    "mean_per_category_dict = {}\n",
    "for category in category_columns:\n",
    "    category_df = X_train.groupby(category).agg({\"rating\": \"mean\"}).reset_index()\n",
    "    mean_per_category_dict[category] = category_df[category_df[category] == 1][\"rating\"].item()"
   ]
  },
  {
   "cell_type": "code",
   "execution_count": 6,
   "id": "8dbc87dc-1693-4042-a504-751f7c1654d0",
   "metadata": {
    "tags": []
   },
   "outputs": [
    {
     "data": {
      "text/plain": [
       "{'final_category_AssocOrgs': 3.195639363582793,\n",
       " 'final_category_Entertainment': 3.7149496514329976,\n",
       " 'final_category_Legal': 3.92,\n",
       " 'final_category_Medical': 3.423076923076923,\n",
       " 'final_category_Others': 3.8192002551528925,\n",
       " 'final_category_Public': 3.257985257985258,\n",
       " 'final_category_Restaurant': 3.872157861234882,\n",
       " 'final_category_School': 3.758250191864927,\n",
       " 'final_category_ShopsStores': 3.633212649496388,\n",
       " 'final_category_Venues': 4.029755579171095}"
      ]
     },
     "execution_count": 6,
     "metadata": {},
     "output_type": "execute_result"
    }
   ],
   "source": [
    "mean_per_category_dict"
   ]
  },
  {
   "cell_type": "code",
   "execution_count": 7,
   "id": "7d084f0d-b4c9-41ee-b4a3-40c4618c7e53",
   "metadata": {},
   "outputs": [
    {
     "name": "stderr",
     "output_type": "stream",
     "text": [
      "100%|█████████████████████████████████████████████████████████████████████████████████████████████████████████████████████████████████████████████| 161526/161526 [03:17<00:00, 816.34it/s]\n"
     ]
    }
   ],
   "source": [
    "y_pred_val = []\n",
    "for i in tqdm(range(len(X_val))):\n",
    "    for j in range(len(X_val.iloc[i][category_columns])):\n",
    "        if X_val.iloc[i][category_columns][j] == 1:\n",
    "            y_pred_val.append(mean_per_category_dict[category_columns[j]])\n",
    "            break"
   ]
  },
  {
   "cell_type": "code",
   "execution_count": 8,
   "id": "16072d16-3023-4896-bfa4-82cc11a1e729",
   "metadata": {},
   "outputs": [
    {
     "data": {
      "text/plain": [
       "1.0720331732067656"
      ]
     },
     "execution_count": 8,
     "metadata": {},
     "output_type": "execute_result"
    }
   ],
   "source": [
    "MAE(predictions=y_pred_val, labels=y_val)[0]"
   ]
  },
  {
   "cell_type": "code",
   "execution_count": 9,
   "id": "c39d4a9a-7a6d-40d6-903f-1a24f62e7d60",
   "metadata": {},
   "outputs": [
    {
     "name": "stderr",
     "output_type": "stream",
     "text": [
      "100%|█████████████████████████████████████████████████████████████████████████████████████████████████████████████████████████████████████████████| 161526/161526 [03:20<00:00, 806.87it/s]\n"
     ]
    }
   ],
   "source": [
    "y_pred = []\n",
    "for i in tqdm(range(len(X_test))):\n",
    "    for j in range(len(X_test.iloc[i][category_columns])):\n",
    "        if X_test.iloc[i][category_columns][j] == 1:\n",
    "            y_pred.append(mean_per_category_dict[category_columns[j]])\n",
    "            break"
   ]
  },
  {
   "cell_type": "code",
   "execution_count": 10,
   "id": "3a1e9096-3cc3-4809-9e76-d9de74aeab67",
   "metadata": {},
   "outputs": [
    {
     "data": {
      "text/plain": [
       "1.0670154491063117"
      ]
     },
     "execution_count": 10,
     "metadata": {},
     "output_type": "execute_result"
    }
   ],
   "source": [
    "MAE(predictions=y_pred, labels=y_test)[0]"
   ]
  },
  {
   "cell_type": "code",
   "execution_count": null,
   "id": "c0a7a3f0-8be6-44f2-8c7c-0d1a1a4952eb",
   "metadata": {},
   "outputs": [],
   "source": []
  }
 ],
 "metadata": {
  "kernelspec": {
   "display_name": "Python 3 (ipykernel)",
   "language": "python",
   "name": "python3"
  },
  "language_info": {
   "codemirror_mode": {
    "name": "ipython",
    "version": 3
   },
   "file_extension": ".py",
   "mimetype": "text/x-python",
   "name": "python",
   "nbconvert_exporter": "python",
   "pygments_lexer": "ipython3",
   "version": "3.9.6"
  }
 },
 "nbformat": 4,
 "nbformat_minor": 5
}
