{
 "cells": [
  {
   "cell_type": "code",
   "execution_count": 15,
   "id": "03388370",
   "metadata": {},
   "outputs": [],
   "source": [
    "import numpy as np\n",
    "import pandas as pd\n",
    "from matplotlib import pyplot as plt\n",
    "import gzip\n",
    "%matplotlib inline"
   ]
  },
  {
   "cell_type": "code",
   "execution_count": 2,
   "id": "7dbdc696",
   "metadata": {},
   "outputs": [],
   "source": [
    "def parseData(fname):\n",
    "    for l in gzip.open(fname):\n",
    "        d = eval(l)\n",
    "        yield d\n",
    "        break"
   ]
  },
  {
   "cell_type": "code",
   "execution_count": 3,
   "id": "6fda9b7d",
   "metadata": {},
   "outputs": [],
   "source": [
    "userdata = list(parseData(\"users.clean.json.gz\"))"
   ]
  },
  {
   "cell_type": "code",
   "execution_count": 5,
   "id": "55412ca8",
   "metadata": {},
   "outputs": [
    {
     "data": {
      "text/plain": [
       "[{'userName': 'an lam',\n",
       "  'jobs': [['Tổng công ty IDICO',\n",
       "    'Chuyên viên Kỹ thuật XD',\n",
       "    [[1, 1, 1998], [1, 1, 2013], 1],\n",
       "    '',\n",
       "    '']],\n",
       "  'currentPlace': ['Thành phố Hồ Chí Minh, Việt Nam',\n",
       "   [[], 108230990, 1066296640, 1]],\n",
       "  'previousPlaces': [['tp. Nam Định, Nam Định, Việt Nam',\n",
       "    [[], 204200000, 1061683330, 1]]],\n",
       "  'education': [[[], [], [], [], [], 6],\n",
       "   [['Đại học Kiến trúc tp Hồ chí minh, Việt nam',\n",
       "     'KS.XD',\n",
       "     [[], [1, 1, 2013], 1],\n",
       "     '',\n",
       "     '']]],\n",
       "  'gPlusUserId': '100000010817154263736'}]"
      ]
     },
     "execution_count": 5,
     "metadata": {},
     "output_type": "execute_result"
    }
   ],
   "source": [
    "userdata"
   ]
  },
  {
   "cell_type": "code",
   "execution_count": 6,
   "id": "75746ba6",
   "metadata": {},
   "outputs": [],
   "source": [
    "placesdata = list(parseData(\"places.clean.json.gz\"))"
   ]
  },
  {
   "cell_type": "code",
   "execution_count": 7,
   "id": "b80bedfe",
   "metadata": {},
   "outputs": [
    {
     "data": {
      "text/plain": [
       "[{'name': 'Diamond Valley Lake Marina',\n",
       "  'price': None,\n",
       "  'address': ['2615 Angler Ave', 'Hemet, CA 92545'],\n",
       "  'hours': [['Monday', [['6:30 am--4:15 pm']]],\n",
       "   ['Tuesday', [['6:30 am--4:15 pm']]],\n",
       "   ['Wednesday', [['6:30 am--4:15 pm']], 1],\n",
       "   ['Thursday', [['6:30 am--4:15 pm']]],\n",
       "   ['Friday', [['6:30 am--4:15 pm']]],\n",
       "   ['Saturday', [['6:30 am--4:15 pm']]],\n",
       "   ['Sunday', [['6:30 am--4:15 pm']]]],\n",
       "  'phone': '(951) 926-7201',\n",
       "  'closed': False,\n",
       "  'gPlusPlaceId': '104699454385822125632',\n",
       "  'gps': [33.703804, -117.003209]}]"
      ]
     },
     "execution_count": 7,
     "metadata": {},
     "output_type": "execute_result"
    }
   ],
   "source": [
    "placesdata"
   ]
  },
  {
   "cell_type": "code",
   "execution_count": 14,
   "id": "c382cb26",
   "metadata": {},
   "outputs": [],
   "source": [
    "import pickle as pkl\n",
    "import pandas as pd"
   ]
  },
  {
   "cell_type": "code",
   "execution_count": 9,
   "id": "fb256a15",
   "metadata": {},
   "outputs": [],
   "source": [
    "# users_pkl = pd.read_pickle(\"users.pkl\")"
   ]
  },
  {
   "cell_type": "code",
   "execution_count": 10,
   "id": "911f7bef",
   "metadata": {},
   "outputs": [
    {
     "data": {
      "text/html": [
       "<div>\n",
       "<style scoped>\n",
       "    .dataframe tbody tr th:only-of-type {\n",
       "        vertical-align: middle;\n",
       "    }\n",
       "\n",
       "    .dataframe tbody tr th {\n",
       "        vertical-align: top;\n",
       "    }\n",
       "\n",
       "    .dataframe thead th {\n",
       "        text-align: right;\n",
       "    }\n",
       "</style>\n",
       "<table border=\"1\" class=\"dataframe\">\n",
       "  <thead>\n",
       "    <tr style=\"text-align: right;\">\n",
       "      <th></th>\n",
       "      <th>userName</th>\n",
       "      <th>gPlusUserId</th>\n",
       "    </tr>\n",
       "  </thead>\n",
       "  <tbody>\n",
       "    <tr>\n",
       "      <th>0</th>\n",
       "      <td>an lam</td>\n",
       "      <td>100000010817154263736</td>\n",
       "    </tr>\n",
       "    <tr>\n",
       "      <th>1</th>\n",
       "      <td>HALİL TURGUT</td>\n",
       "      <td>100000013500285534661</td>\n",
       "    </tr>\n",
       "    <tr>\n",
       "      <th>2</th>\n",
       "      <td>森田さとこ</td>\n",
       "      <td>100000021336848867366</td>\n",
       "    </tr>\n",
       "    <tr>\n",
       "      <th>3</th>\n",
       "      <td>amey kore</td>\n",
       "      <td>100000030557048145331</td>\n",
       "    </tr>\n",
       "    <tr>\n",
       "      <th>4</th>\n",
       "      <td>william spindler</td>\n",
       "      <td>100000032416892623125</td>\n",
       "    </tr>\n",
       "    <tr>\n",
       "      <th>...</th>\n",
       "      <td>...</td>\n",
       "      <td>...</td>\n",
       "    </tr>\n",
       "    <tr>\n",
       "      <th>3747932</th>\n",
       "      <td>Andrei Mustea</td>\n",
       "      <td>114675878141148336835</td>\n",
       "    </tr>\n",
       "    <tr>\n",
       "      <th>3747933</th>\n",
       "      <td>ahmed alalam</td>\n",
       "      <td>114675879178455853299</td>\n",
       "    </tr>\n",
       "    <tr>\n",
       "      <th>3747934</th>\n",
       "      <td>Brad Shaffer</td>\n",
       "      <td>114675884186004222559</td>\n",
       "    </tr>\n",
       "    <tr>\n",
       "      <th>3747935</th>\n",
       "      <td>Ashley Krueger</td>\n",
       "      <td>114675887865682990096</td>\n",
       "    </tr>\n",
       "    <tr>\n",
       "      <th>3747936</th>\n",
       "      <td>kadir çöpür</td>\n",
       "      <td>114675889045912470267</td>\n",
       "    </tr>\n",
       "  </tbody>\n",
       "</table>\n",
       "<p>3747937 rows × 2 columns</p>\n",
       "</div>"
      ],
      "text/plain": [
       "                 userName            gPlusUserId\n",
       "0                  an lam  100000010817154263736\n",
       "1            HALİL TURGUT  100000013500285534661\n",
       "2                   森田さとこ  100000021336848867366\n",
       "3               amey kore  100000030557048145331\n",
       "4        william spindler  100000032416892623125\n",
       "...                   ...                    ...\n",
       "3747932     Andrei Mustea  114675878141148336835\n",
       "3747933      ahmed alalam  114675879178455853299\n",
       "3747934      Brad Shaffer  114675884186004222559\n",
       "3747935    Ashley Krueger  114675887865682990096\n",
       "3747936       kadir çöpür  114675889045912470267\n",
       "\n",
       "[3747937 rows x 2 columns]"
      ]
     },
     "execution_count": 10,
     "metadata": {},
     "output_type": "execute_result"
    }
   ],
   "source": [
    "# users_pkl"
   ]
  },
  {
   "cell_type": "code",
   "execution_count": 11,
   "id": "c3f4f98e",
   "metadata": {},
   "outputs": [],
   "source": [
    "# review_pkl = pd.read_pickle(\"reviews.pkl\")"
   ]
  },
  {
   "cell_type": "code",
   "execution_count": 12,
   "id": "6c84dd82",
   "metadata": {},
   "outputs": [
    {
     "data": {
      "text/html": [
       "<div>\n",
       "<style scoped>\n",
       "    .dataframe tbody tr th:only-of-type {\n",
       "        vertical-align: middle;\n",
       "    }\n",
       "\n",
       "    .dataframe tbody tr th {\n",
       "        vertical-align: top;\n",
       "    }\n",
       "\n",
       "    .dataframe thead th {\n",
       "        text-align: right;\n",
       "    }\n",
       "</style>\n",
       "<table border=\"1\" class=\"dataframe\">\n",
       "  <thead>\n",
       "    <tr style=\"text-align: right;\">\n",
       "      <th></th>\n",
       "      <th>rating</th>\n",
       "      <th>reviewText</th>\n",
       "      <th>categories</th>\n",
       "      <th>gPlusPlaceId</th>\n",
       "      <th>unixReviewTime</th>\n",
       "      <th>gPlusUserId</th>\n",
       "    </tr>\n",
       "  </thead>\n",
       "  <tbody>\n",
       "    <tr>\n",
       "      <th>0</th>\n",
       "      <td>3.0</td>\n",
       "      <td>Chất lượng tạm ổn</td>\n",
       "      <td>[Giải Trí - Café]</td>\n",
       "      <td>108103314380004200232</td>\n",
       "      <td>1.372687e+09</td>\n",
       "      <td>100000010817154263736</td>\n",
       "    </tr>\n",
       "    <tr>\n",
       "      <th>1</th>\n",
       "      <td>5.0</td>\n",
       "      <td>Wc si temiz duzenli..</td>\n",
       "      <td>[Turkish Cuisine]</td>\n",
       "      <td>102194128241608748649</td>\n",
       "      <td>1.342871e+09</td>\n",
       "      <td>100000013500285534661</td>\n",
       "    </tr>\n",
       "    <tr>\n",
       "      <th>2</th>\n",
       "      <td>5.0</td>\n",
       "      <td>何回も私は予定に休みがセルバに行ったので覚えて見て、分かります❗</td>\n",
       "      <td>[Fishing, Pond Fish Supplier, Seafood Market]</td>\n",
       "      <td>101409858828175402384</td>\n",
       "      <td>1.390654e+09</td>\n",
       "      <td>100000021336848867366</td>\n",
       "    </tr>\n",
       "    <tr>\n",
       "      <th>3</th>\n",
       "      <td>5.0</td>\n",
       "      <td>今度は予定に休みが登米市に行きたい❗☀😅🌌 楽しいに日帰りに登米の見学の観光(*^)(*^-...</td>\n",
       "      <td>[Museum]</td>\n",
       "      <td>101477177500158511502</td>\n",
       "      <td>1.389188e+09</td>\n",
       "      <td>100000021336848867366</td>\n",
       "    </tr>\n",
       "    <tr>\n",
       "      <th>4</th>\n",
       "      <td>4.0</td>\n",
       "      <td>気仙沼警察署に移転中に絆 👮🐎☺🙋🚓頑張ろう❗</td>\n",
       "      <td>[Police]</td>\n",
       "      <td>106994170641063333085</td>\n",
       "      <td>1.390486e+09</td>\n",
       "      <td>100000021336848867366</td>\n",
       "    </tr>\n",
       "    <tr>\n",
       "      <th>...</th>\n",
       "      <td>...</td>\n",
       "      <td>...</td>\n",
       "      <td>...</td>\n",
       "      <td>...</td>\n",
       "      <td>...</td>\n",
       "      <td>...</td>\n",
       "    </tr>\n",
       "    <tr>\n",
       "      <th>11453840</th>\n",
       "      <td>4.0</td>\n",
       "      <td>None</td>\n",
       "      <td>[School]</td>\n",
       "      <td>110302363754248466279</td>\n",
       "      <td>1.343432e+09</td>\n",
       "      <td>118446743512419806874</td>\n",
       "    </tr>\n",
       "    <tr>\n",
       "      <th>11453841</th>\n",
       "      <td>4.0</td>\n",
       "      <td>None</td>\n",
       "      <td>[Lodging]</td>\n",
       "      <td>110811510477289064667</td>\n",
       "      <td>1.325971e+09</td>\n",
       "      <td>118446743512419806874</td>\n",
       "    </tr>\n",
       "    <tr>\n",
       "      <th>11453842</th>\n",
       "      <td>5.0</td>\n",
       "      <td>None</td>\n",
       "      <td>[Medical Center]</td>\n",
       "      <td>114800547590362276647</td>\n",
       "      <td>1.343432e+09</td>\n",
       "      <td>118446743512419806874</td>\n",
       "    </tr>\n",
       "    <tr>\n",
       "      <th>11453843</th>\n",
       "      <td>5.0</td>\n",
       "      <td>The MOST amazing homemade ice cream in North W...</td>\n",
       "      <td>None</td>\n",
       "      <td>106919006909432779494</td>\n",
       "      <td>NaN</td>\n",
       "      <td>118446743745545869532</td>\n",
       "    </tr>\n",
       "    <tr>\n",
       "      <th>11453844</th>\n",
       "      <td>5.0</td>\n",
       "      <td>Love Fat Cats always nice atmosphere, lovely s...</td>\n",
       "      <td>None</td>\n",
       "      <td>113946086129558139292</td>\n",
       "      <td>NaN</td>\n",
       "      <td>118446743745545869532</td>\n",
       "    </tr>\n",
       "  </tbody>\n",
       "</table>\n",
       "<p>11453845 rows × 6 columns</p>\n",
       "</div>"
      ],
      "text/plain": [
       "          rating                                         reviewText  \\\n",
       "0            3.0                                  Chất lượng tạm ổn   \n",
       "1            5.0                              Wc si temiz duzenli..   \n",
       "2            5.0                   何回も私は予定に休みがセルバに行ったので覚えて見て、分かります❗   \n",
       "3            5.0  今度は予定に休みが登米市に行きたい❗☀😅🌌 楽しいに日帰りに登米の見学の観光(*^)(*^-...   \n",
       "4            4.0                            気仙沼警察署に移転中に絆 👮🐎☺🙋🚓頑張ろう❗   \n",
       "...          ...                                                ...   \n",
       "11453840     4.0                                               None   \n",
       "11453841     4.0                                               None   \n",
       "11453842     5.0                                               None   \n",
       "11453843     5.0  The MOST amazing homemade ice cream in North W...   \n",
       "11453844     5.0  Love Fat Cats always nice atmosphere, lovely s...   \n",
       "\n",
       "                                             categories  \\\n",
       "0                                     [Giải Trí - Café]   \n",
       "1                                     [Turkish Cuisine]   \n",
       "2         [Fishing, Pond Fish Supplier, Seafood Market]   \n",
       "3                                              [Museum]   \n",
       "4                                              [Police]   \n",
       "...                                                 ...   \n",
       "11453840                                       [School]   \n",
       "11453841                                      [Lodging]   \n",
       "11453842                               [Medical Center]   \n",
       "11453843                                           None   \n",
       "11453844                                           None   \n",
       "\n",
       "                   gPlusPlaceId  unixReviewTime            gPlusUserId  \n",
       "0         108103314380004200232    1.372687e+09  100000010817154263736  \n",
       "1         102194128241608748649    1.342871e+09  100000013500285534661  \n",
       "2         101409858828175402384    1.390654e+09  100000021336848867366  \n",
       "3         101477177500158511502    1.389188e+09  100000021336848867366  \n",
       "4         106994170641063333085    1.390486e+09  100000021336848867366  \n",
       "...                         ...             ...                    ...  \n",
       "11453840  110302363754248466279    1.343432e+09  118446743512419806874  \n",
       "11453841  110811510477289064667    1.325971e+09  118446743512419806874  \n",
       "11453842  114800547590362276647    1.343432e+09  118446743512419806874  \n",
       "11453843  106919006909432779494             NaN  118446743745545869532  \n",
       "11453844  113946086129558139292             NaN  118446743745545869532  \n",
       "\n",
       "[11453845 rows x 6 columns]"
      ]
     },
     "execution_count": 12,
     "metadata": {},
     "output_type": "execute_result"
    }
   ],
   "source": [
    "# review_pkl"
   ]
  },
  {
   "cell_type": "code",
   "execution_count": 13,
   "id": "5e84c921",
   "metadata": {},
   "outputs": [],
   "source": [
    "# joined_df = users_pkl.join(review_pkl, how = \"inner\", on = \"gPlusUserId\")"
   ]
  },
  {
   "cell_type": "code",
   "execution_count": 4,
   "id": "8ee7f6a5",
   "metadata": {},
   "outputs": [],
   "source": [
    "final_df = pd.read_pickle(\"merged.pkl\")"
   ]
  },
  {
   "cell_type": "code",
   "execution_count": 5,
   "id": "8ccdc1db",
   "metadata": {},
   "outputs": [
    {
     "data": {
      "text/html": [
       "<div>\n",
       "<style scoped>\n",
       "    .dataframe tbody tr th:only-of-type {\n",
       "        vertical-align: middle;\n",
       "    }\n",
       "\n",
       "    .dataframe tbody tr th {\n",
       "        vertical-align: top;\n",
       "    }\n",
       "\n",
       "    .dataframe thead th {\n",
       "        text-align: right;\n",
       "    }\n",
       "</style>\n",
       "<table border=\"1\" class=\"dataframe\">\n",
       "  <thead>\n",
       "    <tr style=\"text-align: right;\">\n",
       "      <th></th>\n",
       "      <th>userName</th>\n",
       "      <th>gPlusUserId</th>\n",
       "      <th>rating</th>\n",
       "      <th>reviewText</th>\n",
       "      <th>categories</th>\n",
       "      <th>gPlusPlaceId</th>\n",
       "      <th>unixReviewTime</th>\n",
       "      <th>name</th>\n",
       "      <th>price</th>\n",
       "      <th>gps</th>\n",
       "      <th>closed</th>\n",
       "    </tr>\n",
       "  </thead>\n",
       "  <tbody>\n",
       "    <tr>\n",
       "      <th>0</th>\n",
       "      <td>an lam</td>\n",
       "      <td>100000010817154263736</td>\n",
       "      <td>3.0</td>\n",
       "      <td>Chất lượng tạm ổn</td>\n",
       "      <td>[Giải Trí - Café]</td>\n",
       "      <td>108103314380004200232</td>\n",
       "      <td>1.372687e+09</td>\n",
       "      <td>Cà Phê Thăng Long</td>\n",
       "      <td>None</td>\n",
       "      <td>[10.852044, 106.65971]</td>\n",
       "      <td>False</td>\n",
       "    </tr>\n",
       "    <tr>\n",
       "      <th>1</th>\n",
       "      <td>hoang long nguyen</td>\n",
       "      <td>101659842775092396018</td>\n",
       "      <td>5.0</td>\n",
       "      <td>Good coffee, nice and peaceful place</td>\n",
       "      <td>[Giải Trí - Café]</td>\n",
       "      <td>108103314380004200232</td>\n",
       "      <td>1.354888e+09</td>\n",
       "      <td>Cà Phê Thăng Long</td>\n",
       "      <td>None</td>\n",
       "      <td>[10.852044, 106.65971]</td>\n",
       "      <td>False</td>\n",
       "    </tr>\n",
       "    <tr>\n",
       "      <th>2</th>\n",
       "      <td>Hong Le</td>\n",
       "      <td>107574994242995460712</td>\n",
       "      <td>2.0</td>\n",
       "      <td>Cho heo</td>\n",
       "      <td>[Giải Trí - Café]</td>\n",
       "      <td>108103314380004200232</td>\n",
       "      <td>1.352015e+09</td>\n",
       "      <td>Cà Phê Thăng Long</td>\n",
       "      <td>None</td>\n",
       "      <td>[10.852044, 106.65971]</td>\n",
       "      <td>False</td>\n",
       "    </tr>\n",
       "    <tr>\n",
       "      <th>3</th>\n",
       "      <td>HALİL TURGUT</td>\n",
       "      <td>100000013500285534661</td>\n",
       "      <td>5.0</td>\n",
       "      <td>Wc si temiz duzenli..</td>\n",
       "      <td>[Turkish Cuisine]</td>\n",
       "      <td>102194128241608748649</td>\n",
       "      <td>1.342871e+09</td>\n",
       "      <td>Selale Restaurant</td>\n",
       "      <td>None</td>\n",
       "      <td>[37.8037, 29.2209]</td>\n",
       "      <td>False</td>\n",
       "    </tr>\n",
       "    <tr>\n",
       "      <th>4</th>\n",
       "      <td>Akudosoft Yazılım</td>\n",
       "      <td>105271324704942360981</td>\n",
       "      <td>5.0</td>\n",
       "      <td>None</td>\n",
       "      <td>[Turkish Cuisine]</td>\n",
       "      <td>102194128241608748649</td>\n",
       "      <td>1.373148e+09</td>\n",
       "      <td>Selale Restaurant</td>\n",
       "      <td>None</td>\n",
       "      <td>[37.8037, 29.2209]</td>\n",
       "      <td>False</td>\n",
       "    </tr>\n",
       "    <tr>\n",
       "      <th>...</th>\n",
       "      <td>...</td>\n",
       "      <td>...</td>\n",
       "      <td>...</td>\n",
       "      <td>...</td>\n",
       "      <td>...</td>\n",
       "      <td>...</td>\n",
       "      <td>...</td>\n",
       "      <td>...</td>\n",
       "      <td>...</td>\n",
       "      <td>...</td>\n",
       "      <td>...</td>\n",
       "    </tr>\n",
       "    <tr>\n",
       "      <th>8649006</th>\n",
       "      <td>Paulo Cesar Zapata Flores</td>\n",
       "      <td>114675809533127438528</td>\n",
       "      <td>3.0</td>\n",
       "      <td>None</td>\n",
       "      <td>None</td>\n",
       "      <td>115915318156332244470</td>\n",
       "      <td>1.358964e+09</td>\n",
       "      <td>Museo Etnográfico Jose Pío Aza</td>\n",
       "      <td>None</td>\n",
       "      <td>[-12.051725, -77.043129]</td>\n",
       "      <td>False</td>\n",
       "    </tr>\n",
       "    <tr>\n",
       "      <th>8649007</th>\n",
       "      <td>Paulo Cesar Zapata Flores</td>\n",
       "      <td>114675809533127438528</td>\n",
       "      <td>3.0</td>\n",
       "      <td>None</td>\n",
       "      <td>None</td>\n",
       "      <td>116034451258487740247</td>\n",
       "      <td>1.358964e+09</td>\n",
       "      <td>Museo Postal y Filatélico</td>\n",
       "      <td>None</td>\n",
       "      <td>[-12.044714, -77.03133]</td>\n",
       "      <td>False</td>\n",
       "    </tr>\n",
       "    <tr>\n",
       "      <th>8649008</th>\n",
       "      <td>Paulo Cesar Zapata Flores</td>\n",
       "      <td>114675809533127438528</td>\n",
       "      <td>3.0</td>\n",
       "      <td>None</td>\n",
       "      <td>[Museum]</td>\n",
       "      <td>117081521863168835539</td>\n",
       "      <td>1.358964e+09</td>\n",
       "      <td>BCRP Museum</td>\n",
       "      <td>None</td>\n",
       "      <td>[-12.051725, -77.043129]</td>\n",
       "      <td>False</td>\n",
       "    </tr>\n",
       "    <tr>\n",
       "      <th>8649009</th>\n",
       "      <td>Maria Paz Ojeda</td>\n",
       "      <td>114675832526109641163</td>\n",
       "      <td>5.0</td>\n",
       "      <td>hotel familiar se pasa muy bien , la comida y ...</td>\n",
       "      <td>None</td>\n",
       "      <td>106771960422258758840</td>\n",
       "      <td>1.370494e+09</td>\n",
       "      <td>Hotel Casa de la Oma</td>\n",
       "      <td>None</td>\n",
       "      <td>[-41.120487, -73.111782]</td>\n",
       "      <td>False</td>\n",
       "    </tr>\n",
       "    <tr>\n",
       "      <th>8649010</th>\n",
       "      <td>Елизавета Самохина</td>\n",
       "      <td>114675853196245426799</td>\n",
       "      <td>5.0</td>\n",
       "      <td>None</td>\n",
       "      <td>None</td>\n",
       "      <td>112210835129412624149</td>\n",
       "      <td>1.386099e+09</td>\n",
       "      <td>Pri Shkole №548 Fizkulturno-ozdorovitelnyy Kom...</td>\n",
       "      <td>None</td>\n",
       "      <td>[55.623374, 37.702382]</td>\n",
       "      <td>False</td>\n",
       "    </tr>\n",
       "  </tbody>\n",
       "</table>\n",
       "<p>8649011 rows × 11 columns</p>\n",
       "</div>"
      ],
      "text/plain": [
       "                          userName            gPlusUserId  rating  \\\n",
       "0                           an lam  100000010817154263736     3.0   \n",
       "1                hoang long nguyen  101659842775092396018     5.0   \n",
       "2                          Hong Le  107574994242995460712     2.0   \n",
       "3                     HALİL TURGUT  100000013500285534661     5.0   \n",
       "4                Akudosoft Yazılım  105271324704942360981     5.0   \n",
       "...                            ...                    ...     ...   \n",
       "8649006  Paulo Cesar Zapata Flores  114675809533127438528     3.0   \n",
       "8649007  Paulo Cesar Zapata Flores  114675809533127438528     3.0   \n",
       "8649008  Paulo Cesar Zapata Flores  114675809533127438528     3.0   \n",
       "8649009            Maria Paz Ojeda  114675832526109641163     5.0   \n",
       "8649010         Елизавета Самохина  114675853196245426799     5.0   \n",
       "\n",
       "                                                reviewText         categories  \\\n",
       "0                                        Chất lượng tạm ổn  [Giải Trí - Café]   \n",
       "1                     Good coffee, nice and peaceful place  [Giải Trí - Café]   \n",
       "2                                                  Cho heo  [Giải Trí - Café]   \n",
       "3                                    Wc si temiz duzenli..  [Turkish Cuisine]   \n",
       "4                                                     None  [Turkish Cuisine]   \n",
       "...                                                    ...                ...   \n",
       "8649006                                               None               None   \n",
       "8649007                                               None               None   \n",
       "8649008                                               None           [Museum]   \n",
       "8649009  hotel familiar se pasa muy bien , la comida y ...               None   \n",
       "8649010                                               None               None   \n",
       "\n",
       "                  gPlusPlaceId  unixReviewTime  \\\n",
       "0        108103314380004200232    1.372687e+09   \n",
       "1        108103314380004200232    1.354888e+09   \n",
       "2        108103314380004200232    1.352015e+09   \n",
       "3        102194128241608748649    1.342871e+09   \n",
       "4        102194128241608748649    1.373148e+09   \n",
       "...                        ...             ...   \n",
       "8649006  115915318156332244470    1.358964e+09   \n",
       "8649007  116034451258487740247    1.358964e+09   \n",
       "8649008  117081521863168835539    1.358964e+09   \n",
       "8649009  106771960422258758840    1.370494e+09   \n",
       "8649010  112210835129412624149    1.386099e+09   \n",
       "\n",
       "                                                      name price  \\\n",
       "0                                        Cà Phê Thăng Long  None   \n",
       "1                                        Cà Phê Thăng Long  None   \n",
       "2                                        Cà Phê Thăng Long  None   \n",
       "3                                        Selale Restaurant  None   \n",
       "4                                        Selale Restaurant  None   \n",
       "...                                                    ...   ...   \n",
       "8649006                     Museo Etnográfico Jose Pío Aza  None   \n",
       "8649007                          Museo Postal y Filatélico  None   \n",
       "8649008                                        BCRP Museum  None   \n",
       "8649009                               Hotel Casa de la Oma  None   \n",
       "8649010  Pri Shkole №548 Fizkulturno-ozdorovitelnyy Kom...  None   \n",
       "\n",
       "                              gps  closed  \n",
       "0          [10.852044, 106.65971]   False  \n",
       "1          [10.852044, 106.65971]   False  \n",
       "2          [10.852044, 106.65971]   False  \n",
       "3              [37.8037, 29.2209]   False  \n",
       "4              [37.8037, 29.2209]   False  \n",
       "...                           ...     ...  \n",
       "8649006  [-12.051725, -77.043129]   False  \n",
       "8649007   [-12.044714, -77.03133]   False  \n",
       "8649008  [-12.051725, -77.043129]   False  \n",
       "8649009  [-41.120487, -73.111782]   False  \n",
       "8649010    [55.623374, 37.702382]   False  \n",
       "\n",
       "[8649011 rows x 11 columns]"
      ]
     },
     "execution_count": 5,
     "metadata": {},
     "output_type": "execute_result"
    }
   ],
   "source": [
    "final_df"
   ]
  },
  {
   "cell_type": "code",
   "execution_count": 6,
   "id": "da44c3d1",
   "metadata": {},
   "outputs": [
    {
     "data": {
      "text/html": [
       "<div>\n",
       "<style scoped>\n",
       "    .dataframe tbody tr th:only-of-type {\n",
       "        vertical-align: middle;\n",
       "    }\n",
       "\n",
       "    .dataframe tbody tr th {\n",
       "        vertical-align: top;\n",
       "    }\n",
       "\n",
       "    .dataframe thead th {\n",
       "        text-align: right;\n",
       "    }\n",
       "</style>\n",
       "<table border=\"1\" class=\"dataframe\">\n",
       "  <thead>\n",
       "    <tr style=\"text-align: right;\">\n",
       "      <th></th>\n",
       "      <th>rating</th>\n",
       "      <th>unixReviewTime</th>\n",
       "      <th>closed</th>\n",
       "    </tr>\n",
       "  </thead>\n",
       "  <tbody>\n",
       "    <tr>\n",
       "      <th>rating</th>\n",
       "      <td>1.000000</td>\n",
       "      <td>0.028128</td>\n",
       "      <td>-0.043953</td>\n",
       "    </tr>\n",
       "    <tr>\n",
       "      <th>unixReviewTime</th>\n",
       "      <td>0.028128</td>\n",
       "      <td>1.000000</td>\n",
       "      <td>-0.108514</td>\n",
       "    </tr>\n",
       "    <tr>\n",
       "      <th>closed</th>\n",
       "      <td>-0.043953</td>\n",
       "      <td>-0.108514</td>\n",
       "      <td>1.000000</td>\n",
       "    </tr>\n",
       "  </tbody>\n",
       "</table>\n",
       "</div>"
      ],
      "text/plain": [
       "                  rating  unixReviewTime    closed\n",
       "rating          1.000000        0.028128 -0.043953\n",
       "unixReviewTime  0.028128        1.000000 -0.108514\n",
       "closed         -0.043953       -0.108514  1.000000"
      ]
     },
     "execution_count": 6,
     "metadata": {},
     "output_type": "execute_result"
    }
   ],
   "source": [
    "final_df.corr()"
   ]
  },
  {
   "cell_type": "code",
   "execution_count": 7,
   "id": "31d06d1d",
   "metadata": {},
   "outputs": [
    {
     "data": {
      "text/plain": [
       "Index(['userName', 'gPlusUserId', 'rating', 'reviewText', 'categories',\n",
       "       'gPlusPlaceId', 'unixReviewTime', 'name', 'price', 'gps', 'closed'],\n",
       "      dtype='object')"
      ]
     },
     "execution_count": 7,
     "metadata": {},
     "output_type": "execute_result"
    }
   ],
   "source": [
    "final_df.columns"
   ]
  },
  {
   "cell_type": "code",
   "execution_count": 8,
   "id": "c2021a1f",
   "metadata": {},
   "outputs": [
    {
     "data": {
      "text/html": [
       "<div>\n",
       "<style scoped>\n",
       "    .dataframe tbody tr th:only-of-type {\n",
       "        vertical-align: middle;\n",
       "    }\n",
       "\n",
       "    .dataframe tbody tr th {\n",
       "        vertical-align: top;\n",
       "    }\n",
       "\n",
       "    .dataframe thead th {\n",
       "        text-align: right;\n",
       "    }\n",
       "</style>\n",
       "<table border=\"1\" class=\"dataframe\">\n",
       "  <thead>\n",
       "    <tr style=\"text-align: right;\">\n",
       "      <th></th>\n",
       "      <th>rating</th>\n",
       "      <th>unixReviewTime</th>\n",
       "    </tr>\n",
       "  </thead>\n",
       "  <tbody>\n",
       "    <tr>\n",
       "      <th>count</th>\n",
       "      <td>8.649011e+06</td>\n",
       "      <td>8.606313e+06</td>\n",
       "    </tr>\n",
       "    <tr>\n",
       "      <th>mean</th>\n",
       "      <td>4.050197e+00</td>\n",
       "      <td>1.358385e+09</td>\n",
       "    </tr>\n",
       "    <tr>\n",
       "      <th>std</th>\n",
       "      <td>1.199291e+00</td>\n",
       "      <td>3.196891e+07</td>\n",
       "    </tr>\n",
       "    <tr>\n",
       "      <th>min</th>\n",
       "      <td>0.000000e+00</td>\n",
       "      <td>6.626016e+08</td>\n",
       "    </tr>\n",
       "    <tr>\n",
       "      <th>25%</th>\n",
       "      <td>3.000000e+00</td>\n",
       "      <td>1.343464e+09</td>\n",
       "    </tr>\n",
       "    <tr>\n",
       "      <th>50%</th>\n",
       "      <td>5.000000e+00</td>\n",
       "      <td>1.365871e+09</td>\n",
       "    </tr>\n",
       "    <tr>\n",
       "      <th>75%</th>\n",
       "      <td>5.000000e+00</td>\n",
       "      <td>1.380815e+09</td>\n",
       "    </tr>\n",
       "    <tr>\n",
       "      <th>max</th>\n",
       "      <td>5.000000e+00</td>\n",
       "      <td>1.396082e+09</td>\n",
       "    </tr>\n",
       "  </tbody>\n",
       "</table>\n",
       "</div>"
      ],
      "text/plain": [
       "             rating  unixReviewTime\n",
       "count  8.649011e+06    8.606313e+06\n",
       "mean   4.050197e+00    1.358385e+09\n",
       "std    1.199291e+00    3.196891e+07\n",
       "min    0.000000e+00    6.626016e+08\n",
       "25%    3.000000e+00    1.343464e+09\n",
       "50%    5.000000e+00    1.365871e+09\n",
       "75%    5.000000e+00    1.380815e+09\n",
       "max    5.000000e+00    1.396082e+09"
      ]
     },
     "execution_count": 8,
     "metadata": {},
     "output_type": "execute_result"
    }
   ],
   "source": [
    "final_df.describe()"
   ]
  },
  {
   "cell_type": "code",
   "execution_count": 9,
   "id": "c904082e",
   "metadata": {},
   "outputs": [],
   "source": [
    "pruned_df = final_df.dropna()"
   ]
  },
  {
   "cell_type": "code",
   "execution_count": 10,
   "id": "6b4ad746",
   "metadata": {},
   "outputs": [
    {
     "data": {
      "text/html": [
       "<div>\n",
       "<style scoped>\n",
       "    .dataframe tbody tr th:only-of-type {\n",
       "        vertical-align: middle;\n",
       "    }\n",
       "\n",
       "    .dataframe tbody tr th {\n",
       "        vertical-align: top;\n",
       "    }\n",
       "\n",
       "    .dataframe thead th {\n",
       "        text-align: right;\n",
       "    }\n",
       "</style>\n",
       "<table border=\"1\" class=\"dataframe\">\n",
       "  <thead>\n",
       "    <tr style=\"text-align: right;\">\n",
       "      <th></th>\n",
       "      <th>rating</th>\n",
       "      <th>unixReviewTime</th>\n",
       "    </tr>\n",
       "  </thead>\n",
       "  <tbody>\n",
       "    <tr>\n",
       "      <th>count</th>\n",
       "      <td>1.299688e+06</td>\n",
       "      <td>1.299688e+06</td>\n",
       "    </tr>\n",
       "    <tr>\n",
       "      <th>mean</th>\n",
       "      <td>3.842718e+00</td>\n",
       "      <td>1.353059e+09</td>\n",
       "    </tr>\n",
       "    <tr>\n",
       "      <th>std</th>\n",
       "      <td>1.278425e+00</td>\n",
       "      <td>3.988309e+07</td>\n",
       "    </tr>\n",
       "    <tr>\n",
       "      <th>min</th>\n",
       "      <td>0.000000e+00</td>\n",
       "      <td>6.626016e+08</td>\n",
       "    </tr>\n",
       "    <tr>\n",
       "      <th>25%</th>\n",
       "      <td>3.000000e+00</td>\n",
       "      <td>1.339485e+09</td>\n",
       "    </tr>\n",
       "    <tr>\n",
       "      <th>50%</th>\n",
       "      <td>4.000000e+00</td>\n",
       "      <td>1.362084e+09</td>\n",
       "    </tr>\n",
       "    <tr>\n",
       "      <th>75%</th>\n",
       "      <td>5.000000e+00</td>\n",
       "      <td>1.377487e+09</td>\n",
       "    </tr>\n",
       "    <tr>\n",
       "      <th>max</th>\n",
       "      <td>5.000000e+00</td>\n",
       "      <td>1.396072e+09</td>\n",
       "    </tr>\n",
       "  </tbody>\n",
       "</table>\n",
       "</div>"
      ],
      "text/plain": [
       "             rating  unixReviewTime\n",
       "count  1.299688e+06    1.299688e+06\n",
       "mean   3.842718e+00    1.353059e+09\n",
       "std    1.278425e+00    3.988309e+07\n",
       "min    0.000000e+00    6.626016e+08\n",
       "25%    3.000000e+00    1.339485e+09\n",
       "50%    4.000000e+00    1.362084e+09\n",
       "75%    5.000000e+00    1.377487e+09\n",
       "max    5.000000e+00    1.396072e+09"
      ]
     },
     "execution_count": 10,
     "metadata": {},
     "output_type": "execute_result"
    }
   ],
   "source": [
    "pruned_df.describe()"
   ]
  },
  {
   "cell_type": "code",
   "execution_count": 11,
   "id": "8440c684",
   "metadata": {},
   "outputs": [],
   "source": [
    "import seaborn as sns\n",
    "# pruned_df.apply(lambda row: float(row['rating']),axis=1)\n",
    "# sns.distplot(final_df, x=\"rating\")\n",
    "\n",
    "df2 = pruned_df['rating']"
   ]
  },
  {
   "cell_type": "code",
   "execution_count": 12,
   "id": "e6ebe842",
   "metadata": {},
   "outputs": [
    {
     "data": {
      "text/plain": [
       "<AxesSubplot:ylabel='Frequency'>"
      ]
     },
     "execution_count": 12,
     "metadata": {},
     "output_type": "execute_result"
    },
    {
     "data": {
      "image/png": "[encoded data removed]",
      "text/plain": [
       "<Figure size 640x480 with 1 Axes>"
      ]
     },
     "metadata": {},
     "output_type": "display_data"
    }
   ],
   "source": [
    "pruned_df['rating'].plot(kind='hist')"
   ]
  },
  {
   "cell_type": "code",
   "execution_count": 14,
   "id": "d35050f9",
   "metadata": {},
   "outputs": [
    {
     "data": {
      "text/plain": [
       "<seaborn.axisgrid.FacetGrid at 0x7f8488e13b80>"
      ]
     },
     "execution_count": 14,
     "metadata": {},
     "output_type": "execute_result"
    },
    {
     "data": {
      "image/png": "[encoded data removed]",
      "text/plain": [
       "<Figure size 500x500 with 1 Axes>"
      ]
     },
     "metadata": {},
     "output_type": "display_data"
    }
   ],
   "source": [
    "sns.displot(pruned_df, x=\"rating\")"
   ]
  },
  {
   "cell_type": "code",
   "execution_count": 13,
   "id": "a025c4c5",
   "metadata": {},
   "outputs": [
    {
     "name": "stdout",
     "output_type": "stream",
     "text": [
      "AxesSubplot(0.125,0.11;0.775x0.77)\n"
     ]
    },
    {
     "data": {
      "image/png": "[encoded data removed]",
      "text/plain": [
       "<Figure size 640x480 with 1 Axes>"
      ]
     },
     "metadata": {},
     "output_type": "display_data"
    }
   ],
   "source": [
    "print(pruned_df['rating'].hist())"
   ]
  },
  {
   "cell_type": "code",
   "execution_count": 16,
   "id": "c4a253f4",
   "metadata": {
    "scrolled": false
   },
   "outputs": [
    {
     "data": {
      "image/png": "[encoded data removed]",
      "text/plain": [
       "<Figure size 640x480 with 1 Axes>"
      ]
     },
     "metadata": {},
     "output_type": "display_data"
    }
   ],
   "source": [
    "plt.hist(pruned_df['rating'],bins = 5)\n",
    "plt.show()"
   ]
  },
  {
   "cell_type": "code",
   "execution_count": 17,
   "id": "176c798c",
   "metadata": {},
   "outputs": [
    {
     "name": "stdout",
     "output_type": "stream",
     "text": [
      "8649011\n",
      "1866066\n"
     ]
    }
   ],
   "source": [
    "# .hist()\n",
    "df3 = final_df['price']\n",
    "print(len(df3))\n",
    "df3.dropna(inplace=True)\n",
    "print(len(df3))"
   ]
  },
  {
   "cell_type": "code",
   "execution_count": 18,
   "id": "4f01623d",
   "metadata": {},
   "outputs": [],
   "source": [
    "# sns.countplot(df3)"
   ]
  },
  {
   "cell_type": "code",
   "execution_count": 16,
   "id": "778cd9a4",
   "metadata": {},
   "outputs": [
    {
     "name": "stderr",
     "output_type": "stream",
     "text": [
      "/var/folders/zj/2rrssngd05l9clypwd_bg7680000gn/T/ipykernel_12953/3183396872.py:1: SettingWithCopyWarning: \n",
      "A value is trying to be set on a copy of a slice from a DataFrame.\n",
      "Try using .loc[row_indexer,col_indexer] = value instead\n",
      "\n",
      "See the caveats in the documentation: https://pandas.pydata.org/pandas-docs/stable/user_guide/indexing.html#returning-a-view-versus-a-copy\n",
      "  pruned_df['lat'] = pruned_df['gps'].apply(lambda x : x[0] if (x is not None) else -200)\n",
      "/var/folders/zj/2rrssngd05l9clypwd_bg7680000gn/T/ipykernel_12953/3183396872.py:2: SettingWithCopyWarning: \n",
      "A value is trying to be set on a copy of a slice from a DataFrame.\n",
      "Try using .loc[row_indexer,col_indexer] = value instead\n",
      "\n",
      "See the caveats in the documentation: https://pandas.pydata.org/pandas-docs/stable/user_guide/indexing.html#returning-a-view-versus-a-copy\n",
      "  pruned_df['lon'] = pruned_df['gps'].apply(lambda x : x[1] if (x is not None) else -200)\n"
     ]
    }
   ],
   "source": [
    "pruned_df['lat'] = pruned_df['gps'].apply(lambda x : x[0] if (x is not None) else -200)\n",
    "pruned_df['lon'] = pruned_df['gps'].apply(lambda x : x[1] if (x is not None) else -200)"
   ]
  },
  {
   "cell_type": "code",
   "execution_count": 20,
   "id": "ecb941e7",
   "metadata": {},
   "outputs": [],
   "source": [
    "# !pip install geopandas"
   ]
  },
  {
   "cell_type": "code",
   "execution_count": 99,
   "id": "655c7902",
   "metadata": {},
   "outputs": [],
   "source": [
    "# # initialize an axis\n",
    "# import geopandas as gpd\n",
    "# fig, ax = plt.subplots(figsize=(8,6))\n",
    "# # plot map on axis\n",
    "# countries = gpd.read_file(  \n",
    "#      gpd.datasets.get_path(\"naturalearth_lowres\"))\n",
    "# countries.plot(color=\"lightgrey\", ax=ax)"
   ]
  },
  {
   "cell_type": "code",
   "execution_count": 22,
   "id": "5db66d1a",
   "metadata": {},
   "outputs": [
    {
     "data": {
      "text/plain": [
       "<AxesSubplot:xlabel='lon', ylabel='lat'>"
      ]
     },
     "execution_count": 22,
     "metadata": {},
     "output_type": "execute_result"
    },
    {
     "data": {
      "image/png": "[encoded data removed]",
      "text/plain": [
       "<Figure size 640x480 with 1 Axes>"
      ]
     },
     "metadata": {},
     "output_type": "display_data"
    }
   ],
   "source": [
    "pruned_df.plot(x=\"lon\", y=\"lat\", kind=\"scatter\", colormap=\"YlOrRd\")"
   ]
  },
  {
   "cell_type": "code",
   "execution_count": 30,
   "id": "8c5cfa3e",
   "metadata": {},
   "outputs": [
    {
     "name": "stderr",
     "output_type": "stream",
     "text": [
      "/var/folders/zj/2rrssngd05l9clypwd_bg7680000gn/T/ipykernel_11687/836206713.py:10: MatplotlibDeprecationWarning: The 'b' parameter of grid() has been renamed 'visible' since Matplotlib 3.5; support for the old name will be dropped two minor releases later.\n",
      "  ax.grid(b=True, alpha=0.5)\n"
     ]
    },
    {
     "data": {
      "image/png": "[encoded data removed]",
      "text/plain": [
       "<Figure size 800x600 with 1 Axes>"
      ]
     },
     "metadata": {},
     "output_type": "display_data"
    },
    {
     "data": {
      "image/png": "[encoded data removed]",
      "text/plain": [
       "<Figure size 640x480 with 1 Axes>"
      ]
     },
     "metadata": {},
     "output_type": "display_data"
    }
   ],
   "source": [
    "# initialize an axis\n",
    "import geopandas as gpd\n",
    "fig, ax = plt.subplots(figsize=(8,6))\n",
    "# plot map on axis\n",
    "countries = gpd.read_file(  \n",
    "     gpd.datasets.get_path(\"naturalearth_lowres\"))\n",
    "countries.plot(color=\"lightgrey\", ax=ax)\n",
    "pruned_df.plot(x=\"lon\", y=\"lat\", kind=\"scatter\", ax=ax)\n",
    "countries.plot(color = \"lightgrey\")\n",
    "ax.grid(b=True, alpha=0.5)"
   ]
  },
  {
   "cell_type": "code",
   "execution_count": 25,
   "id": "dba334f6",
   "metadata": {},
   "outputs": [],
   "source": [
    "plt.show()"
   ]
  },
  {
   "cell_type": "code",
   "execution_count": null,
   "id": "a88d251b",
   "metadata": {},
   "outputs": [],
   "source": [
    "## Categories plot, Mean highest rating"
   ]
  },
  {
   "cell_type": "code",
   "execution_count": null,
   "id": "f7be38a3",
   "metadata": {},
   "outputs": [],
   "source": [
    "# finds counts of rows in the dataframe. Computes the following counts for entire dataframe as well as each column:\n",
    "# Total count with null values\n",
    "# Total count without null values\n",
    "# Count with null values and without duplicates\n",
    "# Count without null values and without duplicates\n",
    "# Completeness: Fraction of non-null values over total values\n",
    "# Distinctness: Fraction of distinct non-null values over total non-null values\n",
    "# Uniqueness: Fraction of unique values over the number of all non-null values of a column. Unique values occur exactly once. Example: [a, a, b] contains one unique value b, so uniqueness is 1/3.\n",
    "# Unique value ratio: Fraction of unique values over the number of all distinct non-null values of a column. Unique values occur exactly once; distinct values occur at least once. Example: [a, a, b] contains one unique value b, and two distinct values a and b, so the unique value ratio is 1/2.\n"
   ]
  },
  {
   "cell_type": "code",
   "execution_count": 20,
   "id": "bf46a562",
   "metadata": {},
   "outputs": [
    {
     "data": {
      "text/plain": [
       "userName                0\n",
       "gPlusUserId             0\n",
       "rating                  0\n",
       "reviewText        2649295\n",
       "categories         135813\n",
       "gPlusPlaceId            0\n",
       "unixReviewTime      42698\n",
       "name                    0\n",
       "price             6782945\n",
       "gps                 27431\n",
       "closed                  0\n",
       "dtype: int64"
      ]
     },
     "execution_count": 20,
     "metadata": {},
     "output_type": "execute_result"
    }
   ],
   "source": [
    "final_df.isna().sum()"
   ]
  },
  {
   "cell_type": "code",
   "execution_count": 21,
   "id": "87049983",
   "metadata": {},
   "outputs": [],
   "source": [
    "dfSize = pruned_df.size"
   ]
  },
  {
   "cell_type": "code",
   "execution_count": 22,
   "id": "7a7a1deb",
   "metadata": {},
   "outputs": [],
   "source": [
    "## Ratios"
   ]
  },
  {
   "cell_type": "code",
   "execution_count": 23,
   "id": "9b2699c4",
   "metadata": {},
   "outputs": [],
   "source": [
    "null_sums = final_df.isna().sum().sum() "
   ]
  },
  {
   "cell_type": "code",
   "execution_count": 24,
   "id": "68ff7cd2",
   "metadata": {},
   "outputs": [
    {
     "data": {
      "text/plain": [
       "57.04435336670149"
      ]
     },
     "execution_count": 24,
     "metadata": {},
     "output_type": "execute_result"
    }
   ],
   "source": [
    "#Completeness of entire dataframe\n",
    "null_sums / dfSize * 100"
   ]
  },
  {
   "cell_type": "code",
   "execution_count": 25,
   "id": "b31ad13a",
   "metadata": {},
   "outputs": [
    {
     "data": {
      "text/plain": [
       "42.9556466332985"
      ]
     },
     "execution_count": 25,
     "metadata": {},
     "output_type": "execute_result"
    }
   ],
   "source": [
    "# Missingness of entire dataframe\n",
    "(dfSize - null_sums)*100/dfSize"
   ]
  },
  {
   "cell_type": "code",
   "execution_count": 35,
   "id": "bb1158de",
   "metadata": {},
   "outputs": [
    {
     "data": {
      "text/plain": [
       "31                    [Asian Restaurant, Chinese Restaurant]\n",
       "34         [European Restaurant, Italian Restaurant, Pizz...\n",
       "36         [European Restaurant, Italian Restaurant, Pizz...\n",
       "37         [European Restaurant, Italian Restaurant, Pizz...\n",
       "38         [European Restaurant, Italian Restaurant, Pizz...\n",
       "                                 ...                        \n",
       "8648782                                   [Video Game Store]\n",
       "8648840              [Pizza Restaurant, European Restaurant]\n",
       "8648872                                     [Clothing Store]\n",
       "8648887         [Fast Food Restaurant, Hamburger Restaurant]\n",
       "8648888         [Hamburger Restaurant, Fast Food Restaurant]\n",
       "Name: categories, Length: 1299688, dtype: object"
      ]
     },
     "execution_count": 35,
     "metadata": {},
     "output_type": "execute_result"
    }
   ],
   "source": [
    "## Distinctness of entire dataframe\n",
    "pruned_df['categories']"
   ]
  },
  {
   "cell_type": "code",
   "execution_count": null,
   "id": "09a68f2a",
   "metadata": {},
   "outputs": [],
   "source": [
    "## Uniqueness\n"
   ]
  },
  {
   "cell_type": "code",
   "execution_count": null,
   "id": "d7683899",
   "metadata": {},
   "outputs": [],
   "source": [
    "## Unique value ratio\n",
    "\n"
   ]
  },
  {
   "cell_type": "code",
   "execution_count": 17,
   "id": "c68756b4",
   "metadata": {},
   "outputs": [
    {
     "name": "stderr",
     "output_type": "stream",
     "text": [
      "/var/folders/zj/2rrssngd05l9clypwd_bg7680000gn/T/ipykernel_12953/1649133545.py:2: SettingWithCopyWarning: \n",
      "A value is trying to be set on a copy of a slice from a DataFrame.\n",
      "Try using .loc[row_indexer,col_indexer] = value instead\n",
      "\n",
      "See the caveats in the documentation: https://pandas.pydata.org/pandas-docs/stable/user_guide/indexing.html#returning-a-view-versus-a-copy\n",
      "  pruned_df[\"reviewTextLength\"] = pruned_df.apply(lambda row: len(row[\"reviewText\"]),axis=1)\n"
     ]
    },
    {
     "data": {
      "text/plain": [
       "31          33\n",
       "34         838\n",
       "36         382\n",
       "37          26\n",
       "38         174\n",
       "          ... \n",
       "8648782     41\n",
       "8648840     15\n",
       "8648872    100\n",
       "8648887     31\n",
       "8648888     13\n",
       "Name: reviewTextLength, Length: 1299688, dtype: int64"
      ]
     },
     "execution_count": 17,
     "metadata": {},
     "output_type": "execute_result"
    }
   ],
   "source": [
    "## Review length mean std\n",
    "pruned_df[\"reviewTextLength\"] = pruned_df.apply(lambda row: len(row[\"reviewText\"]),axis=1)\n",
    "pruned_df[\"reviewTextLength\"]"
   ]
  },
  {
   "cell_type": "code",
   "execution_count": 18,
   "id": "7862945e",
   "metadata": {},
   "outputs": [
    {
     "name": "stderr",
     "output_type": "stream",
     "text": [
      "/var/folders/zj/2rrssngd05l9clypwd_bg7680000gn/T/ipykernel_12953/710269236.py:3: SettingWithCopyWarning: \n",
      "A value is trying to be set on a copy of a slice from a DataFrame.\n",
      "Try using .loc[row_indexer,col_indexer] = value instead\n",
      "\n",
      "See the caveats in the documentation: https://pandas.pydata.org/pandas-docs/stable/user_guide/indexing.html#returning-a-view-versus-a-copy\n",
      "  pruned_df[\"userId\"] = pruned_df[\"gPlusUserId\"].astype('float64')\n",
      "/var/folders/zj/2rrssngd05l9clypwd_bg7680000gn/T/ipykernel_12953/710269236.py:4: SettingWithCopyWarning: \n",
      "A value is trying to be set on a copy of a slice from a DataFrame.\n",
      "Try using .loc[row_indexer,col_indexer] = value instead\n",
      "\n",
      "See the caveats in the documentation: https://pandas.pydata.org/pandas-docs/stable/user_guide/indexing.html#returning-a-view-versus-a-copy\n",
      "  pruned_df[\"placeId\"] = pruned_df[\"gPlusPlaceId\"].astype('float64')\n"
     ]
    }
   ],
   "source": [
    "# df[\"month_year\"] = \n",
    "\n",
    "pruned_df[\"userId\"] = pruned_df[\"gPlusUserId\"].astype('float64')\n",
    "pruned_df[\"placeId\"] = pruned_df[\"gPlusPlaceId\"].astype('float64')"
   ]
  },
  {
   "cell_type": "code",
   "execution_count": 19,
   "id": "abd4a32b",
   "metadata": {},
   "outputs": [
    {
     "data": {
      "text/html": [
       "<div>\n",
       "<style scoped>\n",
       "    .dataframe tbody tr th:only-of-type {\n",
       "        vertical-align: middle;\n",
       "    }\n",
       "\n",
       "    .dataframe tbody tr th {\n",
       "        vertical-align: top;\n",
       "    }\n",
       "\n",
       "    .dataframe thead th {\n",
       "        text-align: right;\n",
       "    }\n",
       "</style>\n",
       "<table border=\"1\" class=\"dataframe\">\n",
       "  <thead>\n",
       "    <tr style=\"text-align: right;\">\n",
       "      <th></th>\n",
       "      <th>lon</th>\n",
       "      <th>lat</th>\n",
       "      <th>rating</th>\n",
       "      <th>reviewTextLength</th>\n",
       "      <th>unixReviewTime</th>\n",
       "      <th>userId</th>\n",
       "      <th>placeId</th>\n",
       "    </tr>\n",
       "  </thead>\n",
       "  <tbody>\n",
       "    <tr>\n",
       "      <th>lon</th>\n",
       "      <td>1.000000</td>\n",
       "      <td>-0.919877</td>\n",
       "      <td>0.001720</td>\n",
       "      <td>0.012602</td>\n",
       "      <td>0.059412</td>\n",
       "      <td>-0.001375</td>\n",
       "      <td>-0.004188</td>\n",
       "    </tr>\n",
       "    <tr>\n",
       "      <th>lat</th>\n",
       "      <td>-0.919877</td>\n",
       "      <td>1.000000</td>\n",
       "      <td>-0.002125</td>\n",
       "      <td>-0.014037</td>\n",
       "      <td>-0.063203</td>\n",
       "      <td>0.001596</td>\n",
       "      <td>0.005116</td>\n",
       "    </tr>\n",
       "    <tr>\n",
       "      <th>rating</th>\n",
       "      <td>0.001720</td>\n",
       "      <td>-0.002125</td>\n",
       "      <td>1.000000</td>\n",
       "      <td>-0.227872</td>\n",
       "      <td>-0.032635</td>\n",
       "      <td>-0.000501</td>\n",
       "      <td>0.001247</td>\n",
       "    </tr>\n",
       "    <tr>\n",
       "      <th>reviewTextLength</th>\n",
       "      <td>0.012602</td>\n",
       "      <td>-0.014037</td>\n",
       "      <td>-0.227872</td>\n",
       "      <td>1.000000</td>\n",
       "      <td>0.066909</td>\n",
       "      <td>-0.000893</td>\n",
       "      <td>-0.001018</td>\n",
       "    </tr>\n",
       "    <tr>\n",
       "      <th>unixReviewTime</th>\n",
       "      <td>0.059412</td>\n",
       "      <td>-0.063203</td>\n",
       "      <td>-0.032635</td>\n",
       "      <td>0.066909</td>\n",
       "      <td>1.000000</td>\n",
       "      <td>-0.000608</td>\n",
       "      <td>-0.000118</td>\n",
       "    </tr>\n",
       "    <tr>\n",
       "      <th>userId</th>\n",
       "      <td>-0.001375</td>\n",
       "      <td>0.001596</td>\n",
       "      <td>-0.000501</td>\n",
       "      <td>-0.000893</td>\n",
       "      <td>-0.000608</td>\n",
       "      <td>1.000000</td>\n",
       "      <td>0.000180</td>\n",
       "    </tr>\n",
       "    <tr>\n",
       "      <th>placeId</th>\n",
       "      <td>-0.004188</td>\n",
       "      <td>0.005116</td>\n",
       "      <td>0.001247</td>\n",
       "      <td>-0.001018</td>\n",
       "      <td>-0.000118</td>\n",
       "      <td>0.000180</td>\n",
       "      <td>1.000000</td>\n",
       "    </tr>\n",
       "  </tbody>\n",
       "</table>\n",
       "</div>"
      ],
      "text/plain": [
       "                       lon       lat    rating  reviewTextLength  \\\n",
       "lon               1.000000 -0.919877  0.001720          0.012602   \n",
       "lat              -0.919877  1.000000 -0.002125         -0.014037   \n",
       "rating            0.001720 -0.002125  1.000000         -0.227872   \n",
       "reviewTextLength  0.012602 -0.014037 -0.227872          1.000000   \n",
       "unixReviewTime    0.059412 -0.063203 -0.032635          0.066909   \n",
       "userId           -0.001375  0.001596 -0.000501         -0.000893   \n",
       "placeId          -0.004188  0.005116  0.001247         -0.001018   \n",
       "\n",
       "                  unixReviewTime    userId   placeId  \n",
       "lon                     0.059412 -0.001375 -0.004188  \n",
       "lat                    -0.063203  0.001596  0.005116  \n",
       "rating                 -0.032635 -0.000501  0.001247  \n",
       "reviewTextLength        0.066909 -0.000893 -0.001018  \n",
       "unixReviewTime          1.000000 -0.000608 -0.000118  \n",
       "userId                 -0.000608  1.000000  0.000180  \n",
       "placeId                -0.000118  0.000180  1.000000  "
      ]
     },
     "execution_count": 19,
     "metadata": {},
     "output_type": "execute_result"
    }
   ],
   "source": [
    "df3 = pruned_df[[\"lon\",\"lat\",\"rating\",\"reviewTextLength\",\"unixReviewTime\",\"userId\",\"placeId\"]]\n",
    "df3.corr()"
   ]
  },
  {
   "cell_type": "code",
   "execution_count": 20,
   "id": "c44c367e",
   "metadata": {},
   "outputs": [
    {
     "data": {
      "text/plain": [
       "<AxesSubplot:>"
      ]
     },
     "execution_count": 20,
     "metadata": {},
     "output_type": "execute_result"
    },
    {
     "data": {
      "image/png": "[encoded data removed]",
      "text/plain": [
       "<Figure size 640x480 with 2 Axes>"
      ]
     },
     "metadata": {},
     "output_type": "display_data"
    }
   ],
   "source": [
    "## SNS heatmap of all features \n",
    "\n",
    "sns.heatmap(df3.corr())"
   ]
  },
  {
   "cell_type": "code",
   "execution_count": 26,
   "id": "cd0724e0",
   "metadata": {},
   "outputs": [
    {
     "data": {
      "text/plain": [
       "count    1.299688e+06\n",
       "mean     2.373618e+02\n",
       "std      3.079316e+02\n",
       "min      0.000000e+00\n",
       "25%      6.000000e+01\n",
       "50%      1.390000e+02\n",
       "75%      2.940000e+02\n",
       "max      4.088000e+03\n",
       "Name: reviewTextLength, dtype: float64"
      ]
     },
     "execution_count": 26,
     "metadata": {},
     "output_type": "execute_result"
    }
   ],
   "source": [
    "pruned_df[\"reviewTextLength\"].describe()"
   ]
  },
  {
   "cell_type": "code",
   "execution_count": null,
   "id": "ffd6f5f9",
   "metadata": {},
   "outputs": [],
   "source": []
  },
  {
   "cell_type": "code",
   "execution_count": 25,
   "id": "5bc1b9ca",
   "metadata": {},
   "outputs": [
    {
     "data": {
      "text/plain": [
       "31        -0.663660\n",
       "34         1.950558\n",
       "36         0.469709\n",
       "37        -0.686392\n",
       "38        -0.205766\n",
       "             ...   \n",
       "8648782   -0.637680\n",
       "8648840   -0.722115\n",
       "8648872   -0.446079\n",
       "8648887   -0.670155\n",
       "8648888   -0.728609\n",
       "Name: reviewTextLength, Length: 1299688, dtype: float64"
      ]
     },
     "execution_count": 25,
     "metadata": {},
     "output_type": "execute_result"
    }
   ],
   "source": [
    "## Z- score outlier detection\n",
    "\n",
    "\n",
    "## Do unique categories count\n",
    "## Detect outliers\n",
    "\n",
    "from scipy import stats\n",
    "zscore_reviewTextLength = stats.zscore(pruned_df[\"reviewTextLength\"])\n",
    "\n",
    "\n",
    "# -2<zscore_reviewTextLength<-2"
   ]
  },
  {
   "cell_type": "code",
   "execution_count": 27,
   "id": "3e5aaf36",
   "metadata": {},
   "outputs": [
    {
     "data": {
      "text/plain": [
       "count    1.299688e+06\n",
       "mean    -1.876898e-16\n",
       "std      1.000000e+00\n",
       "min     -7.708267e-01\n",
       "25%     -5.759781e-01\n",
       "50%     -3.194275e-01\n",
       "75%      1.839312e-01\n",
       "max      1.250485e+01\n",
       "Name: reviewTextLength, dtype: float64"
      ]
     },
     "execution_count": 27,
     "metadata": {},
     "output_type": "execute_result"
    }
   ],
   "source": [
    "zscore_reviewTextLength.describe()"
   ]
  },
  {
   "cell_type": "code",
   "execution_count": 29,
   "id": "4db2fff3",
   "metadata": {},
   "outputs": [
    {
     "name": "stderr",
     "output_type": "stream",
     "text": [
      "/var/folders/zj/2rrssngd05l9clypwd_bg7680000gn/T/ipykernel_12953/1613531201.py:1: SettingWithCopyWarning: \n",
      "A value is trying to be set on a copy of a slice from a DataFrame.\n",
      "Try using .loc[row_indexer,col_indexer] = value instead\n",
      "\n",
      "See the caveats in the documentation: https://pandas.pydata.org/pandas-docs/stable/user_guide/indexing.html#returning-a-view-versus-a-copy\n",
      "  pruned_df['z_sc_Review'] = zscore_reviewTextLength\n"
     ]
    },
    {
     "data": {
      "text/html": [
       "<div>\n",
       "<style scoped>\n",
       "    .dataframe tbody tr th:only-of-type {\n",
       "        vertical-align: middle;\n",
       "    }\n",
       "\n",
       "    .dataframe tbody tr th {\n",
       "        vertical-align: top;\n",
       "    }\n",
       "\n",
       "    .dataframe thead th {\n",
       "        text-align: right;\n",
       "    }\n",
       "</style>\n",
       "<table border=\"1\" class=\"dataframe\">\n",
       "  <thead>\n",
       "    <tr style=\"text-align: right;\">\n",
       "      <th></th>\n",
       "      <th>userName</th>\n",
       "      <th>gPlusUserId</th>\n",
       "      <th>rating</th>\n",
       "      <th>reviewText</th>\n",
       "      <th>categories</th>\n",
       "      <th>gPlusPlaceId</th>\n",
       "      <th>unixReviewTime</th>\n",
       "      <th>name</th>\n",
       "      <th>price</th>\n",
       "      <th>gps</th>\n",
       "      <th>closed</th>\n",
       "      <th>lat</th>\n",
       "      <th>lon</th>\n",
       "      <th>reviewTextLength</th>\n",
       "      <th>userId</th>\n",
       "      <th>placeId</th>\n",
       "      <th>z_sc_Review</th>\n",
       "    </tr>\n",
       "  </thead>\n",
       "  <tbody>\n",
       "    <tr>\n",
       "      <th>31</th>\n",
       "      <td>william spindler</td>\n",
       "      <td>100000032416892623125</td>\n",
       "      <td>4.0</td>\n",
       "      <td>Best War Wanton soup in Red Bluff</td>\n",
       "      <td>[Asian Restaurant, Chinese Restaurant]</td>\n",
       "      <td>106591714648856494903</td>\n",
       "      <td>1.394669e+09</td>\n",
       "      <td>Peking Chinese Restaurant</td>\n",
       "      <td>$$$</td>\n",
       "      <td>[40.179159, -122.236162]</td>\n",
       "      <td>False</td>\n",
       "      <td>40.179159</td>\n",
       "      <td>-122.236162</td>\n",
       "      <td>33</td>\n",
       "      <td>1.000000e+20</td>\n",
       "      <td>1.065917e+20</td>\n",
       "      <td>-0.663660</td>\n",
       "    </tr>\n",
       "    <tr>\n",
       "      <th>34</th>\n",
       "      <td>william spindler</td>\n",
       "      <td>100000032416892623125</td>\n",
       "      <td>5.0</td>\n",
       "      <td>This is a review that is long overdo. I've bee...</td>\n",
       "      <td>[European Restaurant, Italian Restaurant, Pizz...</td>\n",
       "      <td>109420033090810328045</td>\n",
       "      <td>1.394826e+09</td>\n",
       "      <td>Firehouse Pizza</td>\n",
       "      <td>$$</td>\n",
       "      <td>[40.178074, -122.235234]</td>\n",
       "      <td>False</td>\n",
       "      <td>40.178074</td>\n",
       "      <td>-122.235234</td>\n",
       "      <td>838</td>\n",
       "      <td>1.000000e+20</td>\n",
       "      <td>1.094200e+20</td>\n",
       "      <td>1.950558</td>\n",
       "    </tr>\n",
       "    <tr>\n",
       "      <th>36</th>\n",
       "      <td>Gary Roper</td>\n",
       "      <td>111167453231753492347</td>\n",
       "      <td>3.0</td>\n",
       "      <td>Everytime I call the people are not very frien...</td>\n",
       "      <td>[European Restaurant, Italian Restaurant, Pizz...</td>\n",
       "      <td>109420033090810328045</td>\n",
       "      <td>1.353827e+09</td>\n",
       "      <td>Firehouse Pizza</td>\n",
       "      <td>$$</td>\n",
       "      <td>[40.178074, -122.235234]</td>\n",
       "      <td>False</td>\n",
       "      <td>40.178074</td>\n",
       "      <td>-122.235234</td>\n",
       "      <td>382</td>\n",
       "      <td>1.111675e+20</td>\n",
       "      <td>1.094200e+20</td>\n",
       "      <td>0.469709</td>\n",
       "    </tr>\n",
       "    <tr>\n",
       "      <th>37</th>\n",
       "      <td>Darrick Ericksen</td>\n",
       "      <td>111493081926477999111</td>\n",
       "      <td>5.0</td>\n",
       "      <td>Best pizza in town by far.</td>\n",
       "      <td>[European Restaurant, Italian Restaurant, Pizz...</td>\n",
       "      <td>109420033090810328045</td>\n",
       "      <td>1.336528e+09</td>\n",
       "      <td>Firehouse Pizza</td>\n",
       "      <td>$$</td>\n",
       "      <td>[40.178074, -122.235234]</td>\n",
       "      <td>False</td>\n",
       "      <td>40.178074</td>\n",
       "      <td>-122.235234</td>\n",
       "      <td>26</td>\n",
       "      <td>1.114931e+20</td>\n",
       "      <td>1.094200e+20</td>\n",
       "      <td>-0.686392</td>\n",
       "    </tr>\n",
       "    <tr>\n",
       "      <th>38</th>\n",
       "      <td>Daniel Hernandez</td>\n",
       "      <td>111670739540794351906</td>\n",
       "      <td>4.0</td>\n",
       "      <td>mayne hungry as a mofo after get low wit dem r...</td>\n",
       "      <td>[European Restaurant, Italian Restaurant, Pizz...</td>\n",
       "      <td>109420033090810328045</td>\n",
       "      <td>1.340296e+09</td>\n",
       "      <td>Firehouse Pizza</td>\n",
       "      <td>$$</td>\n",
       "      <td>[40.178074, -122.235234]</td>\n",
       "      <td>False</td>\n",
       "      <td>40.178074</td>\n",
       "      <td>-122.235234</td>\n",
       "      <td>174</td>\n",
       "      <td>1.116707e+20</td>\n",
       "      <td>1.094200e+20</td>\n",
       "      <td>-0.205766</td>\n",
       "    </tr>\n",
       "    <tr>\n",
       "      <th>...</th>\n",
       "      <td>...</td>\n",
       "      <td>...</td>\n",
       "      <td>...</td>\n",
       "      <td>...</td>\n",
       "      <td>...</td>\n",
       "      <td>...</td>\n",
       "      <td>...</td>\n",
       "      <td>...</td>\n",
       "      <td>...</td>\n",
       "      <td>...</td>\n",
       "      <td>...</td>\n",
       "      <td>...</td>\n",
       "      <td>...</td>\n",
       "      <td>...</td>\n",
       "      <td>...</td>\n",
       "      <td>...</td>\n",
       "      <td>...</td>\n",
       "    </tr>\n",
       "    <tr>\n",
       "      <th>8648782</th>\n",
       "      <td>Joe Shepard</td>\n",
       "      <td>114674093439947536559</td>\n",
       "      <td>5.0</td>\n",
       "      <td>Not my favorite, but closest to my house.</td>\n",
       "      <td>[Video Game Store]</td>\n",
       "      <td>107746309351558167302</td>\n",
       "      <td>1.376604e+09</td>\n",
       "      <td>Game Stop</td>\n",
       "      <td>$$</td>\n",
       "      <td>[32.819241, -83.714136]</td>\n",
       "      <td>False</td>\n",
       "      <td>32.819241</td>\n",
       "      <td>-83.714136</td>\n",
       "      <td>41</td>\n",
       "      <td>1.146741e+20</td>\n",
       "      <td>1.077463e+20</td>\n",
       "      <td>-0.637680</td>\n",
       "    </tr>\n",
       "    <tr>\n",
       "      <th>8648840</th>\n",
       "      <td>Jason Brown</td>\n",
       "      <td>114674456986871638917</td>\n",
       "      <td>3.0</td>\n",
       "      <td>Very expensive!</td>\n",
       "      <td>[Pizza Restaurant, European Restaurant]</td>\n",
       "      <td>115173587425360514264</td>\n",
       "      <td>1.340071e+09</td>\n",
       "      <td>Fishtown Pizza</td>\n",
       "      <td>$$</td>\n",
       "      <td>[39.971605, -75.126877]</td>\n",
       "      <td>False</td>\n",
       "      <td>39.971605</td>\n",
       "      <td>-75.126877</td>\n",
       "      <td>15</td>\n",
       "      <td>1.146745e+20</td>\n",
       "      <td>1.151736e+20</td>\n",
       "      <td>-0.722115</td>\n",
       "    </tr>\n",
       "    <tr>\n",
       "      <th>8648872</th>\n",
       "      <td>Amy Carr</td>\n",
       "      <td>114674905157577133464</td>\n",
       "      <td>1.0</td>\n",
       "      <td>Staled by employees, clearly they needed to ma...</td>\n",
       "      <td>[Clothing Store]</td>\n",
       "      <td>112706745020560872721</td>\n",
       "      <td>1.391919e+09</td>\n",
       "      <td>Guess by Marciano</td>\n",
       "      <td>$</td>\n",
       "      <td>[41.498189, -81.49431]</td>\n",
       "      <td>False</td>\n",
       "      <td>41.498189</td>\n",
       "      <td>-81.494310</td>\n",
       "      <td>100</td>\n",
       "      <td>1.146749e+20</td>\n",
       "      <td>1.127067e+20</td>\n",
       "      <td>-0.446079</td>\n",
       "    </tr>\n",
       "    <tr>\n",
       "      <th>8648887</th>\n",
       "      <td>Mogochi Luna Moon Saica (Star Holland Tokagawa)</td>\n",
       "      <td>114674995719058628862</td>\n",
       "      <td>5.0</td>\n",
       "      <td>great food like an out drive in</td>\n",
       "      <td>[Fast Food Restaurant, Hamburger Restaurant]</td>\n",
       "      <td>103651536920568572150</td>\n",
       "      <td>1.374178e+09</td>\n",
       "      <td>Sonic Drive-In</td>\n",
       "      <td>$$$</td>\n",
       "      <td>[38.553424, -91.006496]</td>\n",
       "      <td>False</td>\n",
       "      <td>38.553424</td>\n",
       "      <td>-91.006496</td>\n",
       "      <td>31</td>\n",
       "      <td>1.146750e+20</td>\n",
       "      <td>1.036515e+20</td>\n",
       "      <td>-0.670155</td>\n",
       "    </tr>\n",
       "    <tr>\n",
       "      <th>8648888</th>\n",
       "      <td>Mogochi Luna Moon Saica (Star Holland Tokagawa)</td>\n",
       "      <td>114674995719058628862</td>\n",
       "      <td>5.0</td>\n",
       "      <td>great burgers</td>\n",
       "      <td>[Hamburger Restaurant, Fast Food Restaurant]</td>\n",
       "      <td>108487630248484037894</td>\n",
       "      <td>1.374178e+09</td>\n",
       "      <td>Burger King</td>\n",
       "      <td>$$$</td>\n",
       "      <td>[38.536159, -91.006493]</td>\n",
       "      <td>False</td>\n",
       "      <td>38.536159</td>\n",
       "      <td>-91.006493</td>\n",
       "      <td>13</td>\n",
       "      <td>1.146750e+20</td>\n",
       "      <td>1.084876e+20</td>\n",
       "      <td>-0.728609</td>\n",
       "    </tr>\n",
       "  </tbody>\n",
       "</table>\n",
       "<p>1246060 rows × 17 columns</p>\n",
       "</div>"
      ],
      "text/plain": [
       "                                                userName  \\\n",
       "31                                      william spindler   \n",
       "34                                      william spindler   \n",
       "36                                            Gary Roper   \n",
       "37                                      Darrick Ericksen   \n",
       "38                                      Daniel Hernandez   \n",
       "...                                                  ...   \n",
       "8648782                                      Joe Shepard   \n",
       "8648840                                      Jason Brown   \n",
       "8648872                                         Amy Carr   \n",
       "8648887  Mogochi Luna Moon Saica (Star Holland Tokagawa)   \n",
       "8648888  Mogochi Luna Moon Saica (Star Holland Tokagawa)   \n",
       "\n",
       "                   gPlusUserId  rating  \\\n",
       "31       100000032416892623125     4.0   \n",
       "34       100000032416892623125     5.0   \n",
       "36       111167453231753492347     3.0   \n",
       "37       111493081926477999111     5.0   \n",
       "38       111670739540794351906     4.0   \n",
       "...                        ...     ...   \n",
       "8648782  114674093439947536559     5.0   \n",
       "8648840  114674456986871638917     3.0   \n",
       "8648872  114674905157577133464     1.0   \n",
       "8648887  114674995719058628862     5.0   \n",
       "8648888  114674995719058628862     5.0   \n",
       "\n",
       "                                                reviewText  \\\n",
       "31                       Best War Wanton soup in Red Bluff   \n",
       "34       This is a review that is long overdo. I've bee...   \n",
       "36       Everytime I call the people are not very frien...   \n",
       "37                              Best pizza in town by far.   \n",
       "38       mayne hungry as a mofo after get low wit dem r...   \n",
       "...                                                    ...   \n",
       "8648782          Not my favorite, but closest to my house.   \n",
       "8648840                                    Very expensive!   \n",
       "8648872  Staled by employees, clearly they needed to ma...   \n",
       "8648887                    great food like an out drive in   \n",
       "8648888                                      great burgers   \n",
       "\n",
       "                                                categories  \\\n",
       "31                  [Asian Restaurant, Chinese Restaurant]   \n",
       "34       [European Restaurant, Italian Restaurant, Pizz...   \n",
       "36       [European Restaurant, Italian Restaurant, Pizz...   \n",
       "37       [European Restaurant, Italian Restaurant, Pizz...   \n",
       "38       [European Restaurant, Italian Restaurant, Pizz...   \n",
       "...                                                    ...   \n",
       "8648782                                 [Video Game Store]   \n",
       "8648840            [Pizza Restaurant, European Restaurant]   \n",
       "8648872                                   [Clothing Store]   \n",
       "8648887       [Fast Food Restaurant, Hamburger Restaurant]   \n",
       "8648888       [Hamburger Restaurant, Fast Food Restaurant]   \n",
       "\n",
       "                  gPlusPlaceId  unixReviewTime                       name  \\\n",
       "31       106591714648856494903    1.394669e+09  Peking Chinese Restaurant   \n",
       "34       109420033090810328045    1.394826e+09            Firehouse Pizza   \n",
       "36       109420033090810328045    1.353827e+09            Firehouse Pizza   \n",
       "37       109420033090810328045    1.336528e+09            Firehouse Pizza   \n",
       "38       109420033090810328045    1.340296e+09            Firehouse Pizza   \n",
       "...                        ...             ...                        ...   \n",
       "8648782  107746309351558167302    1.376604e+09                  Game Stop   \n",
       "8648840  115173587425360514264    1.340071e+09             Fishtown Pizza   \n",
       "8648872  112706745020560872721    1.391919e+09          Guess by Marciano   \n",
       "8648887  103651536920568572150    1.374178e+09             Sonic Drive-In   \n",
       "8648888  108487630248484037894    1.374178e+09                Burger King   \n",
       "\n",
       "        price                       gps  closed        lat         lon  \\\n",
       "31        $$$  [40.179159, -122.236162]   False  40.179159 -122.236162   \n",
       "34         $$  [40.178074, -122.235234]   False  40.178074 -122.235234   \n",
       "36         $$  [40.178074, -122.235234]   False  40.178074 -122.235234   \n",
       "37         $$  [40.178074, -122.235234]   False  40.178074 -122.235234   \n",
       "38         $$  [40.178074, -122.235234]   False  40.178074 -122.235234   \n",
       "...       ...                       ...     ...        ...         ...   \n",
       "8648782    $$   [32.819241, -83.714136]   False  32.819241  -83.714136   \n",
       "8648840    $$   [39.971605, -75.126877]   False  39.971605  -75.126877   \n",
       "8648872     $    [41.498189, -81.49431]   False  41.498189  -81.494310   \n",
       "8648887   $$$   [38.553424, -91.006496]   False  38.553424  -91.006496   \n",
       "8648888   $$$   [38.536159, -91.006493]   False  38.536159  -91.006493   \n",
       "\n",
       "         reviewTextLength        userId       placeId  z_sc_Review  \n",
       "31                     33  1.000000e+20  1.065917e+20    -0.663660  \n",
       "34                    838  1.000000e+20  1.094200e+20     1.950558  \n",
       "36                    382  1.111675e+20  1.094200e+20     0.469709  \n",
       "37                     26  1.114931e+20  1.094200e+20    -0.686392  \n",
       "38                    174  1.116707e+20  1.094200e+20    -0.205766  \n",
       "...                   ...           ...           ...          ...  \n",
       "8648782                41  1.146741e+20  1.077463e+20    -0.637680  \n",
       "8648840                15  1.146745e+20  1.151736e+20    -0.722115  \n",
       "8648872               100  1.146749e+20  1.127067e+20    -0.446079  \n",
       "8648887                31  1.146750e+20  1.036515e+20    -0.670155  \n",
       "8648888                13  1.146750e+20  1.084876e+20    -0.728609  \n",
       "\n",
       "[1246060 rows x 17 columns]"
      ]
     },
     "execution_count": 29,
     "metadata": {},
     "output_type": "execute_result"
    }
   ],
   "source": [
    "# Outliers are the entries which have review text length -2<zsc<2\n",
    "\n",
    "pruned_df['z_sc_Review'] = zscore_reviewTextLength\n",
    "pruned_df[(-2<pruned_df['z_sc_Review']) & (pruned_df['z_sc_Review']<2)]"
   ]
  },
  {
   "cell_type": "code",
   "execution_count": null,
   "id": "36b81398",
   "metadata": {},
   "outputs": [],
   "source": []
  },
  {
   "cell_type": "code",
   "execution_count": 31,
   "id": "cc36515c",
   "metadata": {},
   "outputs": [],
   "source": [
    "from math import e\n",
    "\n",
    "def pandas_entropy(column, base=None):\n",
    "    vc = pd.Series(column).value_counts(normalize=True, sort=False)\n",
    "    base = e if base is None else base\n",
    "    return -(vc * np.log(vc)/np.log(base)).sum()"
   ]
  },
  {
   "cell_type": "code",
   "execution_count": 34,
   "id": "8c250398",
   "metadata": {},
   "outputs": [
    {
     "data": {
      "text/plain": [
       "1.4216977063054153"
      ]
     },
     "execution_count": 34,
     "metadata": {},
     "output_type": "execute_result"
    }
   ],
   "source": [
    "pandas_entropy(pruned_df['rating'])"
   ]
  },
  {
   "cell_type": "code",
   "execution_count": null,
   "id": "789940cb",
   "metadata": {},
   "outputs": [],
   "source": []
  },
  {
   "cell_type": "code",
   "execution_count": null,
   "id": "b0272163",
   "metadata": {},
   "outputs": [],
   "source": []
  },
  {
   "cell_type": "code",
   "execution_count": null,
   "id": "5bc04ad6",
   "metadata": {},
   "outputs": [],
   "source": []
  },
  {
   "cell_type": "code",
   "execution_count": 33,
   "id": "a4f806c1",
   "metadata": {},
   "outputs": [
    {
     "data": {
      "text/plain": [
       "6.423664854916784"
      ]
     },
     "execution_count": 33,
     "metadata": {},
     "output_type": "execute_result"
    }
   ],
   "source": [
    "pandas_entropy(pruned_df['reviewTextLength'])"
   ]
  },
  {
   "cell_type": "code",
   "execution_count": 35,
   "id": "d012d46c",
   "metadata": {},
   "outputs": [
    {
     "data": {
      "text/plain": [
       "31                    [Asian Restaurant, Chinese Restaurant]\n",
       "34         [European Restaurant, Italian Restaurant, Pizz...\n",
       "36         [European Restaurant, Italian Restaurant, Pizz...\n",
       "37         [European Restaurant, Italian Restaurant, Pizz...\n",
       "38         [European Restaurant, Italian Restaurant, Pizz...\n",
       "                                 ...                        \n",
       "8648782                                   [Video Game Store]\n",
       "8648840              [Pizza Restaurant, European Restaurant]\n",
       "8648872                                     [Clothing Store]\n",
       "8648887         [Fast Food Restaurant, Hamburger Restaurant]\n",
       "8648888         [Hamburger Restaurant, Fast Food Restaurant]\n",
       "Name: categories, Length: 1299688, dtype: object"
      ]
     },
     "execution_count": 35,
     "metadata": {},
     "output_type": "execute_result"
    }
   ],
   "source": [
    "pruned_df['categories']"
   ]
  },
  {
   "cell_type": "code",
   "execution_count": null,
   "id": "d4992c51",
   "metadata": {},
   "outputs": [],
   "source": []
  },
  {
   "cell_type": "code",
   "execution_count": null,
   "id": "dee44f8f",
   "metadata": {},
   "outputs": [],
   "source": []
  },
  {
   "cell_type": "code",
   "execution_count": null,
   "id": "65343dcd",
   "metadata": {},
   "outputs": [],
   "source": []
  }
 ],
 "metadata": {
  "kernelspec": {
   "display_name": "Python 3 (ipykernel)",
   "language": "python",
   "name": "python3"
  },
  "language_info": {
   "codemirror_mode": {
    "name": "ipython",
    "version": 3
   },
   "file_extension": ".py",
   "mimetype": "text/x-python",
   "name": "python",
   "nbconvert_exporter": "python",
   "pygments_lexer": "ipython3",
   "version": "3.10.6"
  }
 },
 "nbformat": 4,
 "nbformat_minor": 5
}
