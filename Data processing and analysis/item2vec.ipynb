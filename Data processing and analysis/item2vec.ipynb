{
 "cells": [
  {
   "cell_type": "code",
   "execution_count": 1,
   "id": "d8783fec-5031-418d-a91b-5ee525d257f7",
   "metadata": {},
   "outputs": [],
   "source": [
    "import numpy as np\n",
    "import pandas as pd\n",
    "from gensim.models import Word2Vec"
   ]
  },
  {
   "cell_type": "code",
   "execution_count": 2,
   "id": "b3c0d493-ec75-4cc0-99cb-efec90036662",
   "metadata": {},
   "outputs": [],
   "source": [
    "df = pd.read_pickle(\"../../Datasets/pruned_data.pkl\")"
   ]
  },
  {
   "cell_type": "code",
   "execution_count": 3,
   "id": "2cbc590b-8781-41ac-bf58-dee7e0299a1c",
   "metadata": {},
   "outputs": [],
   "source": [
    "df_grouped = df.groupby(\"gPlusUserId\").agg({\"gPlusPlaceId\": list, \"unixReviewTime\": list}).reset_index()"
   ]
  },
  {
   "cell_type": "code",
   "execution_count": 4,
   "id": "a91eb29b-8d1c-459a-8d59-f980f4b03680",
   "metadata": {},
   "outputs": [],
   "source": [
    "df_grouped[\"sorted_places_w_timestamp\"] = df_grouped.apply(\n",
    "    lambda x: sorted(list(zip(x[\"gPlusPlaceId\"], x[\"unixReviewTime\"])), \n",
    "                     key=lambda item: item[1]), \n",
    "    axis=1)\n",
    "df_grouped[\"sorted_places\"] = df_grouped.apply(lambda x: [i[0] for i in x[\"sorted_places_w_timestamp\"]], axis=1)\n",
    "df_grouped[\"size\"] = df_grouped.apply(lambda x: len(x[\"sorted_places\"]), axis=1) \n",
    "df_grouped = df_grouped[df_grouped[\"size\"] >= 7]"
   ]
  },
  {
   "cell_type": "code",
   "execution_count": 5,
   "id": "b1c0b6e6-7b3a-4ab6-9fdc-024de509da7b",
   "metadata": {},
   "outputs": [],
   "source": [
    "words = df_grouped[\"sorted_places\"].tolist()"
   ]
  },
  {
   "cell_type": "code",
   "execution_count": 6,
   "id": "358aa136-1309-4f6e-a16d-e50e86887a6e",
   "metadata": {},
   "outputs": [],
   "source": [
    "del df_grouped"
   ]
  },
  {
   "cell_type": "code",
   "execution_count": null,
   "id": "0684b62c-5b4a-4e5a-9e0b-b8dd8a6fc4b5",
   "metadata": {},
   "outputs": [],
   "source": []
  },
  {
   "cell_type": "code",
   "execution_count": null,
   "id": "a9911a2f-f978-4106-a27d-e6eebb9e5b7b",
   "metadata": {},
   "outputs": [],
   "source": []
  },
  {
   "cell_type": "code",
   "execution_count": 7,
   "id": "081709ea-175a-4faf-b233-a0d9b4f6ef5b",
   "metadata": {},
   "outputs": [],
   "source": [
    "model_i2v = Word2Vec(words,\n",
    "                     min_count=5,  # Words/items with fewer instances are discarded\n",
    "                     vector_size=32,  # Model dimensionality\n",
    "                     window=3,  # Window size\n",
    "                     sg=1,  # Skip-gram model\n",
    "                     negative=2,\n",
    "                     sample=1e-4,\n",
    "                     epochs=10)"
   ]
  },
  {
   "cell_type": "code",
   "execution_count": 8,
   "id": "680e8b52-0504-4216-a5d6-4e3459b7b5b6",
   "metadata": {},
   "outputs": [],
   "source": [
    "df_exploded = df.explode(\"categories\")\n",
    "df_grouped2 = df_exploded.groupby(\"categories\").agg({\"gPlusPlaceId\": list, \"unixReviewTime\": list}).reset_index()\n",
    "df_grouped2[\"sorted_places_w_timestamp\"] = df_grouped2.apply(\n",
    "    lambda x: sorted(list(zip(x[\"gPlusPlaceId\"], x[\"unixReviewTime\"])), \n",
    "                     key=lambda item: item[1]), \n",
    "    axis=1)\n",
    "df_grouped2[\"sorted_places\"] = df_grouped2.apply(lambda x: [i[0] for i in x[\"sorted_places_w_timestamp\"]], axis=1)\n",
    "df_categories_places = df_grouped2[[\"categories\", \"sorted_places\"]]"
   ]
  },
  {
   "cell_type": "code",
   "execution_count": 9,
   "id": "b337c0c9-555e-4505-9880-05d1ddfebd5b",
   "metadata": {},
   "outputs": [],
   "source": [
    "category_item_map = {key: list(val) for key, val in zip(\n",
    "    df_categories_places[\"categories\"].tolist(), df_categories_places[\"sorted_places\"].tolist())}"
   ]
  },
  {
   "cell_type": "code",
   "execution_count": 10,
   "id": "8b099da2-e594-4ad9-be8c-fa76035c37d0",
   "metadata": {},
   "outputs": [],
   "source": [
    "category_vectors = {}\n",
    "for key in category_item_map:\n",
    "    res = np.array([0.] * 32)\n",
    "    count = 0\n",
    "    for item in category_item_map[key]:\n",
    "        if item in model_i2v.wv:\n",
    "            res += model_i2v.wv[item] / np.linalg.norm(model_i2v.wv[item])\n",
    "            count += 1\n",
    "    if count > 0:\n",
    "        category_vectors[key] = res / count"
   ]
  },
  {
   "cell_type": "code",
   "execution_count": 11,
   "id": "1bb5c50c-1652-4dbd-96de-e3b852a48fbb",
   "metadata": {},
   "outputs": [],
   "source": [
    "cosine_distance = lambda x, y: np.sum(x * y)"
   ]
  },
  {
   "cell_type": "code",
   "execution_count": 12,
   "id": "3e446d14-f9d0-46f9-9f0b-823c52d25957",
   "metadata": {},
   "outputs": [],
   "source": [
    "def get_top_n_similar(item, n=10):\n",
    "    item_vector = category_vectors[item]\n",
    "    dist = []\n",
    "    \n",
    "    for item2 in category_vectors:\n",
    "        if item == item2:\n",
    "            continue\n",
    "        item2_vector = category_vectors[item2]\n",
    "    \n",
    "        dist.append((item2, cosine_distance(item_vector, item2_vector)))\n",
    "    return sorted(dist, key=lambda x: -x[1])[:n]"
   ]
  },
  {
   "cell_type": "code",
   "execution_count": 13,
   "id": "28329e3d-ebe3-4dd4-8323-c3ca49b623f1",
   "metadata": {
    "collapsed": true,
    "jupyter": {
     "outputs_hidden": true
    },
    "tags": []
   },
   "outputs": [
    {
     "data": {
      "text/plain": [
       "dict_keys(['ATM Location', 'Adult Entertainment Club', 'Adult Entertainment Store', 'Afghani Restaurant', 'African Restaurant', 'Alsace Restaurant', 'Alternative Fuel Station', 'American Restaurant', 'Amphitheater', 'Amusement Center', 'Amusement Park', 'Andalusian Restaurant', 'Antique Furniture Store', 'Antique Store', 'Apartment Building', 'Apartment Complex', 'Apartment Rental Agency', 'Appliance Repair Service', 'Appliance Store', 'Appliances', 'Aquarium', 'Architectural Salvage Store', 'Area', 'Arena', 'Argentinian Restaurant', 'Art Center', 'Art Gallery', 'Art Museum', 'Art Supply Store', 'Arts Organization', 'Asian Fusion Restaurant', 'Asian Grocery Store', 'Asian Restaurant', 'Asturian Restaurant', 'Attraction', 'Audio Visual Equipment...', 'Auditorium', 'Australian Restaurant', 'Austrian Restaurant', 'Authentic Japanese  Restaurant', 'Auto Parts Store', 'Baby Clothing Store', 'Baby Store', 'Bagel Shop', 'Bait Shop', 'Bakery', 'Balloon Store', 'Ballroom', 'Banquet Hall', 'Bar', 'Bar & Grill', 'Barbecue Restaurant', 'Barber Supply Store', 'Basque Restaurant', 'Bathroom Supply Store', 'Beach Resort', 'Beauty Salon', 'Beauty Supply Store', 'Bedding Store', 'Bedroom Furniture Store', 'Beer Distributor', 'Beer Store', 'Belgian Restaurant', 'Beverage Distributor', 'Beverages', 'Bicycle Rental Service', 'Bicycle Repair Shop', 'Bicycle Shop', 'Bingo Hall', 'Bistro', 'Blues Club', 'Boat Club', 'Boat Tour Agency', 'Book Store', 'Boot Store', 'Botanical Garden', 'Boutique', 'Boutique Hotel', 'Bowling Alley', 'Box Lunch Supplier', 'Brasserie', 'Brazilian Restaurant', 'Breakfast Restaurant', 'Brewery', 'Brewing Supply Store', 'Brewpub', 'British Restaurant', 'Brunch Restaurant', 'Buddhist Temple', 'Buffet Restaurant', 'Building', 'Burmese Restaurant', 'Burrito Restaurant', 'Business Center', 'Butcher Shop', 'Cafe', 'Cafeterías', 'Cajun Restaurant', 'Cake Makers and Decorators', 'Cake Shop', 'Californian Restaurant', 'Cambodian Restaurant', 'Camera Repair Shop', 'Camera Store', 'Camping Store', 'Canadian Restaurant', 'Candy Store', 'Canoe & Kayak Store', 'Cantonese Restaurant', 'Caribbean Restaurant', 'Carpet Store', 'Cars', 'Casino', 'Catalonian Restaurant', 'Caterer', 'Catering', 'Cave', 'Cell Phone Store', 'Central American Restaurant', 'Cheese Shop', 'Cheesesteak Restaurant', 'Chicken Restaurant', 'Chicken Wings Restaurant', \"Children's Clothing Store\", \"Children's Furniture Store\", \"Children's Museum\", 'Chinese Restaurant', 'Chinese Supermarket', 'Chocolate Shop', 'Chophouse Restaurant', 'Cigar Shop', 'Circus', 'Clothing', 'Clothing Alteration Service', 'Clothing Store', 'Club', 'Cocktail Bar', 'Coffee Houses & Cafes', 'Coffee Shop', 'Coffee Store', 'Coin Dealer', 'Collectibles Store', 'Colombian Restaurant', 'Comedy Club', 'Comic Book Store', 'Company', 'Computer Repair Service', 'Computer Store', 'Concert Hall', 'Conference Center', 'Conference Hotel', 'Consignment Shop', 'Contemporary Louisiana...', 'Continental Restaurant', 'Convenience Store', 'Convention Center', 'Cookie Shop', 'Coral Reef', 'Corporate Campus', 'Corporate Headquarters', 'Cosmetics Store', 'Costume Rental Service', 'Costume Store', 'Crab House', 'Craft Store', 'Creole Restaurant', 'Cruise Line Company', 'Crêperie', 'Cuban Restaurant', 'Culinary School', 'Cultural Center', 'Culture', 'Czech Restaurant', 'DJ', 'DVD Store', 'Dairy Farm', 'Dairy Store', 'Dance Hall', 'Data Recovery Service', 'Day Spa', 'Deli', 'Delicatessens', 'Delivery Restaurant', 'Department Store', 'Desert', 'Dessert Restaurant', 'Dessert Shop', 'Dim Sum Restaurant', 'Diner', 'Dinner Theater', 'Discount Store', 'Dock', 'Doll Store', 'Dominican Restaurant', 'Donations Center', 'Donut Shop', 'Door Supplier', 'Down Home Cooking Restaurant', 'Dress Shop', 'Drug Store', 'Dumpling Restaurant', 'Dutch Restaurant', 'East African Restaurant', 'Eastern European Restaurant', 'Eatery', 'Eating places', 'Eclectic Restaurant', 'Education', 'Egyptian Restaurant', 'Electronic Parts Supplier', 'Electronics Store', 'English Restaurant', 'Entertainment', 'Entertainment and Recreation', 'Entretenimiento', 'Eritrean Restaurant', 'Espresso Bar', 'Ethiopian Restaurant', 'Ethnic Restaurant', 'European Restaurant', 'Event Management Company', 'Event Planner', 'Event Ticket Seller', 'Event Venue', 'Extended Stay Hotel', 'Eye Care Center', 'Fair', 'Falafel Restaurant', 'Family Restaurant', 'Farm', 'Farm Shop', \"Farmers' Market\", 'Fashion Accessories Store', 'Fashion Designer', 'Fast Food Restaurant', 'Ferry Service', 'Filipino Restaurant', 'Fine Dining Restaurant', 'First Aid Station', 'Fish & Chips Restaurant', 'Fish and Chips Takeaway', 'Fish and Seafood Restaurant', 'Fishing Pier', 'Flea Market', 'Flooring Store', 'Floridian Restaurant', 'Florist', 'Fondue Restaurant', 'Food', 'Food Court', 'Food Delivery', 'Food Products Supplier', 'Food Service', 'Food Store', 'Foods-carry Out', 'French Restaurant', 'French Steakhouse Restaurant', 'Frozen Dessert Supplier', 'Frozen Yogurt Shop', 'Function Room Facility', 'Furniture', 'Furniture Store', 'Gambling Area', 'Game Store', 'Garden', 'Garden Center', 'Gas Station', 'Gastropub', 'Gay Bar', 'General Store', 'German Restaurant', 'Gift Basket Store', 'Gift Shop', 'Gluten-Free Restaurant', 'Golf Course', 'Gourmet Grocery Store', 'Greek Restaurant', 'Greeting Card Shop', 'Grill Store', 'Grocery Store', 'Grocery Store or Supermarket', 'Guitar Store', 'Gym', 'Gymnastics Center', 'Haitian Restaurant', 'Hall', 'Ham Shop', 'Hamburger Restaurant', 'Hardware Store', 'Hat Shop', 'Haute French Restaurant', 'Hawaiian Restaurant', 'Health Food Restaurant', 'Health Food Store', 'Hearing Aid Store', 'Herb Shop', 'Historical Landmark', 'Historical Place', 'History Museum', 'Hoagie Restaurant', 'Home Goods Store', 'Home Improvement Store', 'Hookah Bar', 'Hospital', 'Hostel', 'Hot Dog Restaurant', 'Hot Dog Stand', 'Hotel', 'Hunan Restaurant', 'Hungarian Restaurant', 'Ice Cream Shop', 'Ice Skating Rink', 'Indian Reservation', 'Indian Restaurant', 'Indian Takeaway', 'Indonesian Restaurant', 'Indoor Lodging', 'Interior Decoration', 'Internet Cafe', 'Invitation Printing Service', 'Irish Pub', 'Irish Restaurant', 'Israeli Restaurant', 'Italian Grocery Store', 'Italian Restaurant', 'Izakaya Restaurant', 'Jamaican Restaurant', 'Japanese Cuisine', 'Japanese Curry Restaurant', 'Japanese Grocery Store', 'Japanese Restaurant', 'Japanese Steakhouse', 'Jazz Club', 'Jeweler', 'Jewelry', 'Jewelry Designer', 'Jewelry Store', 'Jewish Restaurant', 'Juice Shop', 'Karaoke Bar', 'Key Duplication Service', 'Kitchen Supply Store', 'Knit Shop', 'Korean Barbecue Restaurant', 'Korean Restaurant', 'Kosher Restaurant', 'Laotian Restaurant', 'Laser Tag Center', 'Latin American Restaurant', 'Laundromat', 'Laundry', 'Leather Goods Store', 'Lebanese Restaurant', 'Linens Store', 'Lingerie Store', 'Liquor Store', 'Live Music Venue', 'Lobster Restaurant', 'Lodge', 'Lounge', 'Luggage Store', 'Lumber Store', 'Luxury Hotel', 'Macrobiotic Restaurant', 'Madrilian Restaurant', 'Mailing Service', 'Malaysian Restaurant', 'Mandarin Restaurant', 'Manufacturer', 'Marina', 'Market', 'Market Operator', 'Maternity Store', 'Mattress Store', 'Meat Packer', 'Mediterranean Restaurant', 'Meeting Room', \"Men's Clothing Store\", 'Mexican Restaurant', 'Middle Eastern Restaurant', 'Milk Delivery Service', 'Miniature Golf Course', 'Mobile Phone Repair Shop', 'Modern Art Museum', 'Modern Australian Restaurant', 'Modern British Restaurant', 'Modern European Restaurant', 'Modern French Restaurant', 'Mongolian Barbecue Restaurant', 'Monument', 'Moroccan Restaurant', 'Movie Rental', 'Movie Theater', 'Museum', 'Music Instruction', 'Music Store', 'Native American Restaurant', 'Natural Foods Store', 'Natural History Museum', 'Neapolitan Restaurant', 'Nepalese Restaurant', 'New American Restaurant', 'New England Restaurant', 'New Zealand Restaurant', 'Night Club', 'Nightlife', 'Non-Profit Organization', 'Noodle Shop', 'North African Restaurant', 'Northern Italian Restaurant', 'Novelties Store', 'Nuevo Latino Restaurant', 'Obanzai Restaurant', 'Off Track Betting Shop', 'Office', 'Office Supply Store', 'Optician', 'Optometrist', 'Organic Restaurant', 'Outdoor Furniture Store', 'Outdoor Sports Store', 'Oyster Bar Restaurant', 'Oyster Supplier', 'Pacific Northwest Restaurant...', 'Pacific Rim Restaurant', 'Packaging Supply Store', 'Pakistani Restaurant', 'Pan-Asian Restaurant', 'Pan-Latin Restaurant', 'Pancake Restaurant', 'Park', 'Parking Lot', 'Party', 'Party Planner', 'Party Store', 'Pasta Shop', 'Pastry Shop', 'Patisserie', 'Pawn Shop', 'Pennsylvania Dutch Restaurant', 'Performing Arts Group', 'Performing Arts Theater', 'Perfume Store', 'Persian Restaurant', 'Personal Trainer', 'Peruvian Restaurant', 'Pet Store', 'Pet Supply Store', 'Pharmacy', 'Photo Shop', 'Physical Fitness Program', 'Piano Bar', 'Picnic Ground', 'Picture Frame Shop', 'Pie Shop', 'Pier', 'Pizza Delivery', 'Pizza Restaurant', 'Pizza Takeout', 'Places of Interest', 'Planetarium', 'Plant Nursery', 'Playground', 'Plumbing Supply Store', 'Polish Restaurant', 'Polynesian Restaurant', 'Pool Hall', 'Popcorn Store', 'Portrait Studio', 'Portuguese Restaurant', 'Post Office', 'Poster Store', 'Po’ Boys Restaurant', 'Pretzel Store', 'Produce Market', 'Produce Wholesaler', 'Professional Services', 'Pub', 'Public Beach', 'Puerto Rican Restaurant', 'Ramen Restaurant', 'Record Store', 'Recording Studio', 'Recreation', 'Rehearsal Studio', 'Rental', 'Reservation', 'Resort', 'Restaurant', 'Restaurant or Cafe', 'Restaurante de cocina creativa', 'Restaurants', 'Restaurants - Breweries...', 'Restaurants - Caterers', 'Restaurants - Italian', 'Restaurants: Fast Food And...', 'Retail Stores - Electronics', 'Running Store', 'Russian Restaurant', 'Salad Shop', 'Salvadoran Restaurant', 'Sandwich Shop', 'Scandinavian Restaurant', 'Science Museum', 'Seafood', 'Seafood Market', 'Seafood Restaurant', 'Seafood Wholesaler', 'Serbian Restaurant', 'Service Station', 'Shanghainese Restaurant', 'Shoe Store', 'Shoes', 'Shopping Mall', 'Sichuan Restaurant', 'Singaporean Restaurant', 'Skate Shop', 'Ski Rental Service', 'Skin Care Clinic', 'Small Plates Restaurant', 'Snack Bar', 'Snowboard Shop', 'Soba Noodle Shop', 'Soccer Club', 'Software Company', 'Soul Food Restaurant', 'Soup Restaurant', 'Soup Shop', 'South African Restaurant', 'South American Restaurant', 'South Asian Restaurant', 'Southeast Asian Restaurant', 'Southern Italian Restaurant', 'Southern Restaurant (US)', 'Southwest France Restaurant', 'Southwestern Restaurant (US)', 'Souvenir Store', 'Spa', 'Spa and Health Club', 'Spanish Restaurant', 'Spice Store', 'Sporting Goods Store', 'Sports', 'Sports Bar', 'Sports Club', 'Sports Complex', 'Sportswear Store', 'Sri Lankan Restaurant', 'Stadium', 'Steak House', 'Stereo Store', 'Store', 'Stores and Shopping', 'Supermarket', 'Surf Shop', 'Surplus Store', 'Sushi Restaurant', 'Swedish Restaurant', 'Swimwear Store', 'Swiss Restaurant', 'Syrian Restaurant', 'T-shirt Store', 'Table Tennis Facility', 'Taco Restaurant', 'Tailor', 'Taiwanese Restaurant', 'Takeout Restaurant', 'Tapas Bar', 'Tapas Restaurant', 'Tea House', 'Tea Store', 'Tea and Coffee Merchant', 'Telephone Company', 'Teppanyaki Restaurant', 'Tex-Mex Restaurant', 'Thai Restaurant', 'Theme Park', 'Thrift Store', 'Tienda Departamental', 'Tire Shop', 'Tobacco Shop', 'Tourist Attraction', 'Tower', 'Toy Store', 'Traditional American...', 'Train Station', 'Translator', 'Transportation Service', 'Travel', 'Truck Stop', 'Tunisian Restaurant', 'Turkish Restaurant', 'Tuscan Restaurant', 'Tutoring Service', 'Tuxedo Shop', 'Ukrainian Restaurant', 'Used Book Store', 'Used CD Store', 'Used Clothing Store', 'Used Furniture Store', 'Valencian Restaurant', 'Variety Store', 'Vegan Restaurant', 'Vegetarian Restaurant', 'Venetian Restaurant', 'Venezuelan Restaurant', 'Video Arcade', 'Video Game Store', 'Video Store', 'Vietnamese Restaurant', 'Vintage Clothing Store', 'Vitamin & Supplements Store', 'Warehouse', 'Watch Store', 'Water Park', 'Wedding Bakery', 'Wedding Venue', 'Weddings', 'Western Apparel Store', 'Wholesale Bakery', 'Wholesale Club', 'Wholesaler', 'Wi-Fi Spot', 'Wildlife Refuge', 'Wine Bar', 'Wine Storage Facility', 'Wine Store', 'Winemaking Supply Store', 'Winery', \"Women's Clothing Store\", 'Yakitori Restaurant', 'Yarn Store', 'Yemenite Restaurant', 'Zoo'])"
      ]
     },
     "execution_count": 13,
     "metadata": {},
     "output_type": "execute_result"
    }
   ],
   "source": [
    "category_vectors.keys()"
   ]
  },
  {
   "cell_type": "code",
   "execution_count": 14,
   "id": "3eeee943-b06c-4e3c-ac61-3a3a7792b898",
   "metadata": {},
   "outputs": [
    {
     "ename": "KeyError",
     "evalue": "'Refrigerator Repair Service'",
     "output_type": "error",
     "traceback": [
      "\u001b[0;31m---------------------------------------------------------------------------\u001b[0m",
      "\u001b[0;31mKeyError\u001b[0m                                  Traceback (most recent call last)",
      "Cell \u001b[0;32mIn [14], line 1\u001b[0m\n\u001b[0;32m----> 1\u001b[0m get_top_n_similar(\u001b[38;5;124m\"\u001b[39m\u001b[38;5;124mRefrigerator Repair Service\u001b[39m\u001b[38;5;124m\"\u001b[39m)\n",
      "Cell \u001b[0;32mIn [12], line 2\u001b[0m, in \u001b[0;36mget_top_n_similar\u001b[0;34m(item, n)\u001b[0m\n\u001b[1;32m      1\u001b[0m \u001b[38;5;28;01mdef\u001b[39;00m \u001b[38;5;21mget_top_n_similar\u001b[39m(item, n\u001b[38;5;241m=\u001b[39m\u001b[38;5;241m10\u001b[39m):\n\u001b[0;32m----> 2\u001b[0m     item_vector \u001b[38;5;241m=\u001b[39m \u001b[43mcategory_vectors\u001b[49m\u001b[43m[\u001b[49m\u001b[43mitem\u001b[49m\u001b[43m]\u001b[49m\n\u001b[1;32m      3\u001b[0m     dist \u001b[38;5;241m=\u001b[39m []\n\u001b[1;32m      5\u001b[0m     \u001b[38;5;28;01mfor\u001b[39;00m item2 \u001b[38;5;129;01min\u001b[39;00m category_vectors:\n",
      "\u001b[0;31mKeyError\u001b[0m: 'Refrigerator Repair Service'"
     ]
    }
   ],
   "source": [
    "get_top_n_similar(\"Refrigerator Repair Service\")"
   ]
  },
  {
   "cell_type": "code",
   "execution_count": 15,
   "id": "f7b46a29-f0f3-4612-aa42-5e807abf7902",
   "metadata": {},
   "outputs": [
    {
     "data": {
      "text/plain": [
       "[('Coffee Houses & Cafes', 0.10497498688926032),\n",
       " ('Translator', 0.09695366041832937),\n",
       " ('Hungarian Restaurant', 0.0919454877851016),\n",
       " ('Vitamin & Supplements Store', 0.0892598346117201),\n",
       " ('Oyster Supplier', 0.0862577005386741),\n",
       " ('Milk Delivery Service', 0.08202923713396043),\n",
       " ('Burmese Restaurant', 0.0795552206206824),\n",
       " ('Soccer Club', 0.07859934684518947),\n",
       " ('Carpet Store', 0.07754458384758417),\n",
       " ('Ski Rental Service', 0.07529227548622622)]"
      ]
     },
     "execution_count": 15,
     "metadata": {},
     "output_type": "execute_result"
    }
   ],
   "source": [
    "get_top_n_similar(\"Indian Restaurant\")"
   ]
  },
  {
   "cell_type": "code",
   "execution_count": 16,
   "id": "67c20035-706b-461c-8502-59ac39d41b65",
   "metadata": {},
   "outputs": [
    {
     "data": {
      "text/plain": [
       "[('Corporate Headquarters', 0.06486869320704843),\n",
       " ('Recording Studio', 0.06099483107730305),\n",
       " ('Translator', 0.059407667381143565),\n",
       " ('Coffee Houses & Cafes', 0.056910979138577594),\n",
       " ('Gymnastics Center', 0.05571083571803759),\n",
       " ('Key Duplication Service', 0.05400684916402328),\n",
       " ('Coral Reef', 0.05399244879223549),\n",
       " ('Milk Delivery Service', 0.05311799996767201),\n",
       " ('Central American Restaurant', 0.052252953996881984),\n",
       " ('Used Book Store', 0.05105084300095431)]"
      ]
     },
     "execution_count": 16,
     "metadata": {},
     "output_type": "execute_result"
    }
   ],
   "source": [
    "get_top_n_similar(\"Restaurant\")"
   ]
  },
  {
   "cell_type": "code",
   "execution_count": 17,
   "id": "1e8267eb-b025-4e64-a9fe-a1230e07115b",
   "metadata": {},
   "outputs": [
    {
     "data": {
      "text/plain": [
       "[('Central American Restaurant', 0.05381481938222939),\n",
       " ('Carpet Store', 0.05094992921229254),\n",
       " ('Obanzai Restaurant', 0.05013049168596421),\n",
       " ('Coral Reef', 0.04496922362668111),\n",
       " ('Mattress Store', 0.043342252042404675),\n",
       " ('Ukrainian Restaurant', 0.04211235827508184),\n",
       " ('Jewelry Store', 0.04015358070478324),\n",
       " ('Bedroom Furniture Store', 0.0389274134741136),\n",
       " ('Farm', 0.038154525327837654),\n",
       " ('Watch Store', 0.037483688988169755)]"
      ]
     },
     "execution_count": 17,
     "metadata": {},
     "output_type": "execute_result"
    }
   ],
   "source": [
    "get_top_n_similar(\"American Restaurant\")"
   ]
  },
  {
   "cell_type": "code",
   "execution_count": 18,
   "id": "737189af-6cec-4f90-a1e9-bdb788b6415f",
   "metadata": {},
   "outputs": [
    {
     "data": {
      "text/plain": [
       "[('Hoagie Restaurant', 0.49837639016774915),\n",
       " ('Business Center', 0.49807418120460384),\n",
       " ('Flooring Store', 0.3928751669952993),\n",
       " ('Weddings', 0.3573086821604782),\n",
       " ('Gym', 0.34157371333742537),\n",
       " ('Snowboard Shop', 0.33255843070544366),\n",
       " ('Farm Shop', 0.3321675605569769),\n",
       " ('Appliances', 0.30288871007970536),\n",
       " ('Mobile Phone Repair Shop', 0.30288871007970536),\n",
       " ('Tutoring Service', 0.2940834392038135)]"
      ]
     },
     "execution_count": 18,
     "metadata": {},
     "output_type": "execute_result"
    }
   ],
   "source": [
    "get_top_n_similar(\"ATM Location\")"
   ]
  },
  {
   "cell_type": "code",
   "execution_count": null,
   "id": "ed5fa698-9fd6-4ca7-a649-fbfb029f9f38",
   "metadata": {},
   "outputs": [],
   "source": []
  }
 ],
 "metadata": {
  "kernelspec": {
   "display_name": "Python 3 (ipykernel)",
   "language": "python",
   "name": "python3"
  },
  "language_info": {
   "codemirror_mode": {
    "name": "ipython",
    "version": 3
   },
   "file_extension": ".py",
   "mimetype": "text/x-python",
   "name": "python",
   "nbconvert_exporter": "python",
   "pygments_lexer": "ipython3",
   "version": "3.10.6"
  }
 },
 "nbformat": 4,
 "nbformat_minor": 5
}
